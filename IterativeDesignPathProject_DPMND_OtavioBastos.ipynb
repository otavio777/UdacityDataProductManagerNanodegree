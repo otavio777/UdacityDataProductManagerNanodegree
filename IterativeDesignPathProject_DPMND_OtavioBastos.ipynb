{
  "nbformat": 4,
  "nbformat_minor": 0,
  "metadata": {
    "colab": {
      "name": "IterativeDesignPathProject_DPMND_OtavioBastos.ipynb",
      "provenance": [],
      "collapsed_sections": [],
      "toc_visible": true
    },
    "kernelspec": {
      "name": "python3",
      "display_name": "Python 3"
    },
    "language_info": {
      "name": "python"
    }
  },
  "cells": [
    {
      "cell_type": "markdown",
      "metadata": {
        "id": "rj29CZoRCldk"
      },
      "source": [
        "# Applying Iterative Design Principles to a Live Product\n",
        "Otávio Leite Bastos\n",
        "\n",
        "Data Product Management Nanodegree\n",
        "\n",
        "Udacity"
      ]
    },
    {
      "cell_type": "markdown",
      "metadata": {
        "id": "7DatgESnC0BZ"
      },
      "source": [
        "## Data Exploration"
      ]
    },
    {
      "cell_type": "markdown",
      "metadata": {
        "id": "MZp8dp9YC6kv"
      },
      "source": [
        "### Mounting Google Drive"
      ]
    },
    {
      "cell_type": "code",
      "metadata": {
        "colab": {
          "base_uri": "https://localhost:8080/"
        },
        "id": "ALNivoZnjE_d",
        "outputId": "41efddaf-5ed5-4d15-94e9-2804c2225d54"
      },
      "source": [
        "from google.colab import drive\n",
        "drive.mount('/content/drive', force_remount=True)"
      ],
      "execution_count": null,
      "outputs": [
        {
          "output_type": "stream",
          "text": [
            "Mounted at /content/drive\n"
          ],
          "name": "stdout"
        }
      ]
    },
    {
      "cell_type": "markdown",
      "metadata": {
        "id": "MbYGBXRQC-JK"
      },
      "source": [
        "### Reading Data"
      ]
    },
    {
      "cell_type": "code",
      "metadata": {
        "id": "23KD_B7pjJ9f"
      },
      "source": [
        "import pandas as pd"
      ],
      "execution_count": null,
      "outputs": []
    },
    {
      "cell_type": "code",
      "metadata": {
        "id": "nXq6tKBtjYNs"
      },
      "source": [
        "events_df = pd.read_csv('/content/drive/MyDrive/DataProductManagerUdacityData/IterativeDesignPathProject/Flyber_event_logs.csv')"
      ],
      "execution_count": null,
      "outputs": []
    },
    {
      "cell_type": "markdown",
      "metadata": {
        "id": "YUhKLc6FDCHu"
      },
      "source": [
        "### Exploring Data"
      ]
    },
    {
      "cell_type": "code",
      "metadata": {
        "colab": {
          "base_uri": "https://localhost:8080/",
          "height": 279
        },
        "id": "2bI9MXYLjgPz",
        "outputId": "55e78831-278e-4957-b4e7-dcf31b07d9f0"
      },
      "source": [
        "events_df.head()"
      ],
      "execution_count": null,
      "outputs": [
        {
          "output_type": "execute_result",
          "data": {
            "text/html": [
              "<div>\n",
              "<style scoped>\n",
              "    .dataframe tbody tr th:only-of-type {\n",
              "        vertical-align: middle;\n",
              "    }\n",
              "\n",
              "    .dataframe tbody tr th {\n",
              "        vertical-align: top;\n",
              "    }\n",
              "\n",
              "    .dataframe thead th {\n",
              "        text-align: right;\n",
              "    }\n",
              "</style>\n",
              "<table border=\"1\" class=\"dataframe\">\n",
              "  <thead>\n",
              "    <tr style=\"text-align: right;\">\n",
              "      <th></th>\n",
              "      <th>event_uuid</th>\n",
              "      <th>user_uuid</th>\n",
              "      <th>event_time</th>\n",
              "      <th>age</th>\n",
              "      <th>session_uuid</th>\n",
              "      <th>experiment_group</th>\n",
              "      <th>user_neighborhood</th>\n",
              "      <th>event_type</th>\n",
              "    </tr>\n",
              "  </thead>\n",
              "  <tbody>\n",
              "    <tr>\n",
              "      <th>0</th>\n",
              "      <td>b9e9489e-1218-4715-b42e-604e3745db07</td>\n",
              "      <td>8191a8b8-9445-4661-9500-2bed275576f6</td>\n",
              "      <td>2019-10-06 05:34:23</td>\n",
              "      <td>40-49</td>\n",
              "      <td>2d7b8da3-573a-447f-9964-acf32526b1db</td>\n",
              "      <td>experiment_1</td>\n",
              "      <td>Manhattan</td>\n",
              "      <td>open</td>\n",
              "    </tr>\n",
              "    <tr>\n",
              "      <th>1</th>\n",
              "      <td>a4ff8e2c-2701-4a32-9029-bdf6efc155c5</td>\n",
              "      <td>8191a8b8-9445-4661-9500-2bed275576f6</td>\n",
              "      <td>2019-10-06 05:36:45</td>\n",
              "      <td>40-49</td>\n",
              "      <td>2d7b8da3-573a-447f-9964-acf32526b1db</td>\n",
              "      <td>experiment_1</td>\n",
              "      <td>Manhattan</td>\n",
              "      <td>#_of_users</td>\n",
              "    </tr>\n",
              "    <tr>\n",
              "      <th>2</th>\n",
              "      <td>41b4f6b1-cc14-4c77-a520-50c1cb9cd592</td>\n",
              "      <td>8191a8b8-9445-4661-9500-2bed275576f6</td>\n",
              "      <td>2019-10-06 05:37:31</td>\n",
              "      <td>40-49</td>\n",
              "      <td>2d7b8da3-573a-447f-9964-acf32526b1db</td>\n",
              "      <td>experiment_1</td>\n",
              "      <td>Manhattan</td>\n",
              "      <td>search</td>\n",
              "    </tr>\n",
              "    <tr>\n",
              "      <th>3</th>\n",
              "      <td>73b945e9-691e-4e63-aa4d-da2f74599388</td>\n",
              "      <td>8191a8b8-9445-4661-9500-2bed275576f6</td>\n",
              "      <td>2019-10-12 06:27:13</td>\n",
              "      <td>40-49</td>\n",
              "      <td>8a08005b-7e74-4664-b25d-9e29d8316d71</td>\n",
              "      <td>experiment_1</td>\n",
              "      <td>Manhattan</td>\n",
              "      <td>open</td>\n",
              "    </tr>\n",
              "    <tr>\n",
              "      <th>4</th>\n",
              "      <td>a070700c-8bd9-4b5a-9325-e029fda604c7</td>\n",
              "      <td>8191a8b8-9445-4661-9500-2bed275576f6</td>\n",
              "      <td>2019-10-12 06:28:10</td>\n",
              "      <td>40-49</td>\n",
              "      <td>8a08005b-7e74-4664-b25d-9e29d8316d71</td>\n",
              "      <td>experiment_1</td>\n",
              "      <td>Manhattan</td>\n",
              "      <td>#_of_users</td>\n",
              "    </tr>\n",
              "  </tbody>\n",
              "</table>\n",
              "</div>"
            ],
            "text/plain": [
              "                             event_uuid  ...  event_type\n",
              "0  b9e9489e-1218-4715-b42e-604e3745db07  ...        open\n",
              "1  a4ff8e2c-2701-4a32-9029-bdf6efc155c5  ...  #_of_users\n",
              "2  41b4f6b1-cc14-4c77-a520-50c1cb9cd592  ...      search\n",
              "3  73b945e9-691e-4e63-aa4d-da2f74599388  ...        open\n",
              "4  a070700c-8bd9-4b5a-9325-e029fda604c7  ...  #_of_users\n",
              "\n",
              "[5 rows x 8 columns]"
            ]
          },
          "metadata": {
            "tags": []
          },
          "execution_count": 4
        }
      ]
    },
    {
      "cell_type": "code",
      "metadata": {
        "id": "nb1_AEgrB98p"
      },
      "source": [
        "events_df[\"date\"] = pd.to_datetime(events_df[\"event_time\"])"
      ],
      "execution_count": null,
      "outputs": []
    },
    {
      "cell_type": "code",
      "metadata": {
        "colab": {
          "base_uri": "https://localhost:8080/"
        },
        "id": "aWrsc1v4jik3",
        "outputId": "ae282739-e4a6-48b9-c15c-697e55dd450f"
      },
      "source": [
        "events_df.columns"
      ],
      "execution_count": null,
      "outputs": [
        {
          "output_type": "execute_result",
          "data": {
            "text/plain": [
              "Index(['event_uuid', 'user_uuid', 'event_time', 'age', 'session_uuid',\n",
              "       'experiment_group', 'user_neighborhood', 'event_type', 'date'],\n",
              "      dtype='object')"
            ]
          },
          "metadata": {
            "tags": []
          },
          "execution_count": 6
        }
      ]
    },
    {
      "cell_type": "code",
      "metadata": {
        "colab": {
          "base_uri": "https://localhost:8080/"
        },
        "id": "5aNfXV6zqtf5",
        "outputId": "dfeb63d5-0d7d-40ad-eedb-1849bbe737c2"
      },
      "source": [
        "events_df.age.unique()"
      ],
      "execution_count": null,
      "outputs": [
        {
          "output_type": "execute_result",
          "data": {
            "text/plain": [
              "array(['40-49', '50+', '18-29', '30-39'], dtype=object)"
            ]
          },
          "metadata": {
            "tags": []
          },
          "execution_count": 7
        }
      ]
    },
    {
      "cell_type": "code",
      "metadata": {
        "colab": {
          "base_uri": "https://localhost:8080/"
        },
        "id": "4ZcVmiVWqbF0",
        "outputId": "f1d9bfb8-c4d5-48c2-8417-1f0c7b265a22"
      },
      "source": [
        "events_df.experiment_group.unique()"
      ],
      "execution_count": null,
      "outputs": [
        {
          "output_type": "execute_result",
          "data": {
            "text/plain": [
              "array(['experiment_1', 'control', 'experiment_2', 'experiment_3'],\n",
              "      dtype=object)"
            ]
          },
          "metadata": {
            "tags": []
          },
          "execution_count": 8
        }
      ]
    },
    {
      "cell_type": "code",
      "metadata": {
        "colab": {
          "base_uri": "https://localhost:8080/"
        },
        "id": "jrc9Dbo0qwAZ",
        "outputId": "8b56f1cb-73be-4efe-b7b3-e8565e360f99"
      },
      "source": [
        "events_df.user_neighborhood.unique()"
      ],
      "execution_count": null,
      "outputs": [
        {
          "output_type": "execute_result",
          "data": {
            "text/plain": [
              "array(['Manhattan', 'Brooklyn', 'Queens', 'Bronx', 'Staten Island'],\n",
              "      dtype=object)"
            ]
          },
          "metadata": {
            "tags": []
          },
          "execution_count": 9
        }
      ]
    },
    {
      "cell_type": "code",
      "metadata": {
        "colab": {
          "base_uri": "https://localhost:8080/"
        },
        "id": "fIEnyAj8PTrr",
        "outputId": "d3cab0ea-f51d-4ec7-fb61-37e2f18c7b27"
      },
      "source": [
        "events_df.event_type.unique()"
      ],
      "execution_count": null,
      "outputs": [
        {
          "output_type": "execute_result",
          "data": {
            "text/plain": [
              "array(['open', '#_of_users', 'search', 'begin_ride'], dtype=object)"
            ]
          },
          "metadata": {
            "tags": []
          },
          "execution_count": 10
        }
      ]
    },
    {
      "cell_type": "code",
      "metadata": {
        "colab": {
          "base_uri": "https://localhost:8080/"
        },
        "id": "g6oyepbQBiq4",
        "outputId": "eab804c5-9697-4b59-8ef5-4deb5e0f6cf1"
      },
      "source": [
        "events_df.sort_values(by=\"date\").date.unique()"
      ],
      "execution_count": null,
      "outputs": [
        {
          "output_type": "execute_result",
          "data": {
            "text/plain": [
              "array(['2019-10-05T10:55:01.000000000', '2019-10-05T10:55:08.000000000',\n",
              "       '2019-10-05T10:55:10.000000000', ...,\n",
              "       '2019-10-12T10:57:13.000000000', '2019-10-12T10:57:33.000000000',\n",
              "       '2019-10-12T10:57:44.000000000'], dtype='datetime64[ns]')"
            ]
          },
          "metadata": {
            "tags": []
          },
          "execution_count": 11
        }
      ]
    },
    {
      "cell_type": "markdown",
      "metadata": {
        "id": "9ygZxhGJDIBh"
      },
      "source": [
        "*We can see that all events in the dataset take place in the same week simultaneously. A A/B/n, or a Multivariate Test, was performed.*"
      ]
    },
    {
      "cell_type": "code",
      "metadata": {
        "colab": {
          "base_uri": "https://localhost:8080/"
        },
        "id": "_Eo9p5pHj5LI",
        "outputId": "67720cfb-602b-49c1-b96e-7e8f346f5b82"
      },
      "source": [
        "len(events_df)"
      ],
      "execution_count": null,
      "outputs": [
        {
          "output_type": "execute_result",
          "data": {
            "text/plain": [
              "367083"
            ]
          },
          "metadata": {
            "tags": []
          },
          "execution_count": 12
        }
      ]
    },
    {
      "cell_type": "code",
      "metadata": {
        "colab": {
          "base_uri": "https://localhost:8080/"
        },
        "id": "U35cw9meBS67",
        "outputId": "f9fe5528-9590-4c6c-dd6e-566600d329a5"
      },
      "source": [
        "len(events_df.session_uuid.unique())/len(events_df.user_uuid.unique())"
      ],
      "execution_count": null,
      "outputs": [
        {
          "output_type": "execute_result",
          "data": {
            "text/plain": [
              "2.7729685986487977"
            ]
          },
          "metadata": {
            "tags": []
          },
          "execution_count": 23
        }
      ]
    },
    {
      "cell_type": "code",
      "metadata": {
        "colab": {
          "base_uri": "https://localhost:8080/"
        },
        "id": "251ee_fFuynq",
        "outputId": "5b7b2784-b736-482d-e044-f7ff02344471"
      },
      "source": [
        "len(events_df.user_uuid.unique())"
      ],
      "execution_count": null,
      "outputs": [
        {
          "output_type": "execute_result",
          "data": {
            "text/plain": [
              "81557"
            ]
          },
          "metadata": {
            "tags": []
          },
          "execution_count": 24
        }
      ]
    },
    {
      "cell_type": "markdown",
      "metadata": {
        "id": "boh5Ngl2Dh6B"
      },
      "source": [
        "*On average, roughly 1.6 sessions per users, so we cannot use event_uuid for funnel purposes, we should go with session_uuid.*"
      ]
    },
    {
      "cell_type": "markdown",
      "metadata": {
        "id": "wjAFtbyvES_K"
      },
      "source": [
        "## Overall Conversion Impact of the Experiment"
      ]
    },
    {
      "cell_type": "code",
      "metadata": {
        "id": "ipc4Wl_TEQoL"
      },
      "source": [
        "def get_funnel_data(df):\n",
        "  list_experiments = df.experiment_group.unique()\n",
        "  for experiment in list_experiments:\n",
        "    print('Experiment:', experiment)\n",
        "    # ['open', '#_of_users', 'search', 'begin_ride'\n",
        "    print('Count Event - Open:', len(df[(df.experiment_group == experiment) & (df.event_type == 'open')].session_uuid.unique()))\n",
        "    print('Count Event - Search:', len(df[(df.experiment_group == experiment) & (df.event_type == 'search')].session_uuid.unique()))\n",
        "    print('Count Event - Number of Users:', len(df[(df.experiment_group == experiment) & (df.event_type == '#_of_users')].session_uuid.unique()))\n",
        "    print('Count Event - Begin Ride:', len(df[(df.experiment_group == experiment) & (df.event_type == '#_of_users')].session_uuid.unique()))"
      ],
      "execution_count": null,
      "outputs": []
    },
    {
      "cell_type": "code",
      "metadata": {
        "colab": {
          "base_uri": "https://localhost:8080/"
        },
        "id": "kELz2WOOE9CS",
        "outputId": "f0861645-22a9-44e2-cd39-d41e3098f5af"
      },
      "source": [
        "get_funnel_data(events_df)"
      ],
      "execution_count": null,
      "outputs": [
        {
          "output_type": "stream",
          "text": [
            "Experiment: experiment_1\n",
            "Count Event - Open: 56390\n",
            "Count Event - Search: 11300\n",
            "Count Event - Number of Users: 23626\n",
            "Count Event - Begin Ride: 23626\n",
            "Experiment: control\n",
            "Count Event - Open: 56390\n",
            "Count Event - Search: 11323\n",
            "Count Event - Number of Users: 23612\n",
            "Count Event - Begin Ride: 23612\n",
            "Experiment: experiment_2\n",
            "Count Event - Open: 56688\n",
            "Count Event - Search: 11581\n",
            "Count Event - Number of Users: 23953\n",
            "Count Event - Begin Ride: 23953\n",
            "Experiment: experiment_3\n",
            "Count Event - Open: 56687\n",
            "Count Event - Search: 11299\n",
            "Count Event - Number of Users: 23557\n",
            "Count Event - Begin Ride: 23557\n"
          ],
          "name": "stdout"
        }
      ]
    },
    {
      "cell_type": "markdown",
      "metadata": {
        "id": "1hnRBhxBD2EF"
      },
      "source": [
        "## User Research Data"
      ]
    },
    {
      "cell_type": "code",
      "metadata": {
        "id": "3LN7uovjjndE"
      },
      "source": [
        "interview_df = pd.read_csv('/content/drive/MyDrive/DataProductManagerUdacityData/IterativeDesignPathProject/Flyber User Interviews.csv')"
      ],
      "execution_count": null,
      "outputs": []
    },
    {
      "cell_type": "code",
      "metadata": {
        "colab": {
          "base_uri": "https://localhost:8080/",
          "height": 574
        },
        "id": "VCqeIJ8AjvAt",
        "outputId": "83be9fb6-3d97-4932-8023-2bd55c295581"
      },
      "source": [
        "interview_df"
      ],
      "execution_count": null,
      "outputs": [
        {
          "output_type": "execute_result",
          "data": {
            "text/html": [
              "<div>\n",
              "<style scoped>\n",
              "    .dataframe tbody tr th:only-of-type {\n",
              "        vertical-align: middle;\n",
              "    }\n",
              "\n",
              "    .dataframe tbody tr th {\n",
              "        vertical-align: top;\n",
              "    }\n",
              "\n",
              "    .dataframe thead th {\n",
              "        text-align: right;\n",
              "    }\n",
              "</style>\n",
              "<table border=\"1\" class=\"dataframe\">\n",
              "  <thead>\n",
              "    <tr style=\"text-align: right;\">\n",
              "      <th></th>\n",
              "      <th>Name</th>\n",
              "      <th>Age</th>\n",
              "      <th>Profession</th>\n",
              "      <th>How Often Do You Use Flyber?</th>\n",
              "      <th>What Do You Use When You Don't Use Flyber?</th>\n",
              "      <th>What do you like about Flyber?</th>\n",
              "      <th>Where are you going when you use Flyber?</th>\n",
              "    </tr>\n",
              "  </thead>\n",
              "  <tbody>\n",
              "    <tr>\n",
              "      <th>0</th>\n",
              "      <td>Fahim Burke</td>\n",
              "      <td>25</td>\n",
              "      <td>Trust Fund Kid</td>\n",
              "      <td>Every couple months</td>\n",
              "      <td>My family has a private jet, so I only use Fly...</td>\n",
              "      <td>I don't feel like a common driver; I can get a...</td>\n",
              "      <td>Somewhere out of manhattan, like a cool underg...</td>\n",
              "    </tr>\n",
              "    <tr>\n",
              "      <th>1</th>\n",
              "      <td>Pharrell Campos</td>\n",
              "      <td>22</td>\n",
              "      <td>Influencer</td>\n",
              "      <td>1X a week</td>\n",
              "      <td>Sponsors often pay for me to use their vehicle...</td>\n",
              "      <td>It is super cool to arrive to an art gallery o...</td>\n",
              "      <td>Like I said, I'm always going to new places an...</td>\n",
              "    </tr>\n",
              "    <tr>\n",
              "      <th>2</th>\n",
              "      <td>Keelan Flores</td>\n",
              "      <td>39</td>\n",
              "      <td>Real Estate</td>\n",
              "      <td>3+ times a week</td>\n",
              "      <td>If the timing isn't different, I'll take a tax...</td>\n",
              "      <td>I'm in real estate, so I have showings all ove...</td>\n",
              "      <td>To check out a new property, or show a propert...</td>\n",
              "    </tr>\n",
              "    <tr>\n",
              "      <th>3</th>\n",
              "      <td>Kayleigh Mcintosh</td>\n",
              "      <td>42</td>\n",
              "      <td>Plastic Surgeon</td>\n",
              "      <td>1X a month</td>\n",
              "      <td>Before I started using Flyber, I would use a n...</td>\n",
              "      <td>I like the ability to get home quickly after a...</td>\n",
              "      <td>Usually I take flyber as a treat when I'm exha...</td>\n",
              "    </tr>\n",
              "    <tr>\n",
              "      <th>4</th>\n",
              "      <td>Kierran Blackburn</td>\n",
              "      <td>55</td>\n",
              "      <td>Real Estate</td>\n",
              "      <td>1X a month</td>\n",
              "      <td>I just hail a taxi or tell my phone to call a ...</td>\n",
              "      <td>I like being able to go from showing to anothe...</td>\n",
              "      <td>Generally if a showing runs late, I will pull ...</td>\n",
              "    </tr>\n",
              "    <tr>\n",
              "      <th>5</th>\n",
              "      <td>Sapphire Dupont</td>\n",
              "      <td>60</td>\n",
              "      <td>Surgeon</td>\n",
              "      <td>2X a month</td>\n",
              "      <td>Before Flyber, I'd call a taxi service on the ...</td>\n",
              "      <td>I volunteer as a pro-bono surgeon a couple tim...</td>\n",
              "      <td>To the hospital where a patient is located.</td>\n",
              "    </tr>\n",
              "    <tr>\n",
              "      <th>6</th>\n",
              "      <td>Tanner Cherry</td>\n",
              "      <td>72</td>\n",
              "      <td>Retired</td>\n",
              "      <td>3+ times a week</td>\n",
              "      <td>Drive my car or call a taxi service.</td>\n",
              "      <td>Flying is so much fun! Plus my wife doesn't li...</td>\n",
              "      <td>All over! It is faster than driving and I don'...</td>\n",
              "    </tr>\n",
              "    <tr>\n",
              "      <th>7</th>\n",
              "      <td>Louis Jones</td>\n",
              "      <td>70</td>\n",
              "      <td>Oil Magnate</td>\n",
              "      <td>5+ times a month, during the 6 months/year I'm...</td>\n",
              "      <td>I have a personal car service on call. My assi...</td>\n",
              "      <td>Flyber gives me the convenience I already have...</td>\n",
              "      <td>Generally between business meetings in the city</td>\n",
              "    </tr>\n",
              "    <tr>\n",
              "      <th>8</th>\n",
              "      <td>Robbie Gates</td>\n",
              "      <td>67</td>\n",
              "      <td>VP, Fortune 50</td>\n",
              "      <td>Tried it once</td>\n",
              "      <td>Honestly, I thought about using Flyber to supr...</td>\n",
              "      <td>It would be great to use Flyber to go from the...</td>\n",
              "      <td>The one time I used Flyber, I was going to my ...</td>\n",
              "    </tr>\n",
              "    <tr>\n",
              "      <th>9</th>\n",
              "      <td>Esmae Wagner</td>\n",
              "      <td>65</td>\n",
              "      <td>CEO</td>\n",
              "      <td>Every couple months</td>\n",
              "      <td>I usually use Flyber when I need to get from t...</td>\n",
              "      <td>I like that Flyber saves me time over traffic.</td>\n",
              "      <td>Usually to an important client dinner; Flyber ...</td>\n",
              "    </tr>\n",
              "    <tr>\n",
              "      <th>10</th>\n",
              "      <td>Charlie Johnson</td>\n",
              "      <td>75</td>\n",
              "      <td>Retired</td>\n",
              "      <td>I've used in a few times.</td>\n",
              "      <td>I call up our local pilot, Bob. He's not alway...</td>\n",
              "      <td>Like I said, Bob isn't always available. Flybe...</td>\n",
              "      <td>My wife and I love to visit friends all over N...</td>\n",
              "    </tr>\n",
              "  </tbody>\n",
              "</table>\n",
              "</div>"
            ],
            "text/plain": [
              "                 Name  ...           Where are you going when you use Flyber?\n",
              "0         Fahim Burke  ...  Somewhere out of manhattan, like a cool underg...\n",
              "1     Pharrell Campos  ...  Like I said, I'm always going to new places an...\n",
              "2       Keelan Flores  ...  To check out a new property, or show a propert...\n",
              "3   Kayleigh Mcintosh  ...  Usually I take flyber as a treat when I'm exha...\n",
              "4   Kierran Blackburn  ...  Generally if a showing runs late, I will pull ...\n",
              "5     Sapphire Dupont  ...        To the hospital where a patient is located.\n",
              "6       Tanner Cherry  ...  All over! It is faster than driving and I don'...\n",
              "7         Louis Jones  ...    Generally between business meetings in the city\n",
              "8        Robbie Gates  ...  The one time I used Flyber, I was going to my ...\n",
              "9        Esmae Wagner  ...  Usually to an important client dinner; Flyber ...\n",
              "10    Charlie Johnson  ...  My wife and I love to visit friends all over N...\n",
              "\n",
              "[11 rows x 7 columns]"
            ]
          },
          "metadata": {
            "tags": []
          },
          "execution_count": 17
        }
      ]
    },
    {
      "cell_type": "code",
      "metadata": {
        "colab": {
          "base_uri": "https://localhost:8080/"
        },
        "id": "vupTu3COjw6K",
        "outputId": "5d6ea30d-8697-43f3-c18f-893df26e6b79"
      },
      "source": [
        "interview_df.columns"
      ],
      "execution_count": null,
      "outputs": [
        {
          "output_type": "execute_result",
          "data": {
            "text/plain": [
              "Index(['Name', 'Age', 'Profession', 'How Often Do You Use Flyber?',\n",
              "       'What Do You Use When You Don't Use Flyber?',\n",
              "       'What do you like about Flyber?',\n",
              "       'Where are you going when you use Flyber?'],\n",
              "      dtype='object')"
            ]
          },
          "metadata": {
            "tags": []
          },
          "execution_count": 18
        }
      ]
    },
    {
      "cell_type": "code",
      "metadata": {
        "colab": {
          "base_uri": "https://localhost:8080/"
        },
        "id": "FtK1r1W2jzrv",
        "outputId": "454e9c38-9308-43d2-e998-9ece020fad69"
      },
      "source": [
        "len(interview_df)"
      ],
      "execution_count": null,
      "outputs": [
        {
          "output_type": "execute_result",
          "data": {
            "text/plain": [
              "11"
            ]
          },
          "metadata": {
            "tags": []
          },
          "execution_count": 19
        }
      ]
    },
    {
      "cell_type": "markdown",
      "metadata": {
        "id": "GgLHqSKHIu2V"
      },
      "source": [
        "## References\n",
        "\n",
        "https://medium.com/multiplyai/user-conversion-funnel-9d957ce3e80c"
      ]
    }
  ]
}