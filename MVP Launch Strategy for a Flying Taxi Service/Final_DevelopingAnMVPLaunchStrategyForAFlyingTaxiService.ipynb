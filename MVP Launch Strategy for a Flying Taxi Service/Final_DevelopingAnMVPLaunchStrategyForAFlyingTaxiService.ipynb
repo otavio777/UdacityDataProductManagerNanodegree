{
  "nbformat": 4,
  "nbformat_minor": 0,
  "metadata": {
    "colab": {
      "name": "Final - DevelopingAnMVPLaunchStrategyForAFlyingTaxiService.ipynb",
      "provenance": [],
      "collapsed_sections": [],
      "toc_visible": true
    },
    "kernelspec": {
      "name": "python3",
      "display_name": "Python 3"
    },
    "language_info": {
      "name": "python"
    }
  },
  "cells": [
    {
      "cell_type": "markdown",
      "metadata": {
        "id": "-Jt73V8cXjYa"
      },
      "source": [
        "#Developing an MVP Launch Strategy for a Flying Taxi Service"
      ]
    },
    {
      "cell_type": "code",
      "metadata": {
        "colab": {
          "base_uri": "https://localhost:8080/"
        },
        "id": "Lqqgu2jfuaB3",
        "outputId": "3e7f8d57-c0f3-404d-83f9-ee337c387915"
      },
      "source": [
        "from google.colab import drive\n",
        "drive.mount('/content/drive', force_remount=True)"
      ],
      "execution_count": 3,
      "outputs": [
        {
          "output_type": "stream",
          "text": [
            "Mounted at /content/drive\n"
          ],
          "name": "stdout"
        }
      ]
    },
    {
      "cell_type": "markdown",
      "metadata": {
        "id": "DDsuXurMuJN8"
      },
      "source": [
        "## Reading Data"
      ]
    },
    {
      "cell_type": "code",
      "metadata": {
        "id": "r5VSHAYruIrx"
      },
      "source": [
        "import pandas as pd"
      ],
      "execution_count": null,
      "outputs": []
    },
    {
      "cell_type": "code",
      "metadata": {
        "id": "yPAyEz_oXXIS"
      },
      "source": [
        "taxi_rides_df = pd.read_csv('/content/drive/MyDrive/DataProductManagerUdacityData/MidtermProject/taxi_rides.csv')"
      ],
      "execution_count": null,
      "outputs": []
    },
    {
      "cell_type": "markdown",
      "metadata": {
        "id": "W2BENYIFu5OO"
      },
      "source": [
        "## How many records are in the dataset?"
      ]
    },
    {
      "cell_type": "markdown",
      "metadata": {
        "id": "YHRk1bP6v97F"
      },
      "source": [
        "Rows and columns in dataframe shape:"
      ]
    },
    {
      "cell_type": "code",
      "metadata": {
        "colab": {
          "base_uri": "https://localhost:8080/"
        },
        "id": "xTT9gghau1Iu",
        "outputId": "91c803c1-ab36-4399-9fc9-65929044a962"
      },
      "source": [
        "taxi_rides_df.shape"
      ],
      "execution_count": null,
      "outputs": [
        {
          "output_type": "execute_result",
          "data": {
            "text/plain": [
              "(1048468, 15)"
            ]
          },
          "metadata": {
            "tags": []
          },
          "execution_count": 51
        }
      ]
    },
    {
      "cell_type": "markdown",
      "metadata": {
        "id": "l-v1Ik6OwDIU"
      },
      "source": [
        "Total number of data points:"
      ]
    },
    {
      "cell_type": "code",
      "metadata": {
        "colab": {
          "base_uri": "https://localhost:8080/"
        },
        "id": "34XgMMZlvIQ4",
        "outputId": "3c117b82-08f1-4f8a-eb01-9e9e055a0a67"
      },
      "source": [
        "taxi_rides_df.shape[0]*taxi_rides_df.shape[1]"
      ],
      "execution_count": null,
      "outputs": [
        {
          "output_type": "execute_result",
          "data": {
            "text/plain": [
              "15727020"
            ]
          },
          "metadata": {
            "tags": []
          },
          "execution_count": 52
        }
      ]
    },
    {
      "cell_type": "markdown",
      "metadata": {
        "id": "uYXHGe18v6U0"
      },
      "source": [
        "## What does each record represent?"
      ]
    },
    {
      "cell_type": "code",
      "metadata": {
        "colab": {
          "base_uri": "https://localhost:8080/",
          "height": 232
        },
        "id": "EQRQQc00vSWp",
        "outputId": "25a64a90-c084-44c5-ff54-140d7ed7166a"
      },
      "source": [
        "taxi_rides_df.head()"
      ],
      "execution_count": null,
      "outputs": [
        {
          "output_type": "execute_result",
          "data": {
            "text/html": [
              "<div>\n",
              "<style scoped>\n",
              "    .dataframe tbody tr th:only-of-type {\n",
              "        vertical-align: middle;\n",
              "    }\n",
              "\n",
              "    .dataframe tbody tr th {\n",
              "        vertical-align: top;\n",
              "    }\n",
              "\n",
              "    .dataframe thead th {\n",
              "        text-align: right;\n",
              "    }\n",
              "</style>\n",
              "<table border=\"1\" class=\"dataframe\">\n",
              "  <thead>\n",
              "    <tr style=\"text-align: right;\">\n",
              "      <th></th>\n",
              "      <th>id</th>\n",
              "      <th>vendor_id</th>\n",
              "      <th>pickup_datetime</th>\n",
              "      <th>dropoff_datetime</th>\n",
              "      <th>passenger_count</th>\n",
              "      <th>pickup_longitude</th>\n",
              "      <th>pickup_latitude</th>\n",
              "      <th>dropoff_longitude</th>\n",
              "      <th>dropoff_latitude</th>\n",
              "      <th>store_and_fwd_flag</th>\n",
              "      <th>duration</th>\n",
              "      <th>distance</th>\n",
              "      <th>Unnamed: 12</th>\n",
              "      <th>Unnamed: 13</th>\n",
              "      <th>Unnamed: 14</th>\n",
              "    </tr>\n",
              "  </thead>\n",
              "  <tbody>\n",
              "    <tr>\n",
              "      <th>0</th>\n",
              "      <td>id3487442</td>\n",
              "      <td>2</td>\n",
              "      <td>2/29/16 18:39</td>\n",
              "      <td>2/29/16 18:42</td>\n",
              "      <td>1</td>\n",
              "      <td>-73.981819</td>\n",
              "      <td>40.768963</td>\n",
              "      <td>-73.981819</td>\n",
              "      <td>40.768963</td>\n",
              "      <td>N</td>\n",
              "      <td>227</td>\n",
              "      <td>0.0</td>\n",
              "      <td>NaN</td>\n",
              "      <td>NaN</td>\n",
              "      <td>NaN</td>\n",
              "    </tr>\n",
              "    <tr>\n",
              "      <th>1</th>\n",
              "      <td>id1145809</td>\n",
              "      <td>2</td>\n",
              "      <td>5/16/16 23:15</td>\n",
              "      <td>5/16/16 23:31</td>\n",
              "      <td>6</td>\n",
              "      <td>-73.808487</td>\n",
              "      <td>40.687336</td>\n",
              "      <td>-73.808487</td>\n",
              "      <td>40.687336</td>\n",
              "      <td>N</td>\n",
              "      <td>947</td>\n",
              "      <td>0.0</td>\n",
              "      <td>NaN</td>\n",
              "      <td>NaN</td>\n",
              "      <td>NaN</td>\n",
              "    </tr>\n",
              "    <tr>\n",
              "      <th>2</th>\n",
              "      <td>id3499387</td>\n",
              "      <td>1</td>\n",
              "      <td>1/25/16 19:45</td>\n",
              "      <td>1/25/16 19:54</td>\n",
              "      <td>1</td>\n",
              "      <td>-73.786720</td>\n",
              "      <td>40.647041</td>\n",
              "      <td>-73.786720</td>\n",
              "      <td>40.647041</td>\n",
              "      <td>N</td>\n",
              "      <td>580</td>\n",
              "      <td>0.0</td>\n",
              "      <td>NaN</td>\n",
              "      <td>NaN</td>\n",
              "      <td>NaN</td>\n",
              "    </tr>\n",
              "    <tr>\n",
              "      <th>3</th>\n",
              "      <td>id0753277</td>\n",
              "      <td>1</td>\n",
              "      <td>1/27/16 22:29</td>\n",
              "      <td>1/27/16 22:29</td>\n",
              "      <td>1</td>\n",
              "      <td>-74.209854</td>\n",
              "      <td>40.816853</td>\n",
              "      <td>-74.209854</td>\n",
              "      <td>40.816853</td>\n",
              "      <td>N</td>\n",
              "      <td>27</td>\n",
              "      <td>0.0</td>\n",
              "      <td>NaN</td>\n",
              "      <td>NaN</td>\n",
              "      <td>NaN</td>\n",
              "    </tr>\n",
              "    <tr>\n",
              "      <th>4</th>\n",
              "      <td>id2134482</td>\n",
              "      <td>1</td>\n",
              "      <td>1/22/16 16:13</td>\n",
              "      <td>1/22/16 16:13</td>\n",
              "      <td>1</td>\n",
              "      <td>-73.776314</td>\n",
              "      <td>40.645454</td>\n",
              "      <td>-73.776314</td>\n",
              "      <td>40.645454</td>\n",
              "      <td>N</td>\n",
              "      <td>19</td>\n",
              "      <td>0.0</td>\n",
              "      <td>NaN</td>\n",
              "      <td>NaN</td>\n",
              "      <td>NaN</td>\n",
              "    </tr>\n",
              "  </tbody>\n",
              "</table>\n",
              "</div>"
            ],
            "text/plain": [
              "          id  vendor_id pickup_datetime  ... Unnamed: 12  Unnamed: 13  Unnamed: 14\n",
              "0  id3487442          2   2/29/16 18:39  ...         NaN          NaN          NaN\n",
              "1  id1145809          2   5/16/16 23:15  ...         NaN          NaN          NaN\n",
              "2  id3499387          1   1/25/16 19:45  ...         NaN          NaN          NaN\n",
              "3  id0753277          1   1/27/16 22:29  ...         NaN          NaN          NaN\n",
              "4  id2134482          1   1/22/16 16:13  ...         NaN          NaN          NaN\n",
              "\n",
              "[5 rows x 15 columns]"
            ]
          },
          "metadata": {
            "tags": []
          },
          "execution_count": 53
        }
      ]
    },
    {
      "cell_type": "code",
      "metadata": {
        "colab": {
          "base_uri": "https://localhost:8080/"
        },
        "id": "WTQOEJonwTFm",
        "outputId": "998e2819-3542-439a-ea04-abcb9afef216"
      },
      "source": [
        "taxi_rides_df.info()"
      ],
      "execution_count": null,
      "outputs": [
        {
          "output_type": "stream",
          "text": [
            "<class 'pandas.core.frame.DataFrame'>\n",
            "RangeIndex: 1048468 entries, 0 to 1048467\n",
            "Data columns (total 15 columns):\n",
            " #   Column              Non-Null Count    Dtype  \n",
            "---  ------              --------------    -----  \n",
            " 0   id                  1048468 non-null  object \n",
            " 1   vendor_id           1048468 non-null  int64  \n",
            " 2   pickup_datetime     1048468 non-null  object \n",
            " 3   dropoff_datetime    1048468 non-null  object \n",
            " 4   passenger_count     1048468 non-null  int64  \n",
            " 5   pickup_longitude    1048468 non-null  float64\n",
            " 6   pickup_latitude     1048468 non-null  float64\n",
            " 7   dropoff_longitude   1048468 non-null  float64\n",
            " 8   dropoff_latitude    1048468 non-null  float64\n",
            " 9   store_and_fwd_flag  1048468 non-null  object \n",
            " 10  duration            1048468 non-null  int64  \n",
            " 11  distance            1048468 non-null  float64\n",
            " 12  Unnamed: 12         0 non-null        float64\n",
            " 13  Unnamed: 13         0 non-null        float64\n",
            " 14  Unnamed: 14         0 non-null        float64\n",
            "dtypes: float64(8), int64(3), object(4)\n",
            "memory usage: 120.0+ MB\n"
          ],
          "name": "stdout"
        }
      ]
    },
    {
      "cell_type": "code",
      "metadata": {
        "colab": {
          "base_uri": "https://localhost:8080/"
        },
        "id": "LqIgncHpwIzy",
        "outputId": "3a801934-00ef-472d-a3c7-ae7064d40a72"
      },
      "source": [
        "taxi_rides_df.columns"
      ],
      "execution_count": null,
      "outputs": [
        {
          "output_type": "execute_result",
          "data": {
            "text/plain": [
              "Index(['id', 'vendor_id', 'pickup_datetime', 'dropoff_datetime',\n",
              "       'passenger_count', 'pickup_longitude', 'pickup_latitude',\n",
              "       'dropoff_longitude', 'dropoff_latitude', 'store_and_fwd_flag',\n",
              "       'duration', 'distance', 'Unnamed: 12', 'Unnamed: 13', 'Unnamed: 14'],\n",
              "      dtype='object')"
            ]
          },
          "metadata": {
            "tags": []
          },
          "execution_count": 55
        }
      ]
    },
    {
      "cell_type": "markdown",
      "metadata": {
        "id": "L0OT_Ec_yY80"
      },
      "source": [
        "## What is the primary key?"
      ]
    },
    {
      "cell_type": "markdown",
      "metadata": {
        "id": "QCOL8jGoycLN"
      },
      "source": [
        "I would say, intuitively, the \"id\" key is primary key, let us check it out."
      ]
    },
    {
      "cell_type": "code",
      "metadata": {
        "colab": {
          "base_uri": "https://localhost:8080/"
        },
        "id": "DjeO7HB9ybTX",
        "outputId": "9519442f-be1b-45d4-ce06-4875683f1e52"
      },
      "source": [
        "taxi_rides_df.shape[0] == len(taxi_rides_df.id.unique())"
      ],
      "execution_count": null,
      "outputs": [
        {
          "output_type": "execute_result",
          "data": {
            "text/plain": [
              "True"
            ]
          },
          "metadata": {
            "tags": []
          },
          "execution_count": 56
        }
      ]
    },
    {
      "cell_type": "markdown",
      "metadata": {
        "id": "6vPwT3b8y84S"
      },
      "source": [
        "Indeed, each \"id\" describes a unique record."
      ]
    },
    {
      "cell_type": "markdown",
      "metadata": {
        "id": "YSyZKIB0zZUx"
      },
      "source": [
        "## What date range is your dataset bound to?"
      ]
    },
    {
      "cell_type": "code",
      "metadata": {
        "colab": {
          "base_uri": "https://localhost:8080/",
          "height": 35
        },
        "id": "OjFdlqdNzBCO",
        "outputId": "618d1e8e-2707-451f-c618-9410bcb9adfa"
      },
      "source": [
        "taxi_rides_df[['pickup_datetime', 'dropoff_datetime']].max().max()"
      ],
      "execution_count": null,
      "outputs": [
        {
          "output_type": "execute_result",
          "data": {
            "application/vnd.google.colaboratory.intrinsic+json": {
              "type": "string"
            },
            "text/plain": [
              "'7/1/16 7:46'"
            ]
          },
          "metadata": {
            "tags": []
          },
          "execution_count": 57
        }
      ]
    },
    {
      "cell_type": "code",
      "metadata": {
        "colab": {
          "base_uri": "https://localhost:8080/",
          "height": 35
        },
        "id": "p0RH17Dfzi8I",
        "outputId": "69acb3db-2285-412c-8ab9-2e40ade2f6e5"
      },
      "source": [
        "taxi_rides_df[['pickup_datetime', 'dropoff_datetime']].min().min()"
      ],
      "execution_count": null,
      "outputs": [
        {
          "output_type": "execute_result",
          "data": {
            "application/vnd.google.colaboratory.intrinsic+json": {
              "type": "string"
            },
            "text/plain": [
              "'1/1/16 0:00'"
            ]
          },
          "metadata": {
            "tags": []
          },
          "execution_count": 58
        }
      ]
    },
    {
      "cell_type": "markdown",
      "metadata": {
        "id": "v3OKj14I03Lv"
      },
      "source": [
        "## Geographical Bounds"
      ]
    },
    {
      "cell_type": "markdown",
      "metadata": {
        "id": "C6ACRq5o06Tq"
      },
      "source": [
        "What are the geographical bounds of this dataset? Is it limited to Manhattan, or is Brooklyn, Queens, Staten Island, the Bronx, and New Jersey included? Where are most of the data points centralized at? Are there outliers?\n"
      ]
    },
    {
      "cell_type": "code",
      "metadata": {
        "colab": {
          "base_uri": "https://localhost:8080/"
        },
        "id": "R2vjEi6W05W-",
        "outputId": "d70bf33e-6a9d-451a-d681-e356bf4c5e39"
      },
      "source": [
        "taxi_rides_df[['pickup_latitude', 'dropoff_latitude']].max()"
      ],
      "execution_count": null,
      "outputs": [
        {
          "output_type": "execute_result",
          "data": {
            "text/plain": [
              "pickup_latitude     51.881084\n",
              "dropoff_latitude    43.911762\n",
              "dtype: float64"
            ]
          },
          "metadata": {
            "tags": []
          },
          "execution_count": 59
        }
      ]
    },
    {
      "cell_type": "code",
      "metadata": {
        "colab": {
          "base_uri": "https://localhost:8080/"
        },
        "id": "K0YAwD4i2elz",
        "outputId": "728d2030-8434-4277-fcb5-db908503b28a"
      },
      "source": [
        "taxi_rides_df[['pickup_latitude', 'dropoff_latitude']].min()"
      ],
      "execution_count": null,
      "outputs": [
        {
          "output_type": "execute_result",
          "data": {
            "text/plain": [
              "pickup_latitude     34.359695\n",
              "dropoff_latitude    32.181141\n",
              "dtype: float64"
            ]
          },
          "metadata": {
            "tags": []
          },
          "execution_count": 60
        }
      ]
    },
    {
      "cell_type": "code",
      "metadata": {
        "colab": {
          "base_uri": "https://localhost:8080/"
        },
        "id": "ZxQUiRHi3G2P",
        "outputId": "306b1222-42cf-472e-8d16-b646f27949d6"
      },
      "source": [
        "taxi_rides_df[['pickup_longitude', 'dropoff_longitude']].max()"
      ],
      "execution_count": null,
      "outputs": [
        {
          "output_type": "execute_result",
          "data": {
            "text/plain": [
              "pickup_longitude    -61.335529\n",
              "dropoff_longitude   -61.335529\n",
              "dtype: float64"
            ]
          },
          "metadata": {
            "tags": []
          },
          "execution_count": 61
        }
      ]
    },
    {
      "cell_type": "code",
      "metadata": {
        "colab": {
          "base_uri": "https://localhost:8080/"
        },
        "id": "-85lhb_93Tw3",
        "outputId": "1ceedf3b-6d06-43fd-e255-8e16eb25b649"
      },
      "source": [
        "taxi_rides_df[['pickup_longitude', 'dropoff_longitude']].min()"
      ],
      "execution_count": null,
      "outputs": [
        {
          "output_type": "execute_result",
          "data": {
            "text/plain": [
              "pickup_longitude    -78.547401\n",
              "dropoff_longitude   -79.817978\n",
              "dtype: float64"
            ]
          },
          "metadata": {
            "tags": []
          },
          "execution_count": 62
        }
      ]
    },
    {
      "cell_type": "markdown",
      "metadata": {
        "id": "ReRVz5hP9J_X"
      },
      "source": [
        "**New Jersey, USA (State)**\n",
        "\n",
        "Latitude and longitude coordinates are: 39.833851, -74.871826\n",
        "\n",
        "**New York, USA (State)**\n",
        "\n",
        "Latitude and longitude coordinates are: 43.000000, -75.000000\n",
        "\n",
        "The latitude of **New York City, NY, USA** is 40.730610, and the longitude is -73.935242. New York City, NY"
      ]
    },
    {
      "cell_type": "markdown",
      "metadata": {
        "id": "JdOHLOwC9qnF"
      },
      "source": [
        "### Going deeper with plots"
      ]
    },
    {
      "cell_type": "code",
      "metadata": {
        "id": "haai00R25fqr"
      },
      "source": [
        "import matplotlib.pyplot as plt\n"
      ],
      "execution_count": null,
      "outputs": []
    },
    {
      "cell_type": "code",
      "metadata": {
        "colab": {
          "base_uri": "https://localhost:8080/",
          "height": 326
        },
        "id": "huuvr3iB-mKL",
        "outputId": "04f2d546-cafd-4476-e00f-351d0c957a67"
      },
      "source": [
        "all_data1 = taxi_rides_df[['pickup_latitude', 'dropoff_latitude']]\n",
        "labels1 = ['pickup_latitude', 'dropoff_latitude']\n",
        "\n",
        "all_data2 = taxi_rides_df[['pickup_longitude', 'dropoff_longitude']]\n",
        "labels2 = ['pickup_longitude', 'dropoff_longitude']\n",
        "\n",
        "\n",
        "fig, (ax1, ax2) = plt.subplots(nrows=1, ncols=2, figsize=(24, 6))\n",
        "\n",
        "# rectangular box plot\n",
        "bplot1 = ax1.boxplot(all_data1.transpose(),\n",
        "                     vert=True,  # vertical box alignment\n",
        "                     patch_artist=True,  # fill with color\n",
        "                     labels=labels1)  # will be used to label x-ticks\n",
        "ax1.set_title('Latitude')\n",
        "\n",
        "# notch shape box plot\n",
        "bplot2 = ax2.boxplot(all_data2.transpose(),\n",
        "                     vert=True,  # vertical box alignment\n",
        "                     patch_artist=True,  # fill with color\n",
        "                     labels=labels2)  # will be used to label x-ticks\n",
        "ax2.set_title('Longitude')\n",
        "\n",
        "# fill with colors\n",
        "colors = ['pink', 'lightblue', 'lightgreen', 'blue']\n",
        "for bplot in (bplot1, bplot2):\n",
        "    for patch, color in zip(bplot['boxes'], colors):\n",
        "        patch.set_facecolor(color)\n",
        "\n",
        "# adding horizontal grid lines\n",
        "for ax in [ax1, ax2]:\n",
        "    ax.yaxis.grid(True)\n",
        "    ax.set_xlabel('Record Keys')\n",
        "    ax.set_ylabel('Values')\n",
        "\n",
        "plt.show()"
      ],
      "execution_count": null,
      "outputs": [
        {
          "output_type": "display_data",
          "data": {
            "image/png": "[encoded data removed]",
            "text/plain": [
              "<Figure size 1728x432 with 2 Axes>"
            ]
          },
          "metadata": {
            "tags": [],
            "needs_background": "light"
          }
        }
      ]
    },
    {
      "cell_type": "code",
      "metadata": {
        "colab": {
          "base_uri": "https://localhost:8080/",
          "height": 284
        },
        "id": "o_Exkz1EBwRF",
        "outputId": "787833f1-9b0e-4b32-d776-2e2cf79fe5d7"
      },
      "source": [
        "taxi_rides_df[['pickup_latitude', 'dropoff_latitude', 'pickup_longitude', 'dropoff_latitude']].describe()"
      ],
      "execution_count": null,
      "outputs": [
        {
          "output_type": "execute_result",
          "data": {
            "text/html": [
              "<div>\n",
              "<style scoped>\n",
              "    .dataframe tbody tr th:only-of-type {\n",
              "        vertical-align: middle;\n",
              "    }\n",
              "\n",
              "    .dataframe tbody tr th {\n",
              "        vertical-align: top;\n",
              "    }\n",
              "\n",
              "    .dataframe thead th {\n",
              "        text-align: right;\n",
              "    }\n",
              "</style>\n",
              "<table border=\"1\" class=\"dataframe\">\n",
              "  <thead>\n",
              "    <tr style=\"text-align: right;\">\n",
              "      <th></th>\n",
              "      <th>pickup_latitude</th>\n",
              "      <th>dropoff_latitude</th>\n",
              "      <th>pickup_longitude</th>\n",
              "      <th>dropoff_latitude</th>\n",
              "    </tr>\n",
              "  </thead>\n",
              "  <tbody>\n",
              "    <tr>\n",
              "      <th>count</th>\n",
              "      <td>1.048468e+06</td>\n",
              "      <td>1.048468e+06</td>\n",
              "      <td>1.048468e+06</td>\n",
              "      <td>1.048468e+06</td>\n",
              "    </tr>\n",
              "    <tr>\n",
              "      <th>mean</th>\n",
              "      <td>4.075094e+01</td>\n",
              "      <td>4.075183e+01</td>\n",
              "      <td>-7.397343e+01</td>\n",
              "      <td>4.075183e+01</td>\n",
              "    </tr>\n",
              "    <tr>\n",
              "      <th>std</th>\n",
              "      <td>3.372348e-02</td>\n",
              "      <td>3.636651e-02</td>\n",
              "      <td>4.268783e-02</td>\n",
              "      <td>3.636651e-02</td>\n",
              "    </tr>\n",
              "    <tr>\n",
              "      <th>min</th>\n",
              "      <td>3.435970e+01</td>\n",
              "      <td>3.218114e+01</td>\n",
              "      <td>-7.854740e+01</td>\n",
              "      <td>3.218114e+01</td>\n",
              "    </tr>\n",
              "    <tr>\n",
              "      <th>25%</th>\n",
              "      <td>4.073738e+01</td>\n",
              "      <td>4.073594e+01</td>\n",
              "      <td>-7.399186e+01</td>\n",
              "      <td>4.073594e+01</td>\n",
              "    </tr>\n",
              "    <tr>\n",
              "      <th>50%</th>\n",
              "      <td>4.075415e+01</td>\n",
              "      <td>4.075455e+01</td>\n",
              "      <td>-7.398174e+01</td>\n",
              "      <td>4.075455e+01</td>\n",
              "    </tr>\n",
              "    <tr>\n",
              "      <th>75%</th>\n",
              "      <td>4.076836e+01</td>\n",
              "      <td>4.076984e+01</td>\n",
              "      <td>-7.396731e+01</td>\n",
              "      <td>4.076984e+01</td>\n",
              "    </tr>\n",
              "    <tr>\n",
              "      <th>max</th>\n",
              "      <td>5.188108e+01</td>\n",
              "      <td>4.391176e+01</td>\n",
              "      <td>-6.133553e+01</td>\n",
              "      <td>4.391176e+01</td>\n",
              "    </tr>\n",
              "  </tbody>\n",
              "</table>\n",
              "</div>"
            ],
            "text/plain": [
              "       pickup_latitude  dropoff_latitude  pickup_longitude  dropoff_latitude\n",
              "count     1.048468e+06      1.048468e+06      1.048468e+06      1.048468e+06\n",
              "mean      4.075094e+01      4.075183e+01     -7.397343e+01      4.075183e+01\n",
              "std       3.372348e-02      3.636651e-02      4.268783e-02      3.636651e-02\n",
              "min       3.435970e+01      3.218114e+01     -7.854740e+01      3.218114e+01\n",
              "25%       4.073738e+01      4.073594e+01     -7.399186e+01      4.073594e+01\n",
              "50%       4.075415e+01      4.075455e+01     -7.398174e+01      4.075455e+01\n",
              "75%       4.076836e+01      4.076984e+01     -7.396731e+01      4.076984e+01\n",
              "max       5.188108e+01      4.391176e+01     -6.133553e+01      4.391176e+01"
            ]
          },
          "metadata": {
            "tags": []
          },
          "execution_count": 65
        }
      ]
    },
    {
      "cell_type": "markdown",
      "metadata": {
        "id": "vFKHwQDRC3AN"
      },
      "source": [
        "Clearly, the pickup and dropoff locations are not limited to Manhattan, Brooklyn, Queens, Staten Island, the Bronx or New Jersey. In fact, there are outliers, that's for sure. These data points are centralized somewhere close to New York City, as we can see on the 75% percentile above."
      ]
    },
    {
      "cell_type": "markdown",
      "metadata": {
        "id": "PzQ1gq-4GcA_"
      },
      "source": [
        "## Data Enrichment"
      ]
    },
    {
      "cell_type": "markdown",
      "metadata": {
        "id": "xiLscz5OK90J"
      },
      "source": [
        "### Price"
      ]
    },
    {
      "cell_type": "code",
      "metadata": {
        "colab": {
          "base_uri": "https://localhost:8080/"
        },
        "id": "Y6GJDhavKwqt",
        "outputId": "85c8c2fe-8083-4b35-edcf-8da6bcc6677d"
      },
      "source": [
        "taxi_rides_df[['duration', 'distance', 'passenger_count']].mean()"
      ],
      "execution_count": null,
      "outputs": [
        {
          "output_type": "execute_result",
          "data": {
            "text/plain": [
              "duration           962.195626\n",
              "distance             3.442279\n",
              "passenger_count      1.664377\n",
              "dtype: float64"
            ]
          },
          "metadata": {
            "tags": []
          },
          "execution_count": 66
        }
      ]
    },
    {
      "cell_type": "code",
      "metadata": {
        "colab": {
          "base_uri": "https://localhost:8080/",
          "height": 195
        },
        "id": "Gav88SMILwfk",
        "outputId": "295c3e21-5ef2-41c5-827f-7be2af9e0a9a"
      },
      "source": [
        "taxi_rides_df[['pickup_datetime', 'dropoff_datetime', 'duration']].head()"
      ],
      "execution_count": null,
      "outputs": [
        {
          "output_type": "execute_result",
          "data": {
            "text/html": [
              "<div>\n",
              "<style scoped>\n",
              "    .dataframe tbody tr th:only-of-type {\n",
              "        vertical-align: middle;\n",
              "    }\n",
              "\n",
              "    .dataframe tbody tr th {\n",
              "        vertical-align: top;\n",
              "    }\n",
              "\n",
              "    .dataframe thead th {\n",
              "        text-align: right;\n",
              "    }\n",
              "</style>\n",
              "<table border=\"1\" class=\"dataframe\">\n",
              "  <thead>\n",
              "    <tr style=\"text-align: right;\">\n",
              "      <th></th>\n",
              "      <th>pickup_datetime</th>\n",
              "      <th>dropoff_datetime</th>\n",
              "      <th>duration</th>\n",
              "    </tr>\n",
              "  </thead>\n",
              "  <tbody>\n",
              "    <tr>\n",
              "      <th>0</th>\n",
              "      <td>2/29/16 18:39</td>\n",
              "      <td>2/29/16 18:42</td>\n",
              "      <td>227</td>\n",
              "    </tr>\n",
              "    <tr>\n",
              "      <th>1</th>\n",
              "      <td>5/16/16 23:15</td>\n",
              "      <td>5/16/16 23:31</td>\n",
              "      <td>947</td>\n",
              "    </tr>\n",
              "    <tr>\n",
              "      <th>2</th>\n",
              "      <td>1/25/16 19:45</td>\n",
              "      <td>1/25/16 19:54</td>\n",
              "      <td>580</td>\n",
              "    </tr>\n",
              "    <tr>\n",
              "      <th>3</th>\n",
              "      <td>1/27/16 22:29</td>\n",
              "      <td>1/27/16 22:29</td>\n",
              "      <td>27</td>\n",
              "    </tr>\n",
              "    <tr>\n",
              "      <th>4</th>\n",
              "      <td>1/22/16 16:13</td>\n",
              "      <td>1/22/16 16:13</td>\n",
              "      <td>19</td>\n",
              "    </tr>\n",
              "  </tbody>\n",
              "</table>\n",
              "</div>"
            ],
            "text/plain": [
              "  pickup_datetime dropoff_datetime  duration\n",
              "0   2/29/16 18:39    2/29/16 18:42       227\n",
              "1   5/16/16 23:15    5/16/16 23:31       947\n",
              "2   1/25/16 19:45    1/25/16 19:54       580\n",
              "3   1/27/16 22:29    1/27/16 22:29        27\n",
              "4   1/22/16 16:13    1/22/16 16:13        19"
            ]
          },
          "metadata": {
            "tags": []
          },
          "execution_count": 67
        }
      ]
    },
    {
      "cell_type": "markdown",
      "metadata": {
        "id": "q0t5THCKLrVH"
      },
      "source": [
        "Taking a look at the values from keys 'pickup_datetime', 'dropoff_datetime' and 'duration', **we can assume 'duration' is measured in seconds.**\n"
      ]
    },
    {
      "cell_type": "code",
      "metadata": {
        "id": "O9kdwTrAOvzz"
      },
      "source": [
        "# Python 3 program to calculate Distance Between Two Points on Earth\n",
        "from math import radians, cos, sin, asin, sqrt\n",
        "def distance(lat1, lat2, lon1, lon2):\n",
        "      \n",
        "    # The math module contains a function named\n",
        "    # radians which converts from degrees to radians.\n",
        "    lon1 = radians(lon1)\n",
        "    lon2 = radians(lon2)\n",
        "    lat1 = radians(lat1)\n",
        "    lat2 = radians(lat2)\n",
        "       \n",
        "    # Haversine formula \n",
        "    dlon = lon2 - lon1 \n",
        "    dlat = lat2 - lat1\n",
        "    a = sin(dlat / 2)**2 + cos(lat1) * cos(lat2) * sin(dlon / 2)**2\n",
        "  \n",
        "    c = 2 * asin(sqrt(a)) \n",
        "     \n",
        "    # Radius of earth in kilometers. Use 3956 for miles\n",
        "    r = 6371\n",
        "       \n",
        "    # calculate the result\n",
        "    return(c * r)"
      ],
      "execution_count": null,
      "outputs": []
    },
    {
      "cell_type": "code",
      "metadata": {
        "id": "hRqOD4PyPnbp"
      },
      "source": [
        " taxi_rides_df['projected_distance_km'] = taxi_rides_df.apply(lambda row : distance(row['pickup_latitude'],row['dropoff_latitude'], row['pickup_longitude'], row['dropoff_longitude']), axis = 1)"
      ],
      "execution_count": null,
      "outputs": []
    },
    {
      "cell_type": "code",
      "metadata": {
        "colab": {
          "base_uri": "https://localhost:8080/",
          "height": 195
        },
        "id": "bQ1NQLzBP9Hy",
        "outputId": "0ded2eed-a1d4-4604-9d83-342c5e3312c2"
      },
      "source": [
        "taxi_rides_df[['distance', 'projected_distance_km']].sort_values(by='distance',ascending=False).head()"
      ],
      "execution_count": null,
      "outputs": [
        {
          "output_type": "execute_result",
          "data": {
            "text/html": [
              "<div>\n",
              "<style scoped>\n",
              "    .dataframe tbody tr th:only-of-type {\n",
              "        vertical-align: middle;\n",
              "    }\n",
              "\n",
              "    .dataframe tbody tr th {\n",
              "        vertical-align: top;\n",
              "    }\n",
              "\n",
              "    .dataframe thead th {\n",
              "        text-align: right;\n",
              "    }\n",
              "</style>\n",
              "<table border=\"1\" class=\"dataframe\">\n",
              "  <thead>\n",
              "    <tr style=\"text-align: right;\">\n",
              "      <th></th>\n",
              "      <th>distance</th>\n",
              "      <th>projected_distance_km</th>\n",
              "    </tr>\n",
              "  </thead>\n",
              "  <tbody>\n",
              "    <tr>\n",
              "      <th>1048467</th>\n",
              "      <td>1240.908677</td>\n",
              "      <td>1240.908676</td>\n",
              "    </tr>\n",
              "    <tr>\n",
              "      <th>1048466</th>\n",
              "      <td>891.214103</td>\n",
              "      <td>891.214104</td>\n",
              "    </tr>\n",
              "    <tr>\n",
              "      <th>1048465</th>\n",
              "      <td>578.842818</td>\n",
              "      <td>578.842817</td>\n",
              "    </tr>\n",
              "    <tr>\n",
              "      <th>1048464</th>\n",
              "      <td>562.235188</td>\n",
              "      <td>562.235189</td>\n",
              "    </tr>\n",
              "    <tr>\n",
              "      <th>1048463</th>\n",
              "      <td>545.853499</td>\n",
              "      <td>545.853499</td>\n",
              "    </tr>\n",
              "  </tbody>\n",
              "</table>\n",
              "</div>"
            ],
            "text/plain": [
              "            distance  projected_distance_km\n",
              "1048467  1240.908677            1240.908676\n",
              "1048466   891.214103             891.214104\n",
              "1048465   578.842818             578.842817\n",
              "1048464   562.235188             562.235189\n",
              "1048463   545.853499             545.853499"
            ]
          },
          "metadata": {
            "tags": []
          },
          "execution_count": 70
        }
      ]
    },
    {
      "cell_type": "markdown",
      "metadata": {
        "id": "STqf4COJQSPZ"
      },
      "source": [
        "As we can see, we can safely assume 'distance' is measured in kilometers."
      ]
    },
    {
      "cell_type": "markdown",
      "metadata": {
        "id": "sVsM3NKoQ8VY"
      },
      "source": [
        "Taking a look at [Trip Advisor](https://www.tripadvisor.com/Travel-g60763-s304/New-York-City:New-York:Taxis.And.Rental.Cars.html), we can see that taxis in NY, where most of our taxi rides take place, do not charge per passenger, criteria are solely based on distance and duration, so we're going to consider only these 2 keys. Price references were took here: [link](https://www.taxi-calculator.com/taxi-fare-new-york-city/259)"
      ]
    },
    {
      "cell_type": "markdown",
      "metadata": {
        "id": "YSSeJil0R-5W"
      },
      "source": [
        "The basic fee varies according to the day of the week, considering USD 2.5 for week days and USD 3.00 for weekend days, let us assume the average basic fee equals:"
      ]
    },
    {
      "cell_type": "code",
      "metadata": {
        "colab": {
          "base_uri": "https://localhost:8080/"
        },
        "id": "YQFi5kM3R9w5",
        "outputId": "fa9eaf0c-2edb-4554-97e2-8484e4ff6cea"
      },
      "source": [
        "average_basic_fee = (2*3+5*2.5)/7\n",
        "average_basic_fee"
      ],
      "execution_count": null,
      "outputs": [
        {
          "output_type": "execute_result",
          "data": {
            "text/plain": [
              "2.642857142857143"
            ]
          },
          "metadata": {
            "tags": []
          },
          "execution_count": 71
        }
      ]
    },
    {
      "cell_type": "markdown",
      "metadata": {
        "id": "WoUoIpv1bN2z"
      },
      "source": [
        "A hour of waiting time equals USD 30.00, so computing the value per second:"
      ]
    },
    {
      "cell_type": "code",
      "metadata": {
        "colab": {
          "base_uri": "https://localhost:8080/"
        },
        "id": "zFmUfg7YbXGK",
        "outputId": "6f72a365-0535-4914-e8ee-4e909ea53fb4"
      },
      "source": [
        "fee_per_second = 30/3600\n",
        "fee_per_second"
      ],
      "execution_count": null,
      "outputs": [
        {
          "output_type": "execute_result",
          "data": {
            "text/plain": [
              "0.008333333333333333"
            ]
          },
          "metadata": {
            "tags": []
          },
          "execution_count": 72
        }
      ]
    },
    {
      "cell_type": "code",
      "metadata": {
        "id": "MjfHs9F1QndZ"
      },
      "source": [
        "def taxi_price(duration_seconds, distance_km):\n",
        "  average_basic_fee = 2.642\n",
        "  fee_per_km = 1.56\n",
        "  fee_per_s = 0.00834\n",
        "  return (average_basic_fee + fee_per_km*distance_km + fee_per_s*duration_seconds)"
      ],
      "execution_count": null,
      "outputs": []
    },
    {
      "cell_type": "code",
      "metadata": {
        "id": "S8GNF23Ra82p"
      },
      "source": [
        " taxi_rides_df['price'] = taxi_rides_df.apply(lambda row : taxi_price(row['duration'], row['distance']), axis = 1)"
      ],
      "execution_count": null,
      "outputs": []
    },
    {
      "cell_type": "code",
      "metadata": {
        "colab": {
          "base_uri": "https://localhost:8080/",
          "height": 195
        },
        "id": "mwt3OYo0b8DX",
        "outputId": "f71b2bb9-a1be-4627-f07d-d8705bf633a9"
      },
      "source": [
        "taxi_rides_df[['duration', 'distance', 'price']].sort_values(by='price',ascending=False).head()"
      ],
      "execution_count": null,
      "outputs": [
        {
          "output_type": "execute_result",
          "data": {
            "text/html": [
              "<div>\n",
              "<style scoped>\n",
              "    .dataframe tbody tr th:only-of-type {\n",
              "        vertical-align: middle;\n",
              "    }\n",
              "\n",
              "    .dataframe tbody tr th {\n",
              "        vertical-align: top;\n",
              "    }\n",
              "\n",
              "    .dataframe thead th {\n",
              "        text-align: right;\n",
              "    }\n",
              "</style>\n",
              "<table border=\"1\" class=\"dataframe\">\n",
              "  <thead>\n",
              "    <tr style=\"text-align: right;\">\n",
              "      <th></th>\n",
              "      <th>duration</th>\n",
              "      <th>distance</th>\n",
              "      <th>price</th>\n",
              "    </tr>\n",
              "  </thead>\n",
              "  <tbody>\n",
              "    <tr>\n",
              "      <th>1030640</th>\n",
              "      <td>3526282</td>\n",
              "      <td>19.900661</td>\n",
              "      <td>29442.878912</td>\n",
              "    </tr>\n",
              "    <tr>\n",
              "      <th>397634</th>\n",
              "      <td>2227612</td>\n",
              "      <td>1.635128</td>\n",
              "      <td>18583.476879</td>\n",
              "    </tr>\n",
              "    <tr>\n",
              "      <th>900870</th>\n",
              "      <td>2049578</td>\n",
              "      <td>5.982487</td>\n",
              "      <td>17105.455200</td>\n",
              "    </tr>\n",
              "    <tr>\n",
              "      <th>1032504</th>\n",
              "      <td>1939736</td>\n",
              "      <td>20.148664</td>\n",
              "      <td>16211.472156</td>\n",
              "    </tr>\n",
              "    <tr>\n",
              "      <th>1048467</th>\n",
              "      <td>792</td>\n",
              "      <td>1240.908677</td>\n",
              "      <td>1945.064816</td>\n",
              "    </tr>\n",
              "  </tbody>\n",
              "</table>\n",
              "</div>"
            ],
            "text/plain": [
              "         duration     distance         price\n",
              "1030640   3526282    19.900661  29442.878912\n",
              "397634    2227612     1.635128  18583.476879\n",
              "900870    2049578     5.982487  17105.455200\n",
              "1032504   1939736    20.148664  16211.472156\n",
              "1048467       792  1240.908677   1945.064816"
            ]
          },
          "metadata": {
            "tags": []
          },
          "execution_count": 75
        }
      ]
    },
    {
      "cell_type": "markdown",
      "metadata": {
        "id": "e_gXojvbdnud"
      },
      "source": [
        "### Distance-to-duration Ratio"
      ]
    },
    {
      "cell_type": "code",
      "metadata": {
        "id": "yNT84f_jhp-J"
      },
      "source": [
        "def division(x, y):\n",
        "  if y != 0:\n",
        "    return x/y\n",
        "  elif y == 0:\n",
        "    return 0"
      ],
      "execution_count": null,
      "outputs": []
    },
    {
      "cell_type": "code",
      "metadata": {
        "colab": {
          "base_uri": "https://localhost:8080/"
        },
        "id": "6xvFltLZdp3i",
        "outputId": "c95620b9-145a-4081-c911-33beeebc9369"
      },
      "source": [
        "taxi_rides_df['distance_to_duration_ratio'] = taxi_rides_df.apply(lambda row : division(row['distance'], row['duration']), axis = 1)\n",
        "taxi_rides_df['distance_to_duration_ratio'].sort_values(ascending=False)"
      ],
      "execution_count": null,
      "outputs": [
        {
          "output_type": "execute_result",
          "data": {
            "text/plain": [
              "1048465    1.910372\n",
              "1048467    1.566804\n",
              "1048466    1.458616\n",
              "1048461    1.135198\n",
              "1048462    0.487933\n",
              "             ...   \n",
              "2379       0.000000\n",
              "2378       0.000000\n",
              "2377       0.000000\n",
              "2376       0.000000\n",
              "0          0.000000\n",
              "Name: distance_to_duration_ratio, Length: 1048468, dtype: float64"
            ]
          },
          "metadata": {
            "tags": []
          },
          "execution_count": 77
        }
      ]
    },
    {
      "cell_type": "markdown",
      "metadata": {
        "id": "jElSW_B8eIlD"
      },
      "source": [
        "### Duration-to-distance Ratio"
      ]
    },
    {
      "cell_type": "code",
      "metadata": {
        "colab": {
          "base_uri": "https://localhost:8080/"
        },
        "id": "jkmblaNEeLNt",
        "outputId": "428743c3-fd7f-47e8-dc16-d5a4145e5ff7"
      },
      "source": [
        "taxi_rides_df['duration_to_distance_ratio'] = taxi_rides_df.apply(lambda row : division(row['duration'], row['distance']), axis = 1)\n",
        "taxi_rides_df['duration_to_distance_ratio'].sort_values(ascending=False)"
      ],
      "execution_count": null,
      "outputs": [
        {
          "output_type": "execute_result",
          "data": {
            "text/plain": [
              "3649    9.099262e+08\n",
              "4415    1.340647e+08\n",
              "4702    7.620260e+07\n",
              "4752    6.502126e+07\n",
              "4867    6.018890e+07\n",
              "            ...     \n",
              "2379    0.000000e+00\n",
              "2378    0.000000e+00\n",
              "2377    0.000000e+00\n",
              "2376    0.000000e+00\n",
              "0       0.000000e+00\n",
              "Name: duration_to_distance_ratio, Length: 1048468, dtype: float64"
            ]
          },
          "metadata": {
            "tags": []
          },
          "execution_count": 78
        }
      ]
    },
    {
      "cell_type": "markdown",
      "metadata": {
        "id": "HIk-EtrCgQf7"
      },
      "source": [
        "## Scope and Distribution"
      ]
    },
    {
      "cell_type": "code",
      "metadata": {
        "id": "JOA-qXKkVdd3"
      },
      "source": [
        "import pandas as pd"
      ],
      "execution_count": 1,
      "outputs": []
    },
    {
      "cell_type": "code",
      "metadata": {
        "id": "287qnbtXVgI4"
      },
      "source": [
        "taxi_rides_df = pd.read_csv('/content/drive/MyDrive/DataProductManagerUdacityData/MidtermProject/taxi_rides_output.csv')"
      ],
      "execution_count": 4,
      "outputs": []
    },
    {
      "cell_type": "code",
      "metadata": {
        "colab": {
          "base_uri": "https://localhost:8080/"
        },
        "id": "l7f4YLKo-sIB",
        "outputId": "b9dcb16a-872b-4856-ce16-cbe16fd4acc2"
      },
      "source": [
        "taxi_rides_df.columns"
      ],
      "execution_count": 28,
      "outputs": [
        {
          "output_type": "execute_result",
          "data": {
            "text/plain": [
              "Index(['Unnamed: 0', 'id', 'vendor_id', 'pickup_datetime', 'dropoff_datetime',\n",
              "       'passenger_count', 'pickup_longitude', 'pickup_latitude',\n",
              "       'dropoff_longitude', 'dropoff_latitude', 'store_and_fwd_flag',\n",
              "       'duration', 'distance', 'Unnamed: 12', 'Unnamed: 13', 'Unnamed: 14',\n",
              "       'projected_distance_km', 'price', 'distance_to_duration_ratio',\n",
              "       'duration_to_distance_ratio', 'pickup_datetime_dt'],\n",
              "      dtype='object')"
            ]
          },
          "metadata": {
            "tags": []
          },
          "execution_count": 28
        }
      ]
    },
    {
      "cell_type": "code",
      "metadata": {
        "colab": {
          "base_uri": "https://localhost:8080/",
          "height": 283
        },
        "id": "0zO2xgk_4QV3",
        "outputId": "330f637c-1d3e-4d10-c528-5407118ef97d"
      },
      "source": [
        "import matplotlib.pyplot as plt\n",
        "\n",
        "plt.scatter(x=taxi_rides_df['pickup_longitude'], y=taxi_rides_df['pickup_latitude'], c = 'b')\n",
        "plt.scatter(x=taxi_rides_df['dropoff_longitude'], y=taxi_rides_df['dropoff_latitude'], c = 'r', s=0.5)\n",
        "\n",
        "plt.xlim(-74.2, -73.6)\n",
        "plt.ylim(40.5,41)\n",
        "plt.xlabel('Longitude')\n",
        "plt.ylabel('Latitude')\n",
        "plt.show()"
      ],
      "execution_count": 13,
      "outputs": [
        {
          "output_type": "display_data",
          "data": {
            "image/png": "[encoded data removed]",
            "text/plain": [
              "<Figure size 432x288 with 1 Axes>"
            ]
          },
          "metadata": {
            "tags": [],
            "needs_background": "light"
          }
        }
      ]
    },
    {
      "cell_type": "markdown",
      "metadata": {
        "id": "9yrSX8bUVriC"
      },
      "source": [
        "### Eliminating outliers"
      ]
    },
    {
      "cell_type": "code",
      "metadata": {
        "id": "j9_PMgZ_VqFb"
      },
      "source": [
        "mask = ((taxi_rides_df.distance > 0.1)&(taxi_rides_df.distance<200)&(taxi_rides_df.duration>59)&(taxi_rides_df.duration<86400))"
      ],
      "execution_count": 5,
      "outputs": []
    },
    {
      "cell_type": "code",
      "metadata": {
        "id": "YK_Zn2f546Ju"
      },
      "source": [
        "mask = mask & (taxi_rides_df.pickup_longitude > -74.2) & (taxi_rides_df.pickup_longitude < -73.6) & (taxi_rides_df.pickup_latitude > 40.5) & (taxi_rides_df.pickup_latitude < 41)"
      ],
      "execution_count": 15,
      "outputs": []
    },
    {
      "cell_type": "code",
      "metadata": {
        "id": "LdM9yo6M5lwm"
      },
      "source": [
        "mask = mask & (taxi_rides_df.dropoff_longitude > -74.2) & (taxi_rides_df.dropoff_longitude < -73.6) & (taxi_rides_df.dropoff_latitude > 40.5) & (taxi_rides_df.dropoff_latitude < 41)"
      ],
      "execution_count": 16,
      "outputs": []
    },
    {
      "cell_type": "code",
      "metadata": {
        "colab": {
          "base_uri": "https://localhost:8080/"
        },
        "id": "vZQN7S8_Ws69",
        "outputId": "7458c6f6-f68b-417f-c8c9-f55065617fc6"
      },
      "source": [
        "taxi_rides_df = taxi_rides_df[mask]"
      ],
      "execution_count": 17,
      "outputs": [
        {
          "output_type": "stream",
          "text": [
            "/usr/local/lib/python3.7/dist-packages/ipykernel_launcher.py:1: UserWarning: Boolean Series key will be reindexed to match DataFrame index.\n",
            "  \"\"\"Entry point for launching an IPython kernel.\n"
          ],
          "name": "stderr"
        }
      ]
    },
    {
      "cell_type": "code",
      "metadata": {
        "colab": {
          "base_uri": "https://localhost:8080/"
        },
        "id": "3izd7FK6gVvD",
        "outputId": "17177d86-909b-4223-9df5-2d9ce52870d5"
      },
      "source": [
        "taxi_rides_df[['duration', 'distance', 'passenger_count', 'duration_to_distance_ratio', 'price']].mean()"
      ],
      "execution_count": 18,
      "outputs": [
        {
          "output_type": "execute_result",
          "data": {
            "text/plain": [
              "duration                      957.902542\n",
              "distance                        3.461676\n",
              "passenger_count                 1.665531\n",
              "duration_to_distance_ratio    400.610963\n",
              "price                          16.031123\n",
              "dtype: float64"
            ]
          },
          "metadata": {
            "tags": []
          },
          "execution_count": 18
        }
      ]
    },
    {
      "cell_type": "code",
      "metadata": {
        "colab": {
          "base_uri": "https://localhost:8080/"
        },
        "id": "TM6RWPWQgnbb",
        "outputId": "c3956ede-a9a5-4fbb-b43f-a4a8b55e22a2"
      },
      "source": [
        "taxi_rides_df[['duration', 'distance', 'passenger_count', 'duration_to_distance_ratio', 'price']].median()"
      ],
      "execution_count": 19,
      "outputs": [
        {
          "output_type": "execute_result",
          "data": {
            "text/plain": [
              "duration                      666.000000\n",
              "distance                        2.117855\n",
              "passenger_count                 1.000000\n",
              "duration_to_distance_ratio    280.282427\n",
              "price                          11.724261\n",
              "dtype: float64"
            ]
          },
          "metadata": {
            "tags": []
          },
          "execution_count": 19
        }
      ]
    },
    {
      "cell_type": "code",
      "metadata": {
        "colab": {
          "base_uri": "https://localhost:8080/"
        },
        "id": "J42oqJLkis8x",
        "outputId": "344f98d9-d519-43a4-83b6-d3c306c119b3"
      },
      "source": [
        "taxi_rides_df[['duration', 'distance', 'passenger_count', 'duration_to_distance_ratio', 'price']].std()"
      ],
      "execution_count": 20,
      "outputs": [
        {
          "output_type": "execute_result",
          "data": {
            "text/plain": [
              "duration                      3179.655994\n",
              "distance                         3.889264\n",
              "passenger_count                  1.314901\n",
              "duration_to_distance_ratio    2746.224469\n",
              "price                           28.157156\n",
              "dtype: float64"
            ]
          },
          "metadata": {
            "tags": []
          },
          "execution_count": 20
        }
      ]
    },
    {
      "cell_type": "code",
      "metadata": {
        "colab": {
          "base_uri": "https://localhost:8080/"
        },
        "id": "J4THZ0SLg2L0",
        "outputId": "b73dc7e1-366c-4b6e-a8c3-e4a0b70d3fef"
      },
      "source": [
        "2 * taxi_rides_df[['duration', 'distance', 'passenger_count', 'duration_to_distance_ratio', 'price']].std()"
      ],
      "execution_count": 21,
      "outputs": [
        {
          "output_type": "execute_result",
          "data": {
            "text/plain": [
              "duration                      6359.311989\n",
              "distance                         7.778527\n",
              "passenger_count                  2.629803\n",
              "duration_to_distance_ratio    5492.448937\n",
              "price                           56.314313\n",
              "dtype: float64"
            ]
          },
          "metadata": {
            "tags": []
          },
          "execution_count": 21
        }
      ]
    },
    {
      "cell_type": "code",
      "metadata": {
        "colab": {
          "base_uri": "https://localhost:8080/"
        },
        "id": "X-co67WIkQHf",
        "outputId": "4f954223-22e9-47c1-8088-6e161caabdb0"
      },
      "source": [
        "taxi_rides_df[['duration', 'distance', 'passenger_count', 'duration_to_distance_ratio', 'price']].mean() + taxi_rides_df[['duration', 'distance', 'passenger_count', 'duration_to_distance_ratio', 'price']].std()"
      ],
      "execution_count": 22,
      "outputs": [
        {
          "output_type": "execute_result",
          "data": {
            "text/plain": [
              "duration                      4137.558537\n",
              "distance                         7.350940\n",
              "passenger_count                  2.980432\n",
              "duration_to_distance_ratio    3146.835432\n",
              "price                           44.188279\n",
              "dtype: float64"
            ]
          },
          "metadata": {
            "tags": []
          },
          "execution_count": 22
        }
      ]
    },
    {
      "cell_type": "code",
      "metadata": {
        "colab": {
          "base_uri": "https://localhost:8080/"
        },
        "id": "FCdTrJ4yk-jI",
        "outputId": "a78510cb-66c8-4701-a43f-3f2f1550f7d2"
      },
      "source": [
        "taxi_rides_df[['duration', 'distance', 'passenger_count', 'duration_to_distance_ratio', 'price']].mean() + 2 * taxi_rides_df[['duration', 'distance', 'passenger_count', 'duration_to_distance_ratio', 'price']].std()"
      ],
      "execution_count": 23,
      "outputs": [
        {
          "output_type": "execute_result",
          "data": {
            "text/plain": [
              "duration                      7317.214531\n",
              "distance                        11.240204\n",
              "passenger_count                  4.295334\n",
              "duration_to_distance_ratio    5893.059900\n",
              "price                           72.345435\n",
              "dtype: float64"
            ]
          },
          "metadata": {
            "tags": []
          },
          "execution_count": 23
        }
      ]
    },
    {
      "cell_type": "code",
      "metadata": {
        "colab": {
          "base_uri": "https://localhost:8080/"
        },
        "id": "Mjt3gYtKlDAe",
        "outputId": "63284040-e92e-41fa-e96b-56dabe09f8ca"
      },
      "source": [
        "4139.54/60"
      ],
      "execution_count": 24,
      "outputs": [
        {
          "output_type": "execute_result",
          "data": {
            "text/plain": [
              "68.99233333333333"
            ]
          },
          "metadata": {
            "tags": []
          },
          "execution_count": 24
        }
      ]
    },
    {
      "cell_type": "code",
      "metadata": {
        "colab": {
          "base_uri": "https://localhost:8080/"
        },
        "id": "Jwz4Ftl0lqn8",
        "outputId": "4a3f8c83-16e6-49af-b103-2428169b8a72"
      },
      "source": [
        "7320.27/60"
      ],
      "execution_count": 25,
      "outputs": [
        {
          "output_type": "execute_result",
          "data": {
            "text/plain": [
              "122.00450000000001"
            ]
          },
          "metadata": {
            "tags": []
          },
          "execution_count": 25
        }
      ]
    },
    {
      "cell_type": "code",
      "metadata": {
        "colab": {
          "base_uri": "https://localhost:8080/",
          "height": 297
        },
        "id": "ksH4ug5tl_Hl",
        "outputId": "6349b246-5090-4d52-b66b-5c54d8ef2e99"
      },
      "source": [
        "taxi_rides_df[['duration', 'distance', 'passenger_count', 'duration_to_distance_ratio', 'price']].describe()"
      ],
      "execution_count": 26,
      "outputs": [
        {
          "output_type": "execute_result",
          "data": {
            "text/html": [
              "<div>\n",
              "<style scoped>\n",
              "    .dataframe tbody tr th:only-of-type {\n",
              "        vertical-align: middle;\n",
              "    }\n",
              "\n",
              "    .dataframe tbody tr th {\n",
              "        vertical-align: top;\n",
              "    }\n",
              "\n",
              "    .dataframe thead th {\n",
              "        text-align: right;\n",
              "    }\n",
              "</style>\n",
              "<table border=\"1\" class=\"dataframe\">\n",
              "  <thead>\n",
              "    <tr style=\"text-align: right;\">\n",
              "      <th></th>\n",
              "      <th>duration</th>\n",
              "      <th>distance</th>\n",
              "      <th>passenger_count</th>\n",
              "      <th>duration_to_distance_ratio</th>\n",
              "      <th>price</th>\n",
              "    </tr>\n",
              "  </thead>\n",
              "  <tbody>\n",
              "    <tr>\n",
              "      <th>count</th>\n",
              "      <td>1.036502e+06</td>\n",
              "      <td>1.036502e+06</td>\n",
              "      <td>1.036502e+06</td>\n",
              "      <td>1.036502e+06</td>\n",
              "      <td>1.036502e+06</td>\n",
              "    </tr>\n",
              "    <tr>\n",
              "      <th>mean</th>\n",
              "      <td>9.579025e+02</td>\n",
              "      <td>3.461676e+00</td>\n",
              "      <td>1.665531e+00</td>\n",
              "      <td>4.006110e+02</td>\n",
              "      <td>1.603112e+01</td>\n",
              "    </tr>\n",
              "    <tr>\n",
              "      <th>std</th>\n",
              "      <td>3.179656e+03</td>\n",
              "      <td>3.889264e+00</td>\n",
              "      <td>1.314901e+00</td>\n",
              "      <td>2.746224e+03</td>\n",
              "      <td>2.815716e+01</td>\n",
              "    </tr>\n",
              "    <tr>\n",
              "      <th>min</th>\n",
              "      <td>6.000000e+01</td>\n",
              "      <td>1.000080e-01</td>\n",
              "      <td>0.000000e+00</td>\n",
              "      <td>6.167189e+00</td>\n",
              "      <td>3.317616e+00</td>\n",
              "    </tr>\n",
              "    <tr>\n",
              "      <th>25%</th>\n",
              "      <td>4.020000e+02</td>\n",
              "      <td>1.256062e+00</td>\n",
              "      <td>1.000000e+00</td>\n",
              "      <td>2.013575e+02</td>\n",
              "      <td>8.201860e+00</td>\n",
              "    </tr>\n",
              "    <tr>\n",
              "      <th>50%</th>\n",
              "      <td>6.660000e+02</td>\n",
              "      <td>2.117855e+00</td>\n",
              "      <td>1.000000e+00</td>\n",
              "      <td>2.802824e+02</td>\n",
              "      <td>1.172426e+01</td>\n",
              "    </tr>\n",
              "    <tr>\n",
              "      <th>75%</th>\n",
              "      <td>1.079000e+03</td>\n",
              "      <td>3.908277e+00</td>\n",
              "      <td>2.000000e+00</td>\n",
              "      <td>3.907190e+02</td>\n",
              "      <td>1.784336e+01</td>\n",
              "    </tr>\n",
              "    <tr>\n",
              "      <th>max</th>\n",
              "      <td>8.639100e+04</td>\n",
              "      <td>4.776513e+01</td>\n",
              "      <td>8.000000e+00</td>\n",
              "      <td>8.332166e+05</td>\n",
              "      <td>7.560984e+02</td>\n",
              "    </tr>\n",
              "  </tbody>\n",
              "</table>\n",
              "</div>"
            ],
            "text/plain": [
              "           duration      distance  ...  duration_to_distance_ratio         price\n",
              "count  1.036502e+06  1.036502e+06  ...                1.036502e+06  1.036502e+06\n",
              "mean   9.579025e+02  3.461676e+00  ...                4.006110e+02  1.603112e+01\n",
              "std    3.179656e+03  3.889264e+00  ...                2.746224e+03  2.815716e+01\n",
              "min    6.000000e+01  1.000080e-01  ...                6.167189e+00  3.317616e+00\n",
              "25%    4.020000e+02  1.256062e+00  ...                2.013575e+02  8.201860e+00\n",
              "50%    6.660000e+02  2.117855e+00  ...                2.802824e+02  1.172426e+01\n",
              "75%    1.079000e+03  3.908277e+00  ...                3.907190e+02  1.784336e+01\n",
              "max    8.639100e+04  4.776513e+01  ...                8.332166e+05  7.560984e+02\n",
              "\n",
              "[8 rows x 5 columns]"
            ]
          },
          "metadata": {
            "tags": []
          },
          "execution_count": 26
        }
      ]
    },
    {
      "cell_type": "code",
      "metadata": {
        "colab": {
          "base_uri": "https://localhost:8080/"
        },
        "id": "k1Zo1IXc6Tac",
        "outputId": "0e8acb51-8e28-4af3-f307-43b967efaf2c"
      },
      "source": [
        "len(taxi_rides_df[taxi_rides_df.duration < 300])/len(taxi_rides_df)"
      ],
      "execution_count": 27,
      "outputs": [
        {
          "output_type": "execute_result",
          "data": {
            "text/plain": [
              "0.14522306758694145"
            ]
          },
          "metadata": {
            "tags": []
          },
          "execution_count": 27
        }
      ]
    },
    {
      "cell_type": "code",
      "metadata": {
        "id": "4aj3gDp99unD"
      },
      "source": [
        ""
      ],
      "execution_count": null,
      "outputs": []
    },
    {
      "cell_type": "markdown",
      "metadata": {
        "id": "2DB-bdLXtYHC"
      },
      "source": [
        "## Flying Car or Mini-copter"
      ]
    },
    {
      "cell_type": "code",
      "metadata": {
        "colab": {
          "base_uri": "https://localhost:8080/",
          "height": 310
        },
        "id": "bV8ugwYKulm3",
        "outputId": "034dc544-74d7-4644-adae-db51f7a33352"
      },
      "source": [
        "taxi_rides_df['passenger_count'].hist(bins=[0, 1.1, 2.1, 3.1, 4.1, 5.1, 6.1, 7.1, 8.1, 9.1, 10.1], figsize=(24, 6))\n",
        "plt.xlabel('Passenger Count')\n",
        "plt.ylabel('Total Taxi Rides')\n",
        "plt.show()"
      ],
      "execution_count": null,
      "outputs": [
        {
          "output_type": "display_data",
          "data": {
            "image/png": "[encoded data removed]",
            "text/plain": [
              "<Figure size 1728x432 with 1 Axes>"
            ]
          },
          "metadata": {
            "tags": [],
            "needs_background": "light"
          }
        }
      ]
    },
    {
      "cell_type": "code",
      "metadata": {
        "colab": {
          "base_uri": "https://localhost:8080/"
        },
        "id": "EgNdhnqjxZYV",
        "outputId": "3e7686db-9df2-41b3-ec35-4873173425f4"
      },
      "source": [
        "len(taxi_rides_df[taxi_rides_df['passenger_count']<1.1])"
      ],
      "execution_count": null,
      "outputs": [
        {
          "output_type": "execute_result",
          "data": {
            "text/plain": [
              "743095"
            ]
          },
          "metadata": {
            "tags": []
          },
          "execution_count": 89
        }
      ]
    },
    {
      "cell_type": "code",
      "metadata": {
        "colab": {
          "base_uri": "https://localhost:8080/"
        },
        "id": "0qO_NwXnyh6C",
        "outputId": "55eb430b-36d5-4b88-a0e6-1c0d87f8b1f1"
      },
      "source": [
        "len(taxi_rides_df[taxi_rides_df['passenger_count']<1.1]) / len(taxi_rides_df)"
      ],
      "execution_count": null,
      "outputs": [
        {
          "output_type": "execute_result",
          "data": {
            "text/plain": [
              "0.7087436144927647"
            ]
          },
          "metadata": {
            "tags": []
          },
          "execution_count": 90
        }
      ]
    },
    {
      "cell_type": "code",
      "metadata": {
        "colab": {
          "base_uri": "https://localhost:8080/"
        },
        "id": "j_09VAxfvIyv",
        "outputId": "dd928541-62b0-4ced-caa8-90f35bbe39e2"
      },
      "source": [
        "len(taxi_rides_df[taxi_rides_df['passenger_count']<2.1]) - len(taxi_rides_df[taxi_rides_df['passenger_count']<1.1])"
      ],
      "execution_count": null,
      "outputs": [
        {
          "output_type": "execute_result",
          "data": {
            "text/plain": [
              "151060"
            ]
          },
          "metadata": {
            "tags": []
          },
          "execution_count": 91
        }
      ]
    },
    {
      "cell_type": "code",
      "metadata": {
        "colab": {
          "base_uri": "https://localhost:8080/"
        },
        "id": "Y_b3r-0YwB5k",
        "outputId": "15f8d422-a2f1-4e38-8bbf-090a6afb954f"
      },
      "source": [
        "len(taxi_rides_df[taxi_rides_df['passenger_count']<3.1]) - len(taxi_rides_df[taxi_rides_df['passenger_count']<2.1])"
      ],
      "execution_count": null,
      "outputs": [
        {
          "output_type": "execute_result",
          "data": {
            "text/plain": [
              "43033"
            ]
          },
          "metadata": {
            "tags": []
          },
          "execution_count": 92
        }
      ]
    },
    {
      "cell_type": "code",
      "metadata": {
        "colab": {
          "base_uri": "https://localhost:8080/"
        },
        "id": "oAniGZtSwLZ0",
        "outputId": "ebf6749c-72b9-4d26-bc81-db70b0bec1cb"
      },
      "source": [
        "len(taxi_rides_df[taxi_rides_df['passenger_count']<4.1]) - len(taxi_rides_df[taxi_rides_df['passenger_count']<3.1])"
      ],
      "execution_count": null,
      "outputs": [
        {
          "output_type": "execute_result",
          "data": {
            "text/plain": [
              "20334"
            ]
          },
          "metadata": {
            "tags": []
          },
          "execution_count": 93
        }
      ]
    },
    {
      "cell_type": "code",
      "metadata": {
        "colab": {
          "base_uri": "https://localhost:8080/"
        },
        "id": "o_XPpjL4wdK_",
        "outputId": "31d0cd88-e6fc-4b9d-eee9-747e8c2db579"
      },
      "source": [
        "taxi_rides_df['passenger_count'].max()"
      ],
      "execution_count": null,
      "outputs": [
        {
          "output_type": "execute_result",
          "data": {
            "text/plain": [
              "9"
            ]
          },
          "metadata": {
            "tags": []
          },
          "execution_count": 94
        }
      ]
    },
    {
      "cell_type": "code",
      "metadata": {
        "colab": {
          "base_uri": "https://localhost:8080/"
        },
        "id": "D0rePScDyztG",
        "outputId": "881b7c1b-8c50-46cb-b227-90256bae2dbf"
      },
      "source": [
        "len(taxi_rides_df[taxi_rides_df['passenger_count']<=1.1])"
      ],
      "execution_count": null,
      "outputs": [
        {
          "output_type": "execute_result",
          "data": {
            "text/plain": [
              "743095"
            ]
          },
          "metadata": {
            "tags": []
          },
          "execution_count": 95
        }
      ]
    },
    {
      "cell_type": "code",
      "metadata": {
        "colab": {
          "base_uri": "https://localhost:8080/"
        },
        "id": "zXVJ2PrWy2w9",
        "outputId": "e1bf5667-e273-4eef-f985-1313d7b68cf1"
      },
      "source": [
        "total_market_1_passenger = taxi_rides_df[taxi_rides_df['passenger_count']<=1.1].price.sum()\n",
        "total_market_1_passenger"
      ],
      "execution_count": null,
      "outputs": [
        {
          "output_type": "execute_result",
          "data": {
            "text/plain": [
              "11673543.866153438"
            ]
          },
          "metadata": {
            "tags": []
          },
          "execution_count": 96
        }
      ]
    },
    {
      "cell_type": "code",
      "metadata": {
        "colab": {
          "base_uri": "https://localhost:8080/"
        },
        "id": "uHujtfNVzEPF",
        "outputId": "0c1ef051-a0e5-4561-e2fb-b77a446081d1"
      },
      "source": [
        "total_market_global = taxi_rides_df.price.sum()\n",
        "total_market_global"
      ],
      "execution_count": null,
      "outputs": [
        {
          "output_type": "execute_result",
          "data": {
            "text/plain": [
              "16813931.771709155"
            ]
          },
          "metadata": {
            "tags": []
          },
          "execution_count": 97
        }
      ]
    },
    {
      "cell_type": "code",
      "metadata": {
        "colab": {
          "base_uri": "https://localhost:8080/"
        },
        "id": "b-FBvpoezJL1",
        "outputId": "e385c67c-463c-4d88-da1c-9d8dab79b94d"
      },
      "source": [
        "total_market_1_passenger/total_market_global"
      ],
      "execution_count": null,
      "outputs": [
        {
          "output_type": "execute_result",
          "data": {
            "text/plain": [
              "0.6942780561174365"
            ]
          },
          "metadata": {
            "tags": []
          },
          "execution_count": 98
        }
      ]
    },
    {
      "cell_type": "markdown",
      "metadata": {
        "id": "BL0g9jLT05C5"
      },
      "source": [
        "## Placing pick-up / drop-off nodes Strategically"
      ]
    },
    {
      "cell_type": "code",
      "metadata": {
        "colab": {
          "base_uri": "https://localhost:8080/",
          "height": 266
        },
        "id": "BlEnB4FH05_d",
        "outputId": "1b945c10-95ac-4edb-bf4c-699674b39804"
      },
      "source": [
        "plt.scatter(x=taxi_rides_df['pickup_longitude'], y=taxi_rides_df['pickup_latitude'], c = 'b')\n",
        "plt.scatter(x=taxi_rides_df['dropoff_longitude'], y=taxi_rides_df['dropoff_latitude'], c = 'r', s=0.5)\n",
        "plt.show()"
      ],
      "execution_count": null,
      "outputs": [
        {
          "output_type": "display_data",
          "data": {
            "image/png": "[encoded data removed]",
            "text/plain": [
              "<Figure size 432x288 with 1 Axes>"
            ]
          },
          "metadata": {
            "tags": [],
            "needs_background": "light"
          }
        }
      ]
    },
    {
      "cell_type": "markdown",
      "metadata": {
        "id": "7Y-K4dAI1Gz9"
      },
      "source": [
        "Zooming in..."
      ]
    },
    {
      "cell_type": "code",
      "metadata": {
        "colab": {
          "base_uri": "https://localhost:8080/",
          "height": 269
        },
        "id": "23MKO8lw1Fw1",
        "outputId": "558972af-2517-411b-f117-4fb8becfc217"
      },
      "source": [
        "plt.scatter(x=taxi_rides_df['pickup_longitude'], y=taxi_rides_df['pickup_latitude'], c = 'b')\n",
        "plt.scatter(x=taxi_rides_df['dropoff_longitude'], y=taxi_rides_df['dropoff_latitude'], c = 'r', s=0.5)\n",
        "\n",
        "plt.xlim(-80, -70)\n",
        "plt.ylim(40,42)\n",
        "plt.show()"
      ],
      "execution_count": null,
      "outputs": [
        {
          "output_type": "display_data",
          "data": {
            "image/png": "[encoded data removed]",
            "text/plain": [
              "<Figure size 432x288 with 1 Axes>"
            ]
          },
          "metadata": {
            "tags": [],
            "needs_background": "light"
          }
        }
      ]
    },
    {
      "cell_type": "code",
      "metadata": {
        "colab": {
          "base_uri": "https://localhost:8080/",
          "height": 265
        },
        "id": "LAQ1wQds1NKa",
        "outputId": "b8bd7615-997b-4226-8b5f-5f2b68c1deb8"
      },
      "source": [
        "plt.scatter(x=taxi_rides_df['pickup_longitude'], y=taxi_rides_df['pickup_latitude'], c = 'b')\n",
        "plt.scatter(x=taxi_rides_df['dropoff_longitude'], y=taxi_rides_df['dropoff_latitude'], c = 'r', s=0.5)\n",
        "\n",
        "plt.xlim(-76, -72)\n",
        "plt.ylim(40,41.5)\n",
        "plt.show()"
      ],
      "execution_count": null,
      "outputs": [
        {
          "output_type": "display_data",
          "data": {
            "image/png": "[encoded data removed]",
            "text/plain": [
              "<Figure size 432x288 with 1 Axes>"
            ]
          },
          "metadata": {
            "tags": [],
            "needs_background": "light"
          }
        }
      ]
    },
    {
      "cell_type": "markdown",
      "metadata": {
        "id": "9DICuljj1TEd"
      },
      "source": [
        "Now let's see where is middle point:"
      ]
    },
    {
      "cell_type": "code",
      "metadata": {
        "colab": {
          "base_uri": "https://localhost:8080/"
        },
        "id": "UkMSR4_L1ZHM",
        "outputId": "8107db53-243a-43fb-bf11-3d6321a2e57d"
      },
      "source": [
        "taxi_rides_df[['pickup_latitude', 'dropoff_latitude']].mean().mean()"
      ],
      "execution_count": null,
      "outputs": [
        {
          "output_type": "execute_result",
          "data": {
            "text/plain": [
              "40.7513851447103"
            ]
          },
          "metadata": {
            "tags": []
          },
          "execution_count": 102
        }
      ]
    },
    {
      "cell_type": "code",
      "metadata": {
        "colab": {
          "base_uri": "https://localhost:8080/"
        },
        "id": "VVfnX3Qc12rA",
        "outputId": "03a37b97-8f37-41e1-f327-0bbe94cef236"
      },
      "source": [
        "taxi_rides_df[['pickup_longitude', 'dropoff_longitude']].mean().mean()"
      ],
      "execution_count": null,
      "outputs": [
        {
          "output_type": "execute_result",
          "data": {
            "text/plain": [
              "-73.97339592258902"
            ]
          },
          "metadata": {
            "tags": []
          },
          "execution_count": 103
        }
      ]
    },
    {
      "cell_type": "markdown",
      "metadata": {
        "id": "oSLPqZh_2ouK"
      },
      "source": [
        "#### Plotting the middle point"
      ]
    },
    {
      "cell_type": "code",
      "metadata": {
        "colab": {
          "base_uri": "https://localhost:8080/",
          "height": 321
        },
        "id": "l5e6LoE92FTX",
        "outputId": "b4f5a0d4-90fa-44e5-9a0c-df82eef7749f"
      },
      "source": [
        "from IPython.display import IFrame\n",
        "\n",
        "IFrame(src=\"https://www.google.com/maps/embed?pb=!1m18!1m12!1m3!1d22013.281535057613!2d-73.98996635841118!3d40.75209762091606!2m3!1f0!2f0!3f0!3m2!1i1024!2i768!4f13.1!3m3!1m2!1s0x0%3A0x0!2zNDDCsDQ1JzA0LjciTiA3M8KwNTgnMjQuMiJX!5e0!3m2!1spt-BR!2sbr!4v1617404985288!5m2!1spt-BR!2sbr\", width=300, height=300)"
      ],
      "execution_count": null,
      "outputs": [
        {
          "output_type": "execute_result",
          "data": {
            "text/html": [
              "\n",
              "        <iframe\n",
              "            width=\"300\"\n",
              "            height=\"300\"\n",
              "            src=\"https://www.google.com/maps/embed?pb=!1m18!1m12!1m3!1d22013.281535057613!2d-73.98996635841118!3d40.75209762091606!2m3!1f0!2f0!3f0!3m2!1i1024!2i768!4f13.1!3m3!1m2!1s0x0%3A0x0!2zNDDCsDQ1JzA0LjciTiA3M8KwNTgnMjQuMiJX!5e0!3m2!1spt-BR!2sbr!4v1617404985288!5m2!1spt-BR!2sbr\"\n",
              "            frameborder=\"0\"\n",
              "            allowfullscreen\n",
              "        ></iframe>\n",
              "        "
            ],
            "text/plain": [
              "<IPython.lib.display.IFrame at 0x7fe515b0ad50>"
            ]
          },
          "metadata": {
            "tags": []
          },
          "execution_count": 104
        }
      ]
    },
    {
      "cell_type": "code",
      "metadata": {
        "id": "biDNYDKuejVD"
      },
      "source": [
        "import pandas as pd"
      ],
      "execution_count": null,
      "outputs": []
    },
    {
      "cell_type": "code",
      "metadata": {
        "id": "aiAhNjnijo2l"
      },
      "source": [
        "taxi_rides_output_df = pd.read_csv('/content/drive/MyDrive/DataProductManagerUdacityData/MidtermProject/taxi_rides_output.csv')"
      ],
      "execution_count": null,
      "outputs": []
    },
    {
      "cell_type": "code",
      "metadata": {
        "colab": {
          "base_uri": "https://localhost:8080/"
        },
        "id": "EqVJVR0Zjx2s",
        "outputId": "e5b214d8-c971-4d55-aceb-187c9f3012b6"
      },
      "source": [
        "taxi_rides_output_df.columns"
      ],
      "execution_count": null,
      "outputs": [
        {
          "output_type": "execute_result",
          "data": {
            "text/plain": [
              "Index(['Unnamed: 0', 'id', 'vendor_id', 'pickup_datetime', 'dropoff_datetime',\n",
              "       'passenger_count', 'pickup_longitude', 'pickup_latitude',\n",
              "       'dropoff_longitude', 'dropoff_latitude', 'store_and_fwd_flag',\n",
              "       'duration', 'distance', 'Unnamed: 12', 'Unnamed: 13', 'Unnamed: 14',\n",
              "       'projected_distance_km', 'price', 'distance_to_duration_ratio',\n",
              "       'duration_to_distance_ratio', 'geometry', 'pickup_datetime_dt'],\n",
              "      dtype='object')"
            ]
          },
          "metadata": {
            "tags": []
          },
          "execution_count": 107
        }
      ]
    },
    {
      "cell_type": "code",
      "metadata": {
        "id": "kLnIZwv-j2JR"
      },
      "source": [
        "taxi_aux_df = taxi_rides_output_df[['id',\n",
        "                      'pickup_longitude',\n",
        "                      'pickup_latitude',\n",
        "                      'dropoff_longitude',\n",
        "                      'dropoff_latitude',\n",
        "                      'price',\n",
        "                      'distance_to_duration_ratio',\n",
        "                      'duration_to_distance_ratio']]"
      ],
      "execution_count": null,
      "outputs": []
    },
    {
      "cell_type": "code",
      "metadata": {
        "colab": {
          "base_uri": "https://localhost:8080/",
          "height": 215
        },
        "id": "03ykpsWUkVmb",
        "outputId": "b8d8f0a9-896a-41f1-9cc7-c46bd9017bee"
      },
      "source": [
        "taxi_aux_df.head()"
      ],
      "execution_count": null,
      "outputs": [
        {
          "output_type": "execute_result",
          "data": {
            "text/html": [
              "<div>\n",
              "<style scoped>\n",
              "    .dataframe tbody tr th:only-of-type {\n",
              "        vertical-align: middle;\n",
              "    }\n",
              "\n",
              "    .dataframe tbody tr th {\n",
              "        vertical-align: top;\n",
              "    }\n",
              "\n",
              "    .dataframe thead th {\n",
              "        text-align: right;\n",
              "    }\n",
              "</style>\n",
              "<table border=\"1\" class=\"dataframe\">\n",
              "  <thead>\n",
              "    <tr style=\"text-align: right;\">\n",
              "      <th></th>\n",
              "      <th>id</th>\n",
              "      <th>pickup_longitude</th>\n",
              "      <th>pickup_latitude</th>\n",
              "      <th>dropoff_longitude</th>\n",
              "      <th>dropoff_latitude</th>\n",
              "      <th>price</th>\n",
              "      <th>distance_to_duration_ratio</th>\n",
              "      <th>duration_to_distance_ratio</th>\n",
              "    </tr>\n",
              "  </thead>\n",
              "  <tbody>\n",
              "    <tr>\n",
              "      <th>0</th>\n",
              "      <td>id3487442</td>\n",
              "      <td>-73.981819</td>\n",
              "      <td>40.768963</td>\n",
              "      <td>-73.981819</td>\n",
              "      <td>40.768963</td>\n",
              "      <td>4.53518</td>\n",
              "      <td>0.0</td>\n",
              "      <td>0.0</td>\n",
              "    </tr>\n",
              "    <tr>\n",
              "      <th>1</th>\n",
              "      <td>id1145809</td>\n",
              "      <td>-73.808487</td>\n",
              "      <td>40.687336</td>\n",
              "      <td>-73.808487</td>\n",
              "      <td>40.687336</td>\n",
              "      <td>10.53998</td>\n",
              "      <td>0.0</td>\n",
              "      <td>0.0</td>\n",
              "    </tr>\n",
              "    <tr>\n",
              "      <th>2</th>\n",
              "      <td>id3499387</td>\n",
              "      <td>-73.786720</td>\n",
              "      <td>40.647041</td>\n",
              "      <td>-73.786720</td>\n",
              "      <td>40.647041</td>\n",
              "      <td>7.47920</td>\n",
              "      <td>0.0</td>\n",
              "      <td>0.0</td>\n",
              "    </tr>\n",
              "    <tr>\n",
              "      <th>3</th>\n",
              "      <td>id0753277</td>\n",
              "      <td>-74.209854</td>\n",
              "      <td>40.816853</td>\n",
              "      <td>-74.209854</td>\n",
              "      <td>40.816853</td>\n",
              "      <td>2.86718</td>\n",
              "      <td>0.0</td>\n",
              "      <td>0.0</td>\n",
              "    </tr>\n",
              "    <tr>\n",
              "      <th>4</th>\n",
              "      <td>id2134482</td>\n",
              "      <td>-73.776314</td>\n",
              "      <td>40.645454</td>\n",
              "      <td>-73.776314</td>\n",
              "      <td>40.645454</td>\n",
              "      <td>2.80046</td>\n",
              "      <td>0.0</td>\n",
              "      <td>0.0</td>\n",
              "    </tr>\n",
              "  </tbody>\n",
              "</table>\n",
              "</div>"
            ],
            "text/plain": [
              "          id  ...  duration_to_distance_ratio\n",
              "0  id3487442  ...                         0.0\n",
              "1  id1145809  ...                         0.0\n",
              "2  id3499387  ...                         0.0\n",
              "3  id0753277  ...                         0.0\n",
              "4  id2134482  ...                         0.0\n",
              "\n",
              "[5 rows x 8 columns]"
            ]
          },
          "metadata": {
            "tags": []
          },
          "execution_count": 109
        }
      ]
    },
    {
      "cell_type": "code",
      "metadata": {
        "colab": {
          "base_uri": "https://localhost:8080/"
        },
        "id": "cHEeR_DfkoU9",
        "outputId": "41439925-5138-47d8-ab76-2f538397b0e6"
      },
      "source": [
        "taxi_aux_df.to_excel(\"/content/drive/MyDrive/DataProductManagerUdacityData/MidtermProject/taxi_rides_lean.xlsx\",\n",
        "             sheet_name='Taxi_Rides')"
      ],
      "execution_count": null,
      "outputs": [
        {
          "output_type": "stream",
          "text": [
            "Exception ignored in: <function ZipFile.__del__ at 0x7fe72789db90>\n",
            "Traceback (most recent call last):\n",
            "  File \"/usr/lib/python3.7/zipfile.py\", line 1809, in __del__\n",
            "    self.close()\n",
            "  File \"/usr/lib/python3.7/zipfile.py\", line 1831, in close\n",
            "    self._fpclose(fp)\n",
            "  File \"/usr/lib/python3.7/zipfile.py\", line 1939, in _fpclose\n",
            "    fp.close()\n",
            "OSError: [Errno 107] Transport endpoint is not connected\n"
          ],
          "name": "stderr"
        }
      ]
    },
    {
      "cell_type": "markdown",
      "metadata": {
        "id": "6YI-2ZzKEQN8"
      },
      "source": [
        "Done using Tableau..."
      ]
    },
    {
      "cell_type": "markdown",
      "metadata": {
        "id": "7TYWL9eX-57N"
      },
      "source": [
        "## Best time of the day to run the pilot service"
      ]
    },
    {
      "cell_type": "markdown",
      "metadata": {
        "id": "nlMbuWeR_F9-"
      },
      "source": [
        "### What times throughout the day experience relatively higher volumes of ride pick-ups?"
      ]
    },
    {
      "cell_type": "code",
      "metadata": {
        "colab": {
          "base_uri": "https://localhost:8080/",
          "height": 232
        },
        "id": "gvG5TNiQ_CG9",
        "outputId": "76637253-5090-4d4e-dd52-b20070e134c0"
      },
      "source": [
        "taxi_rides_df.head()"
      ],
      "execution_count": null,
      "outputs": [
        {
          "output_type": "execute_result",
          "data": {
            "text/html": [
              "<div>\n",
              "<style scoped>\n",
              "    .dataframe tbody tr th:only-of-type {\n",
              "        vertical-align: middle;\n",
              "    }\n",
              "\n",
              "    .dataframe tbody tr th {\n",
              "        vertical-align: top;\n",
              "    }\n",
              "\n",
              "    .dataframe thead th {\n",
              "        text-align: right;\n",
              "    }\n",
              "</style>\n",
              "<table border=\"1\" class=\"dataframe\">\n",
              "  <thead>\n",
              "    <tr style=\"text-align: right;\">\n",
              "      <th></th>\n",
              "      <th>Unnamed: 0</th>\n",
              "      <th>id</th>\n",
              "      <th>vendor_id</th>\n",
              "      <th>pickup_datetime</th>\n",
              "      <th>dropoff_datetime</th>\n",
              "      <th>passenger_count</th>\n",
              "      <th>pickup_longitude</th>\n",
              "      <th>pickup_latitude</th>\n",
              "      <th>dropoff_longitude</th>\n",
              "      <th>dropoff_latitude</th>\n",
              "      <th>store_and_fwd_flag</th>\n",
              "      <th>duration</th>\n",
              "      <th>distance</th>\n",
              "      <th>Unnamed: 12</th>\n",
              "      <th>Unnamed: 13</th>\n",
              "      <th>Unnamed: 14</th>\n",
              "      <th>projected_distance_km</th>\n",
              "      <th>price</th>\n",
              "      <th>distance_to_duration_ratio</th>\n",
              "      <th>duration_to_distance_ratio</th>\n",
              "      <th>pickup_datetime_dt</th>\n",
              "    </tr>\n",
              "  </thead>\n",
              "  <tbody>\n",
              "    <tr>\n",
              "      <th>9530</th>\n",
              "      <td>9530</td>\n",
              "      <td>id2361304</td>\n",
              "      <td>1</td>\n",
              "      <td>6/27/16 14:00</td>\n",
              "      <td>6/27/16 14:10</td>\n",
              "      <td>1</td>\n",
              "      <td>-73.921532</td>\n",
              "      <td>40.753223</td>\n",
              "      <td>-73.922714</td>\n",
              "      <td>40.753304</td>\n",
              "      <td>N</td>\n",
              "      <td>586</td>\n",
              "      <td>0.100008</td>\n",
              "      <td>NaN</td>\n",
              "      <td>NaN</td>\n",
              "      <td>NaN</td>\n",
              "      <td>0.100008</td>\n",
              "      <td>7.685253</td>\n",
              "      <td>0.000171</td>\n",
              "      <td>5859.530241</td>\n",
              "      <td>2016-06-27 14:00:00</td>\n",
              "    </tr>\n",
              "    <tr>\n",
              "      <th>9531</th>\n",
              "      <td>9531</td>\n",
              "      <td>id2761959</td>\n",
              "      <td>1</td>\n",
              "      <td>1/15/16 15:53</td>\n",
              "      <td>1/15/16 15:54</td>\n",
              "      <td>1</td>\n",
              "      <td>-73.993980</td>\n",
              "      <td>40.720108</td>\n",
              "      <td>-73.993622</td>\n",
              "      <td>40.720966</td>\n",
              "      <td>N</td>\n",
              "      <td>70</td>\n",
              "      <td>0.100109</td>\n",
              "      <td>NaN</td>\n",
              "      <td>NaN</td>\n",
              "      <td>NaN</td>\n",
              "      <td>0.100110</td>\n",
              "      <td>3.381971</td>\n",
              "      <td>0.001430</td>\n",
              "      <td>699.235386</td>\n",
              "      <td>2016-01-15 15:53:00</td>\n",
              "    </tr>\n",
              "    <tr>\n",
              "      <th>9533</th>\n",
              "      <td>9533</td>\n",
              "      <td>id2337991</td>\n",
              "      <td>2</td>\n",
              "      <td>3/4/16 7:49</td>\n",
              "      <td>3/4/16 7:52</td>\n",
              "      <td>1</td>\n",
              "      <td>-73.978111</td>\n",
              "      <td>40.764839</td>\n",
              "      <td>-73.976921</td>\n",
              "      <td>40.764809</td>\n",
              "      <td>N</td>\n",
              "      <td>225</td>\n",
              "      <td>0.100293</td>\n",
              "      <td>NaN</td>\n",
              "      <td>NaN</td>\n",
              "      <td>NaN</td>\n",
              "      <td>0.100294</td>\n",
              "      <td>4.674957</td>\n",
              "      <td>0.000446</td>\n",
              "      <td>2243.422286</td>\n",
              "      <td>2016-03-04 07:49:00</td>\n",
              "    </tr>\n",
              "    <tr>\n",
              "      <th>9534</th>\n",
              "      <td>9534</td>\n",
              "      <td>id2137446</td>\n",
              "      <td>2</td>\n",
              "      <td>2/12/16 8:39</td>\n",
              "      <td>2/12/16 8:42</td>\n",
              "      <td>1</td>\n",
              "      <td>-73.866577</td>\n",
              "      <td>40.771301</td>\n",
              "      <td>-73.867653</td>\n",
              "      <td>40.770912</td>\n",
              "      <td>N</td>\n",
              "      <td>126</td>\n",
              "      <td>0.100391</td>\n",
              "      <td>NaN</td>\n",
              "      <td>NaN</td>\n",
              "      <td>NaN</td>\n",
              "      <td>0.100391</td>\n",
              "      <td>3.849450</td>\n",
              "      <td>0.000797</td>\n",
              "      <td>1255.094101</td>\n",
              "      <td>2016-02-12 08:39:00</td>\n",
              "    </tr>\n",
              "    <tr>\n",
              "      <th>9535</th>\n",
              "      <td>9535</td>\n",
              "      <td>id0245989</td>\n",
              "      <td>1</td>\n",
              "      <td>2/17/16 16:20</td>\n",
              "      <td>2/17/16 16:22</td>\n",
              "      <td>1</td>\n",
              "      <td>-73.977417</td>\n",
              "      <td>40.754635</td>\n",
              "      <td>-73.978470</td>\n",
              "      <td>40.755058</td>\n",
              "      <td>N</td>\n",
              "      <td>149</td>\n",
              "      <td>0.100407</td>\n",
              "      <td>NaN</td>\n",
              "      <td>NaN</td>\n",
              "      <td>NaN</td>\n",
              "      <td>0.100407</td>\n",
              "      <td>4.041295</td>\n",
              "      <td>0.000674</td>\n",
              "      <td>1483.957740</td>\n",
              "      <td>2016-02-17 16:20:00</td>\n",
              "    </tr>\n",
              "  </tbody>\n",
              "</table>\n",
              "</div>"
            ],
            "text/plain": [
              "      Unnamed: 0         id  ...  duration_to_distance_ratio   pickup_datetime_dt\n",
              "9530        9530  id2361304  ...                 5859.530241  2016-06-27 14:00:00\n",
              "9531        9531  id2761959  ...                  699.235386  2016-01-15 15:53:00\n",
              "9533        9533  id2337991  ...                 2243.422286  2016-03-04 07:49:00\n",
              "9534        9534  id2137446  ...                 1255.094101  2016-02-12 08:39:00\n",
              "9535        9535  id0245989  ...                 1483.957740  2016-02-17 16:20:00\n",
              "\n",
              "[5 rows x 21 columns]"
            ]
          },
          "metadata": {
            "tags": []
          },
          "execution_count": 15
        }
      ]
    },
    {
      "cell_type": "code",
      "metadata": {
        "id": "uuDfGuXk_my9"
      },
      "source": [
        "pickup_series = pd.to_datetime(taxi_rides_df.pickup_datetime)"
      ],
      "execution_count": null,
      "outputs": []
    },
    {
      "cell_type": "code",
      "metadata": {
        "colab": {
          "base_uri": "https://localhost:8080/"
        },
        "id": "rdvc3O5bBDxE",
        "outputId": "a4f42b67-762c-4ee0-c407-d808755a0ec9"
      },
      "source": [
        "pickup_series.head()"
      ],
      "execution_count": null,
      "outputs": [
        {
          "output_type": "execute_result",
          "data": {
            "text/plain": [
              "9530   2016-06-27 14:00:00\n",
              "9531   2016-01-15 15:53:00\n",
              "9533   2016-03-04 07:49:00\n",
              "9534   2016-02-12 08:39:00\n",
              "9535   2016-02-17 16:20:00\n",
              "Name: pickup_datetime, dtype: datetime64[ns]"
            ]
          },
          "metadata": {
            "tags": []
          },
          "execution_count": 17
        }
      ]
    },
    {
      "cell_type": "code",
      "metadata": {
        "id": "JNY5oaNtBGzm"
      },
      "source": [
        "# taxi_rides_df['pickup_datetime_dt'] = pickup_series"
      ],
      "execution_count": null,
      "outputs": []
    },
    {
      "cell_type": "code",
      "metadata": {
        "id": "gLN81Zm5-1vN"
      },
      "source": [
        " pickup_series = taxi_rides_df['pickup_datetime_dt']"
      ],
      "execution_count": 34,
      "outputs": []
    },
    {
      "cell_type": "code",
      "metadata": {
        "colab": {
          "base_uri": "https://localhost:8080/"
        },
        "id": "k3WGW8lb-8qh",
        "outputId": "9f4a26d2-e058-4483-ecd5-25f56cbee3e6"
      },
      "source": [
        "taxi_rides_df['pickup_datetime_dt']"
      ],
      "execution_count": 35,
      "outputs": [
        {
          "output_type": "execute_result",
          "data": {
            "text/plain": [
              "9530       2016-06-27 14:00:00\n",
              "9531       2016-01-15 15:53:00\n",
              "9533       2016-03-04 07:49:00\n",
              "9534       2016-02-12 08:39:00\n",
              "9535       2016-02-17 16:20:00\n",
              "                  ...         \n",
              "1048313    2016-04-27 07:37:00\n",
              "1048324    2016-03-19 12:29:00\n",
              "1048327    2016-03-07 18:39:00\n",
              "1048330    2016-04-11 08:37:00\n",
              "1048390    2016-01-01 22:57:00\n",
              "Name: pickup_datetime_dt, Length: 1036502, dtype: object"
            ]
          },
          "metadata": {
            "tags": []
          },
          "execution_count": 35
        }
      ]
    },
    {
      "cell_type": "code",
      "metadata": {
        "colab": {
          "base_uri": "https://localhost:8080/",
          "height": 272
        },
        "id": "r5tWkuIgAvs9",
        "outputId": "25180cdb-8288-4604-8cf7-731903b99d91"
      },
      "source": [
        "pickup_series.dt"
      ],
      "execution_count": 37,
      "outputs": [
        {
          "output_type": "error",
          "ename": "AttributeError",
          "evalue": "ignored",
          "traceback": [
            "\u001b[0;31m---------------------------------------------------------------------------\u001b[0m",
            "\u001b[0;31mAttributeError\u001b[0m                            Traceback (most recent call last)",
            "\u001b[0;32m<ipython-input-37-7a37897c93ce>\u001b[0m in \u001b[0;36m<module>\u001b[0;34m()\u001b[0m\n\u001b[0;32m----> 1\u001b[0;31m \u001b[0mpickup_series\u001b[0m\u001b[0;34m.\u001b[0m\u001b[0mdt\u001b[0m\u001b[0;34m\u001b[0m\u001b[0;34m\u001b[0m\u001b[0m\n\u001b[0m",
            "\u001b[0;32m/usr/local/lib/python3.7/dist-packages/pandas/core/generic.py\u001b[0m in \u001b[0;36m__getattr__\u001b[0;34m(self, name)\u001b[0m\n\u001b[1;32m   5135\u001b[0m             \u001b[0;32mor\u001b[0m \u001b[0mname\u001b[0m \u001b[0;32min\u001b[0m \u001b[0mself\u001b[0m\u001b[0;34m.\u001b[0m\u001b[0m_accessors\u001b[0m\u001b[0;34m\u001b[0m\u001b[0;34m\u001b[0m\u001b[0m\n\u001b[1;32m   5136\u001b[0m         ):\n\u001b[0;32m-> 5137\u001b[0;31m             \u001b[0;32mreturn\u001b[0m \u001b[0mobject\u001b[0m\u001b[0;34m.\u001b[0m\u001b[0m__getattribute__\u001b[0m\u001b[0;34m(\u001b[0m\u001b[0mself\u001b[0m\u001b[0;34m,\u001b[0m \u001b[0mname\u001b[0m\u001b[0;34m)\u001b[0m\u001b[0;34m\u001b[0m\u001b[0;34m\u001b[0m\u001b[0m\n\u001b[0m\u001b[1;32m   5138\u001b[0m         \u001b[0;32melse\u001b[0m\u001b[0;34m:\u001b[0m\u001b[0;34m\u001b[0m\u001b[0;34m\u001b[0m\u001b[0m\n\u001b[1;32m   5139\u001b[0m             \u001b[0;32mif\u001b[0m \u001b[0mself\u001b[0m\u001b[0;34m.\u001b[0m\u001b[0m_info_axis\u001b[0m\u001b[0;34m.\u001b[0m\u001b[0m_can_hold_identifiers_and_holds_name\u001b[0m\u001b[0;34m(\u001b[0m\u001b[0mname\u001b[0m\u001b[0;34m)\u001b[0m\u001b[0;34m:\u001b[0m\u001b[0;34m\u001b[0m\u001b[0;34m\u001b[0m\u001b[0m\n",
            "\u001b[0;32m/usr/local/lib/python3.7/dist-packages/pandas/core/accessor.py\u001b[0m in \u001b[0;36m__get__\u001b[0;34m(self, obj, cls)\u001b[0m\n\u001b[1;32m    185\u001b[0m             \u001b[0;31m# we're accessing the attribute of the class, i.e., Dataset.geo\u001b[0m\u001b[0;34m\u001b[0m\u001b[0;34m\u001b[0m\u001b[0;34m\u001b[0m\u001b[0m\n\u001b[1;32m    186\u001b[0m             \u001b[0;32mreturn\u001b[0m \u001b[0mself\u001b[0m\u001b[0;34m.\u001b[0m\u001b[0m_accessor\u001b[0m\u001b[0;34m\u001b[0m\u001b[0;34m\u001b[0m\u001b[0m\n\u001b[0;32m--> 187\u001b[0;31m         \u001b[0maccessor_obj\u001b[0m \u001b[0;34m=\u001b[0m \u001b[0mself\u001b[0m\u001b[0;34m.\u001b[0m\u001b[0m_accessor\u001b[0m\u001b[0;34m(\u001b[0m\u001b[0mobj\u001b[0m\u001b[0;34m)\u001b[0m\u001b[0;34m\u001b[0m\u001b[0;34m\u001b[0m\u001b[0m\n\u001b[0m\u001b[1;32m    188\u001b[0m         \u001b[0;31m# Replace the property with the accessor object. Inspired by:\u001b[0m\u001b[0;34m\u001b[0m\u001b[0;34m\u001b[0m\u001b[0;34m\u001b[0m\u001b[0m\n\u001b[1;32m    189\u001b[0m         \u001b[0;31m# https://www.pydanny.com/cached-property.html\u001b[0m\u001b[0;34m\u001b[0m\u001b[0;34m\u001b[0m\u001b[0;34m\u001b[0m\u001b[0m\n",
            "\u001b[0;32m/usr/local/lib/python3.7/dist-packages/pandas/core/indexes/accessors.py\u001b[0m in \u001b[0;36m__new__\u001b[0;34m(cls, data)\u001b[0m\n\u001b[1;32m    478\u001b[0m             \u001b[0;32mreturn\u001b[0m \u001b[0mPeriodProperties\u001b[0m\u001b[0;34m(\u001b[0m\u001b[0mdata\u001b[0m\u001b[0;34m,\u001b[0m \u001b[0morig\u001b[0m\u001b[0;34m)\u001b[0m\u001b[0;34m\u001b[0m\u001b[0;34m\u001b[0m\u001b[0m\n\u001b[1;32m    479\u001b[0m \u001b[0;34m\u001b[0m\u001b[0m\n\u001b[0;32m--> 480\u001b[0;31m         \u001b[0;32mraise\u001b[0m \u001b[0mAttributeError\u001b[0m\u001b[0;34m(\u001b[0m\u001b[0;34m\"Can only use .dt accessor with datetimelike values\"\u001b[0m\u001b[0;34m)\u001b[0m\u001b[0;34m\u001b[0m\u001b[0;34m\u001b[0m\u001b[0m\n\u001b[0m",
            "\u001b[0;31mAttributeError\u001b[0m: Can only use .dt accessor with datetimelike values"
          ]
        }
      ]
    },
    {
      "cell_type": "code",
      "metadata": {
        "colab": {
          "base_uri": "https://localhost:8080/",
          "height": 272
        },
        "id": "5xLpThXxCoN6",
        "outputId": "d39711a5-2478-4cc4-95b5-17ad0671fda5"
      },
      "source": [
        "pickup_series.dt.hour.value_counts().sort_values(ascending=False)"
      ],
      "execution_count": 31,
      "outputs": [
        {
          "output_type": "error",
          "ename": "AttributeError",
          "evalue": "ignored",
          "traceback": [
            "\u001b[0;31m---------------------------------------------------------------------------\u001b[0m",
            "\u001b[0;31mAttributeError\u001b[0m                            Traceback (most recent call last)",
            "\u001b[0;32m<ipython-input-31-e380f4c2c53e>\u001b[0m in \u001b[0;36m<module>\u001b[0;34m()\u001b[0m\n\u001b[0;32m----> 1\u001b[0;31m \u001b[0mpickup_series\u001b[0m\u001b[0;34m.\u001b[0m\u001b[0mdt\u001b[0m\u001b[0;34m.\u001b[0m\u001b[0mhour\u001b[0m\u001b[0;34m.\u001b[0m\u001b[0mvalue_counts\u001b[0m\u001b[0;34m(\u001b[0m\u001b[0;34m)\u001b[0m\u001b[0;34m.\u001b[0m\u001b[0msort_values\u001b[0m\u001b[0;34m(\u001b[0m\u001b[0mascending\u001b[0m\u001b[0;34m=\u001b[0m\u001b[0;32mFalse\u001b[0m\u001b[0;34m)\u001b[0m\u001b[0;34m\u001b[0m\u001b[0;34m\u001b[0m\u001b[0m\n\u001b[0m",
            "\u001b[0;32m/usr/local/lib/python3.7/dist-packages/pandas/core/generic.py\u001b[0m in \u001b[0;36m__getattr__\u001b[0;34m(self, name)\u001b[0m\n\u001b[1;32m   5135\u001b[0m             \u001b[0;32mor\u001b[0m \u001b[0mname\u001b[0m \u001b[0;32min\u001b[0m \u001b[0mself\u001b[0m\u001b[0;34m.\u001b[0m\u001b[0m_accessors\u001b[0m\u001b[0;34m\u001b[0m\u001b[0;34m\u001b[0m\u001b[0m\n\u001b[1;32m   5136\u001b[0m         ):\n\u001b[0;32m-> 5137\u001b[0;31m             \u001b[0;32mreturn\u001b[0m \u001b[0mobject\u001b[0m\u001b[0;34m.\u001b[0m\u001b[0m__getattribute__\u001b[0m\u001b[0;34m(\u001b[0m\u001b[0mself\u001b[0m\u001b[0;34m,\u001b[0m \u001b[0mname\u001b[0m\u001b[0;34m)\u001b[0m\u001b[0;34m\u001b[0m\u001b[0;34m\u001b[0m\u001b[0m\n\u001b[0m\u001b[1;32m   5138\u001b[0m         \u001b[0;32melse\u001b[0m\u001b[0;34m:\u001b[0m\u001b[0;34m\u001b[0m\u001b[0;34m\u001b[0m\u001b[0m\n\u001b[1;32m   5139\u001b[0m             \u001b[0;32mif\u001b[0m \u001b[0mself\u001b[0m\u001b[0;34m.\u001b[0m\u001b[0m_info_axis\u001b[0m\u001b[0;34m.\u001b[0m\u001b[0m_can_hold_identifiers_and_holds_name\u001b[0m\u001b[0;34m(\u001b[0m\u001b[0mname\u001b[0m\u001b[0;34m)\u001b[0m\u001b[0;34m:\u001b[0m\u001b[0;34m\u001b[0m\u001b[0;34m\u001b[0m\u001b[0m\n",
            "\u001b[0;32m/usr/local/lib/python3.7/dist-packages/pandas/core/accessor.py\u001b[0m in \u001b[0;36m__get__\u001b[0;34m(self, obj, cls)\u001b[0m\n\u001b[1;32m    185\u001b[0m             \u001b[0;31m# we're accessing the attribute of the class, i.e., Dataset.geo\u001b[0m\u001b[0;34m\u001b[0m\u001b[0;34m\u001b[0m\u001b[0;34m\u001b[0m\u001b[0m\n\u001b[1;32m    186\u001b[0m             \u001b[0;32mreturn\u001b[0m \u001b[0mself\u001b[0m\u001b[0;34m.\u001b[0m\u001b[0m_accessor\u001b[0m\u001b[0;34m\u001b[0m\u001b[0;34m\u001b[0m\u001b[0m\n\u001b[0;32m--> 187\u001b[0;31m         \u001b[0maccessor_obj\u001b[0m \u001b[0;34m=\u001b[0m \u001b[0mself\u001b[0m\u001b[0;34m.\u001b[0m\u001b[0m_accessor\u001b[0m\u001b[0;34m(\u001b[0m\u001b[0mobj\u001b[0m\u001b[0;34m)\u001b[0m\u001b[0;34m\u001b[0m\u001b[0;34m\u001b[0m\u001b[0m\n\u001b[0m\u001b[1;32m    188\u001b[0m         \u001b[0;31m# Replace the property with the accessor object. Inspired by:\u001b[0m\u001b[0;34m\u001b[0m\u001b[0;34m\u001b[0m\u001b[0;34m\u001b[0m\u001b[0m\n\u001b[1;32m    189\u001b[0m         \u001b[0;31m# https://www.pydanny.com/cached-property.html\u001b[0m\u001b[0;34m\u001b[0m\u001b[0;34m\u001b[0m\u001b[0;34m\u001b[0m\u001b[0m\n",
            "\u001b[0;32m/usr/local/lib/python3.7/dist-packages/pandas/core/indexes/accessors.py\u001b[0m in \u001b[0;36m__new__\u001b[0;34m(cls, data)\u001b[0m\n\u001b[1;32m    478\u001b[0m             \u001b[0;32mreturn\u001b[0m \u001b[0mPeriodProperties\u001b[0m\u001b[0;34m(\u001b[0m\u001b[0mdata\u001b[0m\u001b[0;34m,\u001b[0m \u001b[0morig\u001b[0m\u001b[0;34m)\u001b[0m\u001b[0;34m\u001b[0m\u001b[0;34m\u001b[0m\u001b[0m\n\u001b[1;32m    479\u001b[0m \u001b[0;34m\u001b[0m\u001b[0m\n\u001b[0;32m--> 480\u001b[0;31m         \u001b[0;32mraise\u001b[0m \u001b[0mAttributeError\u001b[0m\u001b[0;34m(\u001b[0m\u001b[0;34m\"Can only use .dt accessor with datetimelike values\"\u001b[0m\u001b[0;34m)\u001b[0m\u001b[0;34m\u001b[0m\u001b[0;34m\u001b[0m\u001b[0m\n\u001b[0m",
            "\u001b[0;31mAttributeError\u001b[0m: Can only use .dt accessor with datetimelike values"
          ]
        }
      ]
    },
    {
      "cell_type": "code",
      "metadata": {
        "colab": {
          "base_uri": "https://localhost:8080/",
          "height": 313
        },
        "id": "AB6ifGF5EKOh",
        "outputId": "c827c5bc-9c90-45d5-bcb9-3562183cb62b"
      },
      "source": [
        "import matplotlib.pyplot as plt\n",
        "import numpy as np\n",
        "fig = plt.figure(figsize=(24, 6))\n",
        "ax = fig.add_axes([0,0,1,1])\n",
        "hours = pickup_series.dt.hour.value_counts().sort_values(ascending=False).index\n",
        "count = pickup_series.dt.hour.value_counts().sort_values(ascending=False).values\n",
        "ax.bar(hours,count)\n",
        "ax.set_xticks(np.arange(len(count)))\n",
        "plt.ylabel('Total Taxi Rides')\n",
        "plt.xlabel('Hour of Day')\n",
        "plt.show()"
      ],
      "execution_count": null,
      "outputs": [
        {
          "output_type": "display_data",
          "data": {
            "image/png": "[encoded data removed]",
            "text/plain": [
              "<Figure size 1728x432 with 1 Axes>"
            ]
          },
          "metadata": {
            "tags": [],
            "needs_background": "light"
          }
        }
      ]
    },
    {
      "cell_type": "code",
      "metadata": {
        "id": "V7ZsrycXF0EB"
      },
      "source": [
        "array = pickup_series.dt.hour.value_counts().sort_values(ascending=False)"
      ],
      "execution_count": null,
      "outputs": []
    },
    {
      "cell_type": "code",
      "metadata": {
        "colab": {
          "base_uri": "https://localhost:8080/"
        },
        "id": "Vf4aP0w2cOpO",
        "outputId": "8110c73b-2352-4883-d357-348997036ebe"
      },
      "source": [
        "array[0:4]"
      ],
      "execution_count": null,
      "outputs": [
        {
          "output_type": "execute_result",
          "data": {
            "text/plain": [
              "18    64616\n",
              "19    64304\n",
              "21    59980\n",
              "20    59783\n",
              "Name: pickup_datetime, dtype: int64"
            ]
          },
          "metadata": {
            "tags": []
          },
          "execution_count": 28
        }
      ]
    },
    {
      "cell_type": "code",
      "metadata": {
        "colab": {
          "base_uri": "https://localhost:8080/"
        },
        "id": "bPpaiBBiF4oW",
        "outputId": "cfa23a77-8f0e-49bf-e4b4-54d1c33c6f82"
      },
      "source": [
        "(array[0:4].sum()/array.sum()) * 100"
      ],
      "execution_count": null,
      "outputs": [
        {
          "output_type": "execute_result",
          "data": {
            "text/plain": [
              "23.983269392864514"
            ]
          },
          "metadata": {
            "tags": []
          },
          "execution_count": 27
        }
      ]
    },
    {
      "cell_type": "markdown",
      "metadata": {
        "id": "O3HlWnN4_Ijv"
      },
      "source": [
        "### What days throughout the week experience relatively higher volumes of ride pick-ups?\n"
      ]
    },
    {
      "cell_type": "code",
      "metadata": {
        "colab": {
          "base_uri": "https://localhost:8080/"
        },
        "id": "ynjzAY1C_Lpa",
        "outputId": "32a9ffe1-38e7-467d-8050-f388e2ef43de"
      },
      "source": [
        "pickup_series.dt.dayofweek"
      ],
      "execution_count": null,
      "outputs": [
        {
          "output_type": "execute_result",
          "data": {
            "text/plain": [
              "0          0\n",
              "1          0\n",
              "2          0\n",
              "3          2\n",
              "4          4\n",
              "          ..\n",
              "1048463    3\n",
              "1048464    2\n",
              "1048465    0\n",
              "1048466    2\n",
              "1048467    5\n",
              "Name: pickup_datetime, Length: 1048468, dtype: int64"
            ]
          },
          "metadata": {
            "tags": []
          },
          "execution_count": 0
        }
      ]
    },
    {
      "cell_type": "markdown",
      "metadata": {
        "id": "_AzPAaFrHHqK"
      },
      "source": [
        "0: Monday\n",
        "...\n",
        "6: Sunday"
      ]
    },
    {
      "cell_type": "code",
      "metadata": {
        "colab": {
          "base_uri": "https://localhost:8080/"
        },
        "id": "f1Q_wDfEB3vt",
        "outputId": "dca2cd7f-7fdc-46d2-f56a-fb91460c2cfb"
      },
      "source": [
        "pickup_series.dt.dayofweek.value_counts().sort_values(ascending=False)"
      ],
      "execution_count": null,
      "outputs": [
        {
          "output_type": "execute_result",
          "data": {
            "text/plain": [
              "4    160720\n",
              "5    158846\n",
              "3    157224\n",
              "2    151052\n",
              "1    145268\n",
              "6    140699\n",
              "0    134659\n",
              "Name: pickup_datetime, dtype: int64"
            ]
          },
          "metadata": {
            "tags": []
          },
          "execution_count": 0
        }
      ]
    },
    {
      "cell_type": "code",
      "metadata": {
        "colab": {
          "base_uri": "https://localhost:8080/",
          "height": 312
        },
        "id": "VbaVqe1wHa-J",
        "outputId": "86969d4d-a6ee-4f93-e610-f0dfd96e233e"
      },
      "source": [
        "import matplotlib.pyplot as plt\n",
        "import numpy as np\n",
        "fig = plt.figure(figsize=(24, 6))\n",
        "ax = fig.add_axes([0,0,1,1])\n",
        "days = pickup_series.dt.dayofweek.value_counts().index\n",
        "count = pickup_series.dt.dayofweek.value_counts().values\n",
        "\n",
        "# days = ['Monday', 'Tuesday', 'Wednesday', 'Thursday', 'Friday', 'Saturday', 'Sunday']\n",
        "\n",
        "ax.bar(days,count)\n",
        "ax.set_xticks(np.arange(len(days)))\n",
        "plt.ylabel('Total Taxi Rides')\n",
        "plt.xlabel('Day of the week')\n",
        "plt.show()"
      ],
      "execution_count": null,
      "outputs": [
        {
          "output_type": "display_data",
          "data": {
            "image/png": "[encoded data removed]",
            "text/plain": [
              "<Figure size 1728x432 with 1 Axes>"
            ]
          },
          "metadata": {
            "tags": []
          }
        }
      ]
    },
    {
      "cell_type": "code",
      "metadata": {
        "id": "IKZhpS3sHwUd"
      },
      "source": [
        "array_day = pickup_series.dt.dayofweek.value_counts().sort_values(ascending=False)"
      ],
      "execution_count": null,
      "outputs": []
    },
    {
      "cell_type": "code",
      "metadata": {
        "colab": {
          "base_uri": "https://localhost:8080/"
        },
        "id": "wLc5VNxzH0zi",
        "outputId": "0e076821-1a40-47db-8a98-daee69ca238e"
      },
      "source": [
        "(array_day[3:5].sum()/array_day.sum()) * 100"
      ],
      "execution_count": null,
      "outputs": [
        {
          "output_type": "execute_result",
          "data": {
            "text/plain": [
              "28.262188259441395"
            ]
          },
          "metadata": {
            "tags": []
          },
          "execution_count": 0
        }
      ]
    },
    {
      "cell_type": "markdown",
      "metadata": {
        "id": "5FyxRx39_L1k"
      },
      "source": [
        "### Pinpoint any periods throughout the year that experience trend fluctuation or seasonality around ride pick-up volumes."
      ]
    },
    {
      "cell_type": "markdown",
      "metadata": {
        "id": "r97lfTis_Uxp"
      },
      "source": [
        "This will help us in our post-launch analyses to determine if any spikes or dips were influenced by seasonality or through actual feature adoption/regression."
      ]
    },
    {
      "cell_type": "code",
      "metadata": {
        "id": "QUdYtEWvLh0R"
      },
      "source": [
        "pickup_series = taxi_rides_df['pickup_datetime_dt'] "
      ],
      "execution_count": null,
      "outputs": []
    },
    {
      "cell_type": "code",
      "metadata": {
        "colab": {
          "base_uri": "https://localhost:8080/"
        },
        "id": "F2VuWyA3JgGw",
        "outputId": "808303f3-699d-4ab9-a603-98fe9360600a"
      },
      "source": [
        "pickup_series.dt.month.value_counts(sort=False)"
      ],
      "execution_count": null,
      "outputs": [
        {
          "output_type": "execute_result",
          "data": {
            "text/plain": [
              "1    165087\n",
              "2    171584\n",
              "3    184116\n",
              "4    180923\n",
              "5    178570\n",
              "6    168188\n",
              "Name: pickup_datetime_dt, dtype: int64"
            ]
          },
          "metadata": {
            "tags": []
          },
          "execution_count": 0
        }
      ]
    },
    {
      "cell_type": "code",
      "metadata": {
        "colab": {
          "base_uri": "https://localhost:8080/"
        },
        "id": "TkhghNc3KwWO",
        "outputId": "8e6ab1c9-4682-41c7-c11e-c2b4054c431a"
      },
      "source": [
        "pickup_series.dt.month_name().unique()"
      ],
      "execution_count": null,
      "outputs": [
        {
          "output_type": "execute_result",
          "data": {
            "text/plain": [
              "array(['February', 'May', 'January', 'March', 'April', 'June'],\n",
              "      dtype=object)"
            ]
          },
          "metadata": {
            "tags": []
          },
          "execution_count": 0
        }
      ]
    },
    {
      "cell_type": "code",
      "metadata": {
        "colab": {
          "base_uri": "https://localhost:8080/",
          "height": 312
        },
        "id": "BW7DbifKKczY",
        "outputId": "f2fcd6d7-7b6e-417b-e9f9-21ada3afacf3"
      },
      "source": [
        "import matplotlib.pyplot as plt\n",
        "import numpy as np\n",
        "fig = plt.figure(figsize=(24, 6))\n",
        "ax = fig.add_axes([0,0,1,1])\n",
        "# months = pickup_series.dt.month.value_counts(sort=False).index\n",
        "count = pickup_series.dt.month.value_counts(sort=False).values\n",
        "\n",
        "months = ['January', 'February', 'March', 'April', 'May','June']\n",
        "\n",
        "ax.bar(months,count)\n",
        "ax.set_xticks(np.arange(len(days)))\n",
        "plt.ylabel('Total Taxi Rides')\n",
        "plt.xlabel('Month')\n",
        "plt.show()"
      ],
      "execution_count": null,
      "outputs": [
        {
          "output_type": "display_data",
          "data": {
            "image/png": "[encoded data removed]",
            "text/plain": [
              "<Figure size 1728x432 with 1 Axes>"
            ]
          },
          "metadata": {
            "tags": [],
            "needs_background": "light"
          }
        }
      ]
    },
    {
      "cell_type": "code",
      "metadata": {
        "colab": {
          "base_uri": "https://localhost:8080/",
          "height": 314
        },
        "id": "HBAUw5_cMyZ8",
        "outputId": "4bbb0913-a882-4a48-ed7d-20c9785f28a0"
      },
      "source": [
        "import matplotlib.pyplot as plt\n",
        "import numpy as np\n",
        "fig = plt.figure(figsize=(24, 6))\n",
        "ax = fig.add_axes([0,0,1,1])\n",
        "# months = pickup_series.dt.month.value_counts(sort=False).index\n",
        "count = (pickup_series.dt.month.value_counts(sort=False).values) / pickup_series.dt.month.value_counts(sort=False).values.sum()\n",
        "\n",
        "months = ['January', 'February', 'March', 'April', 'May','June']\n",
        "\n",
        "ax.bar(months,count)\n",
        "ax.set_xticks(np.arange(len(days)))\n",
        "plt.ylabel('Proportion of Total Taxi Rides')\n",
        "plt.xlabel('Month')\n",
        "plt.show()"
      ],
      "execution_count": null,
      "outputs": [
        {
          "output_type": "display_data",
          "data": {
            "image/png": "[encoded data removed]",
            "text/plain": [
              "<Figure size 1728x432 with 1 Axes>"
            ]
          },
          "metadata": {
            "tags": [],
            "needs_background": "light"
          }
        }
      ]
    },
    {
      "cell_type": "code",
      "metadata": {
        "id": "ScR5J77x-BVA"
      },
      "source": [
        "taxi_rides_df.to_csv('/content/drive/MyDrive/DataProductManagerUdacityData/MidtermProject/taxi_rides_output.csv')"
      ],
      "execution_count": null,
      "outputs": []
    },
    {
      "cell_type": "markdown",
      "metadata": {
        "id": "3wPbkLWAEaYn"
      },
      "source": [
        "## Marketing Efforts Analysis"
      ]
    },
    {
      "cell_type": "code",
      "metadata": {
        "id": "Tfvohy2_Eqfv"
      },
      "source": [
        "import pandas as pd"
      ],
      "execution_count": null,
      "outputs": []
    },
    {
      "cell_type": "code",
      "metadata": {
        "id": "_pAxgz9ZEsVd"
      },
      "source": [
        "ur_df = pd.read_csv('/content/drive/MyDrive/DataProductManagerUdacityData/MidtermProject/user-research.csv')"
      ],
      "execution_count": null,
      "outputs": []
    },
    {
      "cell_type": "markdown",
      "metadata": {
        "id": "c_-T-RmjE8y1"
      },
      "source": [
        "### Exploring User Reseach Data"
      ]
    },
    {
      "cell_type": "code",
      "metadata": {
        "colab": {
          "base_uri": "https://localhost:8080/",
          "height": 346
        },
        "id": "IJSmX5LJE_ob",
        "outputId": "ac9601ab-58ca-40d6-da4b-80857261fa12"
      },
      "source": [
        "ur_df.head()"
      ],
      "execution_count": null,
      "outputs": [
        {
          "output_type": "execute_result",
          "data": {
            "text/html": [
              "<div>\n",
              "<style scoped>\n",
              "    .dataframe tbody tr th:only-of-type {\n",
              "        vertical-align: middle;\n",
              "    }\n",
              "\n",
              "    .dataframe tbody tr th {\n",
              "        vertical-align: top;\n",
              "    }\n",
              "\n",
              "    .dataframe thead th {\n",
              "        text-align: right;\n",
              "    }\n",
              "</style>\n",
              "<table border=\"1\" class=\"dataframe\">\n",
              "  <thead>\n",
              "    <tr style=\"text-align: right;\">\n",
              "      <th></th>\n",
              "      <th>Q1_Email</th>\n",
              "      <th>Q2_Gender</th>\n",
              "      <th>Q3_Age</th>\n",
              "      <th>Q4_Income</th>\n",
              "      <th>Q5_Neighborhood</th>\n",
              "      <th>Q6_Taxis</th>\n",
              "      <th>Q7_Rideshare</th>\n",
              "      <th>Q8_Flying_Taxi</th>\n",
              "      <th>Q9_If_Yes</th>\n",
              "      <th>Q10_If_No</th>\n",
              "    </tr>\n",
              "  </thead>\n",
              "  <tbody>\n",
              "    <tr>\n",
              "      <th>0</th>\n",
              "      <td>emailofnewyorker+369@gmail.com</td>\n",
              "      <td>M</td>\n",
              "      <td>65.0</td>\n",
              "      <td>$80,000 - $120,000</td>\n",
              "      <td>Hudson Yards</td>\n",
              "      <td>N</td>\n",
              "      <td>Y</td>\n",
              "      <td>Y</td>\n",
              "      <td>22.0</td>\n",
              "      <td>NaN</td>\n",
              "    </tr>\n",
              "    <tr>\n",
              "      <th>1</th>\n",
              "      <td>emailofnewyorker+429@gmail.com</td>\n",
              "      <td>F</td>\n",
              "      <td>25.0</td>\n",
              "      <td>$120,000 - $200,000</td>\n",
              "      <td>Fort George</td>\n",
              "      <td>Y</td>\n",
              "      <td>Y</td>\n",
              "      <td>N</td>\n",
              "      <td>NaN</td>\n",
              "      <td>I think it is more unsafe than taxis</td>\n",
              "    </tr>\n",
              "    <tr>\n",
              "      <th>2</th>\n",
              "      <td>emailofnewyorker+159@gmail.com</td>\n",
              "      <td>F</td>\n",
              "      <td>49.0</td>\n",
              "      <td>$20,001 - $40,000</td>\n",
              "      <td>Theater District</td>\n",
              "      <td>N</td>\n",
              "      <td>Y</td>\n",
              "      <td>Y</td>\n",
              "      <td>6.0</td>\n",
              "      <td>NaN</td>\n",
              "    </tr>\n",
              "    <tr>\n",
              "      <th>3</th>\n",
              "      <td>emailofnewyorker+414@gmail.com</td>\n",
              "      <td>M</td>\n",
              "      <td>72.0</td>\n",
              "      <td>&gt; $200,000</td>\n",
              "      <td>Tribeca</td>\n",
              "      <td>Y</td>\n",
              "      <td>N</td>\n",
              "      <td>N</td>\n",
              "      <td>NaN</td>\n",
              "      <td>Wouldn't trust the person flying it</td>\n",
              "    </tr>\n",
              "    <tr>\n",
              "      <th>4</th>\n",
              "      <td>emailofnewyorker+375@gmail.com</td>\n",
              "      <td>F</td>\n",
              "      <td>42.0</td>\n",
              "      <td>$80,000 - $120,000</td>\n",
              "      <td>Yorkville</td>\n",
              "      <td>N</td>\n",
              "      <td>N</td>\n",
              "      <td>Y</td>\n",
              "      <td>24.0</td>\n",
              "      <td>NaN</td>\n",
              "    </tr>\n",
              "  </tbody>\n",
              "</table>\n",
              "</div>"
            ],
            "text/plain": [
              "                         Q1_Email  ...                             Q10_If_No\n",
              "0  emailofnewyorker+369@gmail.com  ...                                   NaN\n",
              "1  emailofnewyorker+429@gmail.com  ...  I think it is more unsafe than taxis\n",
              "2  emailofnewyorker+159@gmail.com  ...                                   NaN\n",
              "3  emailofnewyorker+414@gmail.com  ...   Wouldn't trust the person flying it\n",
              "4  emailofnewyorker+375@gmail.com  ...                                   NaN\n",
              "\n",
              "[5 rows x 10 columns]"
            ]
          },
          "metadata": {
            "tags": []
          },
          "execution_count": 174
        }
      ]
    },
    {
      "cell_type": "code",
      "metadata": {
        "colab": {
          "base_uri": "https://localhost:8080/"
        },
        "id": "ZIcOCCq1Ug9C",
        "outputId": "382825d5-4051-4e10-efc2-bfee9d56c104"
      },
      "source": [
        "ur_df.shape"
      ],
      "execution_count": null,
      "outputs": [
        {
          "output_type": "execute_result",
          "data": {
            "text/plain": [
              "(500, 10)"
            ]
          },
          "metadata": {
            "tags": []
          },
          "execution_count": 175
        }
      ]
    },
    {
      "cell_type": "code",
      "metadata": {
        "colab": {
          "base_uri": "https://localhost:8080/"
        },
        "id": "LFNZPmpTUoY8",
        "outputId": "fcb1b997-43ed-4dac-c45b-098c083f269f"
      },
      "source": [
        "ur_df[ur_df.Q8_Flying_Taxi == 'Y'].shape"
      ],
      "execution_count": null,
      "outputs": [
        {
          "output_type": "execute_result",
          "data": {
            "text/plain": [
              "(400, 10)"
            ]
          },
          "metadata": {
            "tags": []
          },
          "execution_count": 176
        }
      ]
    },
    {
      "cell_type": "markdown",
      "metadata": {
        "id": "umxlm3iKEf62"
      },
      "source": [
        "### Is there an inclination of better Flyber adoption based on gender, age, income level, or neighborhood of residence?"
      ]
    },
    {
      "cell_type": "markdown",
      "metadata": {
        "id": "LYisFHm2FVKm"
      },
      "source": [
        "#### Gender"
      ]
    },
    {
      "cell_type": "code",
      "metadata": {
        "colab": {
          "base_uri": "https://localhost:8080/"
        },
        "id": "xS_o3n4oFUPP",
        "outputId": "d42ba58d-9aae-4e3a-8341-ac28ba672086"
      },
      "source": [
        "import matplotlib.pyplot as plt\n",
        "import numpy as np\n",
        "genders = ur_df[ur_df.Q8_Flying_Taxi == 'Y'].Q2_Gender.value_counts().index\n",
        "count = ur_df[ur_df.Q8_Flying_Taxi == 'Y'].Q2_Gender.value_counts().values\n",
        "\n",
        "print(genders)\n",
        "print(count)"
      ],
      "execution_count": null,
      "outputs": [
        {
          "output_type": "stream",
          "text": [
            "Index(['F', 'M'], dtype='object')\n",
            "[243 157]\n"
          ],
          "name": "stdout"
        }
      ]
    },
    {
      "cell_type": "code",
      "metadata": {
        "colab": {
          "base_uri": "https://localhost:8080/",
          "height": 262
        },
        "id": "IbNGyUpTF9g1",
        "outputId": "b81b2061-f0b4-4841-8b91-ac7733d19f56"
      },
      "source": [
        "labels = genders\n",
        "sizes = count\n",
        "explode = ([0, 0.2])\n",
        "\n",
        "fig1, ax1 = plt.subplots()\n",
        "ax1.pie(sizes, explode=explode, labels=labels, autopct='%1.1f%%',\n",
        "        shadow=True, startangle=90)\n",
        "ax1.axis('equal')  # Equal aspect ratio ensures that pie is drawn as a circle.\n",
        "plt.xlabel('% of Gender on User Research')\n",
        "plt.show()"
      ],
      "execution_count": null,
      "outputs": [
        {
          "output_type": "display_data",
          "data": {
            "image/png": "[encoded data removed]",
            "text/plain": [
              "<Figure size 432x288 with 1 Axes>"
            ]
          },
          "metadata": {
            "tags": []
          }
        }
      ]
    },
    {
      "cell_type": "code",
      "metadata": {
        "colab": {
          "base_uri": "https://localhost:8080/"
        },
        "id": "wbyfQMdidvX5",
        "outputId": "7ed58419-7639-47aa-9e61-94847fcdce1e"
      },
      "source": [
        "total_female = len(ur_df[ur_df.Q2_Gender == 'F'])\n",
        "total_female"
      ],
      "execution_count": null,
      "outputs": [
        {
          "output_type": "execute_result",
          "data": {
            "text/plain": [
              "307"
            ]
          },
          "metadata": {
            "tags": []
          },
          "execution_count": 36
        }
      ]
    },
    {
      "cell_type": "code",
      "metadata": {
        "colab": {
          "base_uri": "https://localhost:8080/"
        },
        "id": "LLnmvd99evNZ",
        "outputId": "a6b16ed5-7a1f-406f-9955-ded3e70abb5c"
      },
      "source": [
        "total_female_accepted = len(ur_df[(ur_df.Q2_Gender == 'F')&(ur_df.Q8_Flying_Taxi == 'Y')])\n",
        "total_female_accepted"
      ],
      "execution_count": null,
      "outputs": [
        {
          "output_type": "execute_result",
          "data": {
            "text/plain": [
              "243"
            ]
          },
          "metadata": {
            "tags": []
          },
          "execution_count": 38
        }
      ]
    },
    {
      "cell_type": "code",
      "metadata": {
        "colab": {
          "base_uri": "https://localhost:8080/"
        },
        "id": "qzuSv8SoeU9J",
        "outputId": "7f54c5ae-80bc-4dce-ef4b-4937f273df81"
      },
      "source": [
        "total_male = len(ur_df[ur_df.Q2_Gender == 'M'])\n",
        "total_male"
      ],
      "execution_count": null,
      "outputs": [
        {
          "output_type": "execute_result",
          "data": {
            "text/plain": [
              "192"
            ]
          },
          "metadata": {
            "tags": []
          },
          "execution_count": 39
        }
      ]
    },
    {
      "cell_type": "code",
      "metadata": {
        "colab": {
          "base_uri": "https://localhost:8080/"
        },
        "id": "c_OcZCboe8__",
        "outputId": "659baaf8-c0b2-46db-9108-c98b4d531b51"
      },
      "source": [
        "total_male_accepted = len(ur_df[(ur_df.Q2_Gender == 'M')&(ur_df.Q8_Flying_Taxi == 'Y')])\n",
        "total_male_accepted"
      ],
      "execution_count": null,
      "outputs": [
        {
          "output_type": "execute_result",
          "data": {
            "text/plain": [
              "157"
            ]
          },
          "metadata": {
            "tags": []
          },
          "execution_count": 40
        }
      ]
    },
    {
      "cell_type": "code",
      "metadata": {
        "colab": {
          "base_uri": "https://localhost:8080/"
        },
        "id": "l6TvEu4jfFtC",
        "outputId": "283d379a-797d-4c84-99d3-b8092a87ecab"
      },
      "source": [
        "perc_female_acceptance = total_female_accepted/total_female\n",
        "perc_female_acceptance"
      ],
      "execution_count": null,
      "outputs": [
        {
          "output_type": "execute_result",
          "data": {
            "text/plain": [
              "0.7915309446254072"
            ]
          },
          "metadata": {
            "tags": []
          },
          "execution_count": 42
        }
      ]
    },
    {
      "cell_type": "code",
      "metadata": {
        "colab": {
          "base_uri": "https://localhost:8080/"
        },
        "id": "1sjkTPpQfUl-",
        "outputId": "7fb500a2-0c7a-44eb-d1a4-8dbef27beb53"
      },
      "source": [
        "perc_male_acceptance = total_male_accepted/total_male\n",
        "perc_male_acceptance"
      ],
      "execution_count": null,
      "outputs": [
        {
          "output_type": "execute_result",
          "data": {
            "text/plain": [
              "0.8177083333333334"
            ]
          },
          "metadata": {
            "tags": []
          },
          "execution_count": 43
        }
      ]
    },
    {
      "cell_type": "code",
      "metadata": {
        "colab": {
          "base_uri": "https://localhost:8080/",
          "height": 494
        },
        "id": "kecXLEo0fco-",
        "outputId": "b1a8e2a6-7a3f-4c15-d5ce-7a19c3653f3a"
      },
      "source": [
        "import matplotlib.pyplot as plt\n",
        "import numpy as np\n",
        "\n",
        "fig = plt.figure(figsize=(4, 6))\n",
        "ax = fig.add_axes([0,0,1,1])\n",
        "\n",
        "ax.bar(['Male', 'Female'],[perc_male_acceptance, perc_female_acceptance])\n",
        "ax.set_xticks(np.arange(2))\n",
        "plt.ylabel('% of Acceptance')\n",
        "plt.xlabel('Gender')\n",
        "plt.show()"
      ],
      "execution_count": null,
      "outputs": [
        {
          "output_type": "display_data",
          "data": {
            "image/png": "[encoded data removed]",
            "text/plain": [
              "<Figure size 288x432 with 1 Axes>"
            ]
          },
          "metadata": {
            "tags": [],
            "needs_background": "light"
          }
        }
      ]
    },
    {
      "cell_type": "markdown",
      "metadata": {
        "id": "HHZIK_b9Ih1X"
      },
      "source": [
        "#### Age"
      ]
    },
    {
      "cell_type": "code",
      "metadata": {
        "colab": {
          "base_uri": "https://localhost:8080/",
          "height": 315
        },
        "id": "s4yD7vQ7IjdR",
        "outputId": "3fe767a1-3a32-4be3-eb59-3336524f5496"
      },
      "source": [
        "plt.figure(figsize=(24,6))\n",
        "counts, bins, bars = plt.hist(ur_df[ur_df.Q8_Flying_Taxi == 'Y'].Q3_Age, bins=[0, 10, 20, 30, 40, 50, 60, 70, 80, 90, 100])\n",
        "plt.xlabel('Age')\n",
        "plt.ylabel('Count by Age')\n",
        "plt.show()"
      ],
      "execution_count": null,
      "outputs": [
        {
          "output_type": "display_data",
          "data": {
            "image/png": "[encoded data removed]",
            "text/plain": [
              "<Figure size 1728x432 with 1 Axes>"
            ]
          },
          "metadata": {
            "tags": [],
            "needs_background": "light"
          }
        }
      ]
    },
    {
      "cell_type": "code",
      "metadata": {
        "colab": {
          "base_uri": "https://localhost:8080/"
        },
        "id": "jSgaeKPFLROO",
        "outputId": "fa709b5d-2147-48e8-8f09-9775f4f8cfeb"
      },
      "source": [
        "print(bins)\n",
        "print(counts)\n",
        "print(counts[2:7:2].sum()/counts.sum())\n",
        "print(counts[2:7].sum()/counts.sum())"
      ],
      "execution_count": null,
      "outputs": [
        {
          "output_type": "stream",
          "text": [
            "[  0  10  20  30  40  50  60  70  80  90 100]\n",
            "[ 0. 16. 71. 54. 81. 56. 72. 50.  0.  0.]\n",
            "0.56\n",
            "0.835\n"
          ],
          "name": "stdout"
        }
      ]
    },
    {
      "cell_type": "code",
      "metadata": {
        "colab": {
          "base_uri": "https://localhost:8080/"
        },
        "id": "8IyoqTCDhYRT",
        "outputId": "90c49052-a3e5-4f27-e033-5679c31614d2"
      },
      "source": [
        "age_limits = np.arange(18,81,2)\n",
        "age_limits"
      ],
      "execution_count": null,
      "outputs": [
        {
          "output_type": "execute_result",
          "data": {
            "text/plain": [
              "array([18, 20, 22, 24, 26, 28, 30, 32, 34, 36, 38, 40, 42, 44, 46, 48, 50,\n",
              "       52, 54, 56, 58, 60, 62, 64, 66, 68, 70, 72, 74, 76, 78, 80])"
            ]
          },
          "metadata": {
            "tags": []
          },
          "execution_count": 61
        }
      ]
    },
    {
      "cell_type": "code",
      "metadata": {
        "colab": {
          "base_uri": "https://localhost:8080/"
        },
        "id": "I_ptCwwCjGe2",
        "outputId": "c0724b42-2d1c-48cd-9325-5be52a28d005"
      },
      "source": [
        "indexes = np.arange(31)\n",
        "indexes"
      ],
      "execution_count": null,
      "outputs": [
        {
          "output_type": "execute_result",
          "data": {
            "text/plain": [
              "array([ 0,  1,  2,  3,  4,  5,  6,  7,  8,  9, 10, 11, 12, 13, 14, 15, 16,\n",
              "       17, 18, 19, 20, 21, 22, 23, 24, 25, 26, 27, 28, 29, 30])"
            ]
          },
          "metadata": {
            "tags": []
          },
          "execution_count": 67
        }
      ]
    },
    {
      "cell_type": "code",
      "metadata": {
        "colab": {
          "base_uri": "https://localhost:8080/"
        },
        "id": "tsFeQ1ywidQP",
        "outputId": "fdb50e24-867f-4664-9415-bf7d045c7ee8"
      },
      "source": [
        "labels = []\n",
        "perc_accept = []\n",
        "\n",
        "for index in indexes:\n",
        "  labels.append(str(age_limits[index]) + ' - ' + str(age_limits[index+1]))\n",
        "  # print(labels[index])\n",
        "  age_segment_mask = ((ur_df.Q3_Age > age_limits[index])&(ur_df.Q3_Age <= age_limits[index+1]))\n",
        "  age_segment_mask_acc = ((ur_df.Q3_Age > age_limits[index])&(ur_df.Q3_Age <= age_limits[index+1])&(ur_df.Q8_Flying_Taxi == 'Y'))\n",
        "  numerador = len(ur_df[age_segment_mask_acc])\n",
        "  denominador = len(ur_df[age_segment_mask])\n",
        "  if denominador != 0:\n",
        "    perc = numerador/denominador\n",
        "  else:\n",
        "      perc = 0\n",
        "  perc_accept.append(perc)\n",
        "\n",
        "perc_accept"
      ],
      "execution_count": null,
      "outputs": [
        {
          "output_type": "execute_result",
          "data": {
            "text/plain": [
              "[0.6666666666666666,\n",
              " 0.7272727272727273,\n",
              " 0.8125,\n",
              " 0.8333333333333334,\n",
              " 0.84,\n",
              " 0.8333333333333334,\n",
              " 0.9375,\n",
              " 0.5555555555555556,\n",
              " 0.75,\n",
              " 0.5555555555555556,\n",
              " 0.9333333333333333,\n",
              " 0.8333333333333334,\n",
              " 0.8571428571428571,\n",
              " 0.8333333333333334,\n",
              " 0.8076923076923077,\n",
              " 0.8823529411764706,\n",
              " 0.631578947368421,\n",
              " 0.7777777777777778,\n",
              " 0.75,\n",
              " 0.8125,\n",
              " 1.0,\n",
              " 0.8888888888888888,\n",
              " 0.8421052631578947,\n",
              " 0.8666666666666667,\n",
              " 0.72,\n",
              " 0.9166666666666666,\n",
              " 0.7,\n",
              " 0.875,\n",
              " 0.7647058823529411,\n",
              " 0,\n",
              " 0]"
            ]
          },
          "metadata": {
            "tags": []
          },
          "execution_count": 74
        }
      ]
    },
    {
      "cell_type": "code",
      "metadata": {
        "colab": {
          "base_uri": "https://localhost:8080/",
          "height": 266
        },
        "id": "nrfkV4QHlxlI",
        "outputId": "e143e21c-b82d-4073-da2e-28c6724503e6"
      },
      "source": [
        "import matplotlib.pyplot as plt\n",
        "import numpy as np\n",
        "fig = plt.figure(figsize=(20, 4))\n",
        "ax = fig.add_axes([0,0,1,1])\n",
        "\n",
        "ax.bar(labels,perc_accept)\n",
        "ax.set_xticks(np.arange(len(labels)))\n",
        "\n",
        "plt.ylabel('% of Acceptance')\n",
        "plt.xlabel('Age Segment')\n",
        "\n",
        "plt.grid(b=True, which='major', axis='both')\n",
        "\n",
        "plt.show()"
      ],
      "execution_count": null,
      "outputs": [
        {
          "output_type": "display_data",
          "data": {
            "image/png": "[encoded data removed]",
            "text/plain": [
              "<Figure size 1440x288 with 1 Axes>"
            ]
          },
          "metadata": {
            "tags": [],
            "needs_background": "light"
          }
        }
      ]
    },
    {
      "cell_type": "markdown",
      "metadata": {
        "id": "9IDISdvRWgQs"
      },
      "source": [
        "#### Income"
      ]
    },
    {
      "cell_type": "code",
      "metadata": {
        "colab": {
          "base_uri": "https://localhost:8080/",
          "height": 317
        },
        "id": "Ib--OsClWh2V",
        "outputId": "fb02ec81-d866-4b4e-f181-04c2003b2183"
      },
      "source": [
        "import matplotlib.pyplot as plt\n",
        "import numpy as np\n",
        "fig = plt.figure(figsize=(24, 6))\n",
        "ax = fig.add_axes([0,0,1,1])\n",
        "\n",
        "income_segment_ordered = ['$0 - $20,000', '$20,001 - $40,000', '$40,001 - $80,000', '$80,000 - $120,000', '$120,000 - $200,000', '> $200,000']\n",
        "\n",
        "income_segment = ur_df[ur_df.Q8_Flying_Taxi == 'Y'].Q4_Income.value_counts()[income_segment_ordered].index\n",
        "count = ur_df[ur_df.Q8_Flying_Taxi == 'Y'].Q4_Income.value_counts()[income_segment_ordered].values\n",
        "\n",
        "ax.bar(income_segment,count)\n",
        "ax.set_xticks(np.arange(len(income_segment)))\n",
        "plt.ylabel('Count by Segment')\n",
        "plt.xlabel('Income Segment')\n",
        "plt.show()"
      ],
      "execution_count": null,
      "outputs": [
        {
          "output_type": "display_data",
          "data": {
            "image/png": "[encoded data removed]",
            "text/plain": [
              "<Figure size 1728x432 with 1 Axes>"
            ]
          },
          "metadata": {
            "tags": [],
            "needs_background": "light"
          }
        }
      ]
    },
    {
      "cell_type": "code",
      "metadata": {
        "colab": {
          "base_uri": "https://localhost:8080/"
        },
        "id": "tGdEJURRa7Xw",
        "outputId": "91878f39-f0fb-4fef-da3f-3320819ff64e"
      },
      "source": [
        "ur_df[ur_df.Q8_Flying_Taxi == 'Y'].Q4_Income.value_counts()[income_segment_ordered]"
      ],
      "execution_count": null,
      "outputs": [
        {
          "output_type": "execute_result",
          "data": {
            "text/plain": [
              "$0 - $20,000            20\n",
              "$20,001 - $40,000       53\n",
              "$40,001 - $80,000      106\n",
              "$80,000 - $120,000      94\n",
              "$120,000 - $200,000     85\n",
              "> $200,000              42\n",
              "Name: Q4_Income, dtype: int64"
            ]
          },
          "metadata": {
            "tags": []
          },
          "execution_count": 182
        }
      ]
    },
    {
      "cell_type": "code",
      "metadata": {
        "colab": {
          "base_uri": "https://localhost:8080/",
          "height": 317
        },
        "id": "HvB16aaRaFvb",
        "outputId": "27487ba0-7b71-42fa-e07e-a59404fead2e"
      },
      "source": [
        "fig = plt.figure(figsize=(24, 6))\n",
        "ax = fig.add_axes([0,0,1,1])\n",
        "\n",
        "income_segment_ordered = ['$0 - $20,000', '$20,001 - $40,000', '$40,001 - $80,000', '$80,000 - $120,000', '$120,000 - $200,000', '> $200,000']\n",
        "\n",
        "income_segment = ur_df[ur_df.Q8_Flying_Taxi == 'Y'].Q4_Income.value_counts(normalize=True)[income_segment_ordered].index\n",
        "count = ur_df[ur_df.Q8_Flying_Taxi == 'Y'].Q4_Income.value_counts(normalize=True)[income_segment_ordered].values\n",
        "\n",
        "ax.bar(income_segment,count)\n",
        "ax.set_xticks(np.arange(len(income_segment)))\n",
        "plt.ylabel('Frequency by Segment')\n",
        "plt.xlabel('Income Segment')\n",
        "plt.show()"
      ],
      "execution_count": null,
      "outputs": [
        {
          "output_type": "display_data",
          "data": {
            "image/png": "[encoded data removed]",
            "text/plain": [
              "<Figure size 1728x432 with 1 Axes>"
            ]
          },
          "metadata": {
            "tags": [],
            "needs_background": "light"
          }
        }
      ]
    },
    {
      "cell_type": "code",
      "metadata": {
        "colab": {
          "base_uri": "https://localhost:8080/"
        },
        "id": "gjmOLf-WbARD",
        "outputId": "5637fb20-c20b-4bab-b605-47fa71844f3e"
      },
      "source": [
        "ur_df[ur_df.Q8_Flying_Taxi == 'Y'].Q4_Income.value_counts(normalize=True)[income_segment_ordered]"
      ],
      "execution_count": null,
      "outputs": [
        {
          "output_type": "execute_result",
          "data": {
            "text/plain": [
              "$0 - $20,000           0.0500\n",
              "$20,001 - $40,000      0.1325\n",
              "$40,001 - $80,000      0.2650\n",
              "$80,000 - $120,000     0.2350\n",
              "$120,000 - $200,000    0.2125\n",
              "> $200,000             0.1050\n",
              "Name: Q4_Income, dtype: float64"
            ]
          },
          "metadata": {
            "tags": []
          },
          "execution_count": 184
        }
      ]
    },
    {
      "cell_type": "code",
      "metadata": {
        "colab": {
          "base_uri": "https://localhost:8080/"
        },
        "id": "XsI6j0gVcNRV",
        "outputId": "7e23602a-b307-4167-9300-be4f32e33d68"
      },
      "source": [
        "count[2:4].sum()"
      ],
      "execution_count": null,
      "outputs": [
        {
          "output_type": "execute_result",
          "data": {
            "text/plain": [
              "0.5"
            ]
          },
          "metadata": {
            "tags": []
          },
          "execution_count": 185
        }
      ]
    },
    {
      "cell_type": "code",
      "metadata": {
        "colab": {
          "base_uri": "https://localhost:8080/"
        },
        "id": "oItx_z0cX_qL",
        "outputId": "df3e68b3-a635-48f3-e926-d26e65e7117f"
      },
      "source": [
        "income_segment"
      ],
      "execution_count": null,
      "outputs": [
        {
          "output_type": "execute_result",
          "data": {
            "text/plain": [
              "Index(['$0 - $20,000', '$20,001 - $40,000', '$40,001 - $80,000',\n",
              "       '$80,000 - $120,000', '$120,000 - $200,000', '> $200,000'],\n",
              "      dtype='object')"
            ]
          },
          "metadata": {
            "tags": []
          },
          "execution_count": 186
        }
      ]
    },
    {
      "cell_type": "code",
      "metadata": {
        "colab": {
          "base_uri": "https://localhost:8080/"
        },
        "id": "Lysd4qp9oUJG",
        "outputId": "a5e0218c-1f69-4fd2-9f30-bef2f4cc6c7a"
      },
      "source": [
        "income_segment_ordered = ['$0 - $20,000', '$20,001 - $40,000', '$40,001 - $80,000', '$80,000 - $120,000', '$120,000 - $200,000', '> $200,000']\n",
        "perc_accept = []\n",
        "\n",
        "for segment in income_segment_ordered:\n",
        "  segment_mask = (ur_df.Q4_Income == segment)\n",
        "  segment_mask_acc = ((ur_df.Q4_Income == segment)&(ur_df.Q8_Flying_Taxi == 'Y'))\n",
        "  numerador = len(ur_df[segment_mask_acc])\n",
        "  denominador = len(ur_df[segment_mask])\n",
        "  if denominador != 0:\n",
        "    perc = numerador/denominador\n",
        "  else:\n",
        "      perc = 0\n",
        "  perc_accept.append(perc)\n",
        "\n",
        "perc_accept"
      ],
      "execution_count": null,
      "outputs": [
        {
          "output_type": "execute_result",
          "data": {
            "text/plain": [
              "[0.8,\n",
              " 0.803030303030303,\n",
              " 0.7910447761194029,\n",
              " 0.7966101694915254,\n",
              " 0.8585858585858586,\n",
              " 0.7368421052631579]"
            ]
          },
          "metadata": {
            "tags": []
          },
          "execution_count": 82
        }
      ]
    },
    {
      "cell_type": "code",
      "metadata": {
        "id": "x02egIiPo3f0",
        "colab": {
          "base_uri": "https://localhost:8080/",
          "height": 268
        },
        "outputId": "c2344ca9-62df-43a7-c5ca-fce85431f60c"
      },
      "source": [
        "import matplotlib.pyplot as plt\n",
        "import numpy as np\n",
        "fig = plt.figure(figsize=(20, 4))\n",
        "ax = fig.add_axes([0,0,1,1])\n",
        "\n",
        "ax.bar(income_segment_ordered,perc_accept)\n",
        "ax.set_xticks(np.arange(len(income_segment_ordered)))\n",
        "\n",
        "plt.ylabel('% of Acceptance')\n",
        "plt.xlabel('Income Segment')\n",
        "\n",
        "plt.grid(b=True, which='major', axis='both')\n",
        "\n",
        "plt.show()"
      ],
      "execution_count": null,
      "outputs": [
        {
          "output_type": "display_data",
          "data": {
            "image/png": "[encoded data removed]",
            "text/plain": [
              "<Figure size 1440x288 with 1 Axes>"
            ]
          },
          "metadata": {
            "tags": [],
            "needs_background": "light"
          }
        }
      ]
    },
    {
      "cell_type": "markdown",
      "metadata": {
        "id": "kMjYQ7UtdSkt"
      },
      "source": [
        "#### Neighborhood"
      ]
    },
    {
      "cell_type": "code",
      "metadata": {
        "colab": {
          "base_uri": "https://localhost:8080/"
        },
        "id": "qapmRhzpd1xk",
        "outputId": "a2238abc-206a-4a2c-cfba-40a6f3ad89d2"
      },
      "source": [
        "len(ur_df[(ur_df.Q8_Flying_Taxi == 'Y') & (ur_df.Q6_Taxis == 'Y')].Q5_Neighborhood.unique())"
      ],
      "execution_count": null,
      "outputs": [
        {
          "output_type": "execute_result",
          "data": {
            "text/plain": [
              "69"
            ]
          },
          "metadata": {
            "tags": []
          },
          "execution_count": 187
        }
      ]
    },
    {
      "cell_type": "code",
      "metadata": {
        "colab": {
          "base_uri": "https://localhost:8080/"
        },
        "id": "7EB9nGdsdXkJ",
        "outputId": "60198478-4868-491a-f890-f892957ac0a9"
      },
      "source": [
        "distribution_count = ur_df[ur_df.Q8_Flying_Taxi == 'Y'].Q5_Neighborhood.value_counts()\n",
        "\n",
        "print(distribution_count[distribution_count.values > 8])\n"
      ],
      "execution_count": null,
      "outputs": [
        {
          "output_type": "stream",
          "text": [
            "Midtown               15\n",
            "Battery Park City     14\n",
            "Financial District    12\n",
            "Tribeca               11\n",
            "Tudor City            11\n",
            "Columbus Circle       10\n",
            "Turtle Bay             9\n",
            "Little Brazil          9\n",
            "Midtown West           9\n",
            "Hudson Yards           9\n",
            "Rockefeller Center     9\n",
            "Hell's Kitchen         9\n",
            "Name: Q5_Neighborhood, dtype: int64\n"
          ],
          "name": "stdout"
        }
      ]
    },
    {
      "cell_type": "code",
      "metadata": {
        "colab": {
          "base_uri": "https://localhost:8080/"
        },
        "id": "M8atX3GgwopL",
        "outputId": "82ea9ee0-56ca-40cf-87c3-0012778306da"
      },
      "source": [
        "distribution_freq = ur_df[ur_df.Q8_Flying_Taxi == 'Y'].Q5_Neighborhood.value_counts(normalize=True) * 100\n",
        "\n",
        "print(distribution_freq)\n",
        "\n",
        "print(distribution_freq[0:5].sum())"
      ],
      "execution_count": null,
      "outputs": [
        {
          "output_type": "stream",
          "text": [
            "Midtown               3.75\n",
            "Battery Park City     3.50\n",
            "Financial District    3.00\n",
            "Tribeca               2.75\n",
            "Tudor City            2.75\n",
            "                      ... \n",
            "Downtown Manhattan    0.75\n",
            "Hamilton Heights      0.75\n",
            "Lower East Side       0.50\n",
            "West Harlem           0.25\n",
            "Inwood                0.25\n",
            "Name: Q5_Neighborhood, Length: 69, dtype: float64\n",
            "15.75\n"
          ],
          "name": "stdout"
        }
      ]
    },
    {
      "cell_type": "markdown",
      "metadata": {
        "id": "sCGJ_PmfEj7o"
      },
      "source": [
        "### What is the distribution of potential price per mile based on gender, age, income level, and neighborhood of residence?"
      ]
    },
    {
      "cell_type": "code",
      "metadata": {
        "colab": {
          "base_uri": "https://localhost:8080/"
        },
        "id": "McFhWh1ewn8R",
        "outputId": "e5625431-d3ee-4835-ee0a-cb49fccda157"
      },
      "source": [
        "ur_df.Q9_If_Yes.describe()"
      ],
      "execution_count": null,
      "outputs": [
        {
          "output_type": "execute_result",
          "data": {
            "text/plain": [
              "count    400.000000\n",
              "mean      23.180000\n",
              "std        9.278082\n",
              "min        5.000000\n",
              "25%       16.750000\n",
              "50%       23.000000\n",
              "75%       29.000000\n",
              "max       46.000000\n",
              "Name: Q9_If_Yes, dtype: float64"
            ]
          },
          "metadata": {
            "tags": []
          },
          "execution_count": 149
        }
      ]
    },
    {
      "cell_type": "markdown",
      "metadata": {
        "id": "RunTsn_nypNR"
      },
      "source": [
        "#### Gender "
      ]
    },
    {
      "cell_type": "code",
      "metadata": {
        "colab": {
          "base_uri": "https://localhost:8080/"
        },
        "id": "1R65Y0X4ySqO",
        "outputId": "df25f711-4e86-4573-934c-e6ec63bbba2b"
      },
      "source": [
        "mean_M = ur_df[ur_df.Q2_Gender == 'M'].Q9_If_Yes.mean(skipna=True)\n",
        "mean_M"
      ],
      "execution_count": null,
      "outputs": [
        {
          "output_type": "execute_result",
          "data": {
            "text/plain": [
              "23.012738853503183"
            ]
          },
          "metadata": {
            "tags": []
          },
          "execution_count": 150
        }
      ]
    },
    {
      "cell_type": "code",
      "metadata": {
        "colab": {
          "base_uri": "https://localhost:8080/"
        },
        "id": "HLBJu_im2cE1",
        "outputId": "ee881643-8377-4a4b-d355-8b0dd5917f57"
      },
      "source": [
        "ur_df[ur_df.Q2_Gender == 'M'].Q9_If_Yes.describe()"
      ],
      "execution_count": null,
      "outputs": [
        {
          "output_type": "execute_result",
          "data": {
            "text/plain": [
              "count    157.000000\n",
              "mean      23.012739\n",
              "std        9.146239\n",
              "min        7.000000\n",
              "25%       17.000000\n",
              "50%       22.000000\n",
              "75%       28.000000\n",
              "max       44.000000\n",
              "Name: Q9_If_Yes, dtype: float64"
            ]
          },
          "metadata": {
            "tags": []
          },
          "execution_count": 151
        }
      ]
    },
    {
      "cell_type": "code",
      "metadata": {
        "colab": {
          "base_uri": "https://localhost:8080/"
        },
        "id": "nBmsJlsly3lu",
        "outputId": "3323f043-13c2-4288-a453-3bcf4a82844c"
      },
      "source": [
        "mean_F = ur_df[ur_df.Q2_Gender == 'F'].Q9_If_Yes.mean(skipna=True)\n",
        "mean_F"
      ],
      "execution_count": null,
      "outputs": [
        {
          "output_type": "execute_result",
          "data": {
            "text/plain": [
              "23.2880658436214"
            ]
          },
          "metadata": {
            "tags": []
          },
          "execution_count": 152
        }
      ]
    },
    {
      "cell_type": "code",
      "metadata": {
        "colab": {
          "base_uri": "https://localhost:8080/"
        },
        "id": "j26IMybj2ieJ",
        "outputId": "883ccc4b-249d-48ea-b4ee-d7b3f5f194ad"
      },
      "source": [
        "ur_df[ur_df.Q2_Gender == 'F'].Q9_If_Yes.describe()"
      ],
      "execution_count": null,
      "outputs": [
        {
          "output_type": "execute_result",
          "data": {
            "text/plain": [
              "count    243.000000\n",
              "mean      23.288066\n",
              "std        9.379474\n",
              "min        5.000000\n",
              "25%       16.000000\n",
              "50%       23.000000\n",
              "75%       29.000000\n",
              "max       46.000000\n",
              "Name: Q9_If_Yes, dtype: float64"
            ]
          },
          "metadata": {
            "tags": []
          },
          "execution_count": 153
        }
      ]
    },
    {
      "cell_type": "code",
      "metadata": {
        "colab": {
          "base_uri": "https://localhost:8080/"
        },
        "id": "L0G0lz2ozds8",
        "outputId": "79649cfc-0318-4b76-c1bf-5db76aefcdb8"
      },
      "source": [
        "((mean_F/mean_M) - 1)*100"
      ],
      "execution_count": null,
      "outputs": [
        {
          "output_type": "execute_result",
          "data": {
            "text/plain": [
              "1.1964112219363443"
            ]
          },
          "metadata": {
            "tags": []
          },
          "execution_count": 154
        }
      ]
    },
    {
      "cell_type": "markdown",
      "metadata": {
        "id": "e1InTw_z0Vo1"
      },
      "source": [
        "#### Age"
      ]
    },
    {
      "cell_type": "code",
      "metadata": {
        "colab": {
          "base_uri": "https://localhost:8080/"
        },
        "id": "V5iRGaQd0VCo",
        "outputId": "437f1a21-3b04-47b6-bc64-8627dc1427fa"
      },
      "source": [
        "ages_segments = [0, 10, 20, 30, 40, 50, 60, 70, 80, 90, 100]\n",
        "\n",
        "for age in ages_segments:\n",
        "  print('Between:', age, 'and', age + 10)\n",
        "  print(ur_df[(ur_df.Q3_Age > age) & (ur_df.Q3_Age <= age + 10)].Q9_If_Yes.mean(skipna=True))"
      ],
      "execution_count": null,
      "outputs": [
        {
          "output_type": "stream",
          "text": [
            "Between: 0 and 10\n",
            "nan\n",
            "Between: 10 and 20\n",
            "26.75\n",
            "Between: 20 and 30\n",
            "23.3\n",
            "Between: 30 and 40\n",
            "21.35593220338983\n",
            "Between: 40 and 50\n",
            "23.139240506329113\n",
            "Between: 50 and 60\n",
            "20.649122807017545\n",
            "Between: 60 and 70\n",
            "25.972972972972972\n",
            "Between: 70 and 80\n",
            "22.414634146341463\n",
            "Between: 80 and 90\n",
            "nan\n",
            "Between: 90 and 100\n",
            "nan\n",
            "Between: 100 and 110\n",
            "nan\n"
          ],
          "name": "stdout"
        }
      ]
    },
    {
      "cell_type": "markdown",
      "metadata": {
        "id": "BYZ7Nt0m3PVJ"
      },
      "source": [
        "#### Income"
      ]
    },
    {
      "cell_type": "code",
      "metadata": {
        "colab": {
          "base_uri": "https://localhost:8080/"
        },
        "id": "HNhvxz133Rag",
        "outputId": "c8a3585a-acee-4819-c3f3-4626ff8457ee"
      },
      "source": [
        "income_segment_ordered = ['$0 - $20,000', '$20,001 - $40,000', '$40,001 - $80,000', '$80,000 - $120,000', '$120,000 - $200,000', '> $200,000']\n",
        "mean_price_list = []\n",
        "\n",
        "for segment in income_segment_ordered:\n",
        "  print(segment)\n",
        "  mean_price = ur_df[ur_df.Q4_Income == segment].Q9_If_Yes.mean(skipna=True)\n",
        "  mean_price_list.append(mean_price)\n",
        "  print(mean_price)"
      ],
      "execution_count": null,
      "outputs": [
        {
          "output_type": "stream",
          "text": [
            "$0 - $20,000\n",
            "11.7\n",
            "$20,001 - $40,000\n",
            "15.433962264150944\n",
            "$40,001 - $80,000\n",
            "18.330188679245282\n",
            "$80,000 - $120,000\n",
            "22.127659574468087\n",
            "$120,000 - $200,000\n",
            "31.04705882352941\n",
            "> $200,000\n",
            "37.095238095238095\n"
          ],
          "name": "stdout"
        }
      ]
    },
    {
      "cell_type": "code",
      "metadata": {
        "colab": {
          "base_uri": "https://localhost:8080/",
          "height": 492
        },
        "id": "UcFmKJog5byG",
        "outputId": "ba9565aa-d513-4990-9f6b-afdfaa3ba825"
      },
      "source": [
        "fig = plt.figure(figsize=(24, 10))\n",
        "\n",
        "xs = income_segment_ordered\n",
        "ys = mean_price_list\n",
        "\n",
        "# zip joins x and y coordinates in pairs\n",
        "for x,y in zip(xs,ys):\n",
        "\n",
        "    label = \"{:.2f}\".format(y)\n",
        "\n",
        "    plt.annotate(label, # this is the text\n",
        "                 (x,y), # this is the point to label\n",
        "                 textcoords=\"offset points\", # how to position the text\n",
        "                 xytext=(0,10), # distance from text to points (x,y)\n",
        "                 ha='center') # horizontal alignment can be left, right or center\n",
        "\n",
        "plt.plot(xs, ys)\n",
        "\n",
        "plt.ylabel('Mean WTP Price Per Mile')\n",
        "plt.xlabel('Income Segment')\n",
        "\n",
        "plt.show()"
      ],
      "execution_count": null,
      "outputs": [
        {
          "output_type": "display_data",
          "data": {
            "image/png": "[encoded data removed]",
            "text/plain": [
              "<Figure size 1728x720 with 1 Axes>"
            ]
          },
          "metadata": {
            "tags": [],
            "needs_background": "light"
          }
        }
      ]
    },
    {
      "cell_type": "markdown",
      "metadata": {
        "id": "EwD7G-HI665W"
      },
      "source": [
        "#### Neighborhood"
      ]
    },
    {
      "cell_type": "code",
      "metadata": {
        "id": "ycTUL5it66Gb"
      },
      "source": [
        "neighborhood_list = ur_df.Q5_Neighborhood.unique()\n",
        "mean_price_list = []\n",
        "\n",
        "for nb in neighborhood_list:\n",
        "  mean_price = ur_df[ur_df.Q5_Neighborhood == nb].Q9_If_Yes.mean(skipna=True)\n",
        "  mean_price_list.append(mean_price)"
      ],
      "execution_count": null,
      "outputs": []
    },
    {
      "cell_type": "code",
      "metadata": {
        "colab": {
          "base_uri": "https://localhost:8080/"
        },
        "id": "FR7Upmdm88eI",
        "outputId": "fc6dcffb-4147-4855-e101-17472ef2ccd7"
      },
      "source": [
        "nb = pd.Series(neighborhood_list, name='Neighborhood')\n",
        "\n",
        "nb"
      ],
      "execution_count": null,
      "outputs": [
        {
          "output_type": "execute_result",
          "data": {
            "text/plain": [
              "0                          Hudson Yards\n",
              "1                           Fort George\n",
              "2                      Theater District\n",
              "3                               Tribeca\n",
              "4                             Yorkville\n",
              "                    ...                \n",
              "64                       Hudson Heights\n",
              "65    Le Petit Senegal (Little Senegal)\n",
              "66                                 SoHo\n",
              "67                          Two Bridges\n",
              "68                         West Village\n",
              "Name: Neighborhood, Length: 69, dtype: object"
            ]
          },
          "metadata": {
            "tags": []
          },
          "execution_count": 159
        }
      ]
    },
    {
      "cell_type": "code",
      "metadata": {
        "colab": {
          "base_uri": "https://localhost:8080/"
        },
        "id": "T8GBl3DM9FnY",
        "outputId": "3c4d11ad-ec64-4977-e12b-d30fe6f18a07"
      },
      "source": [
        "price = pd.Series(mean_price_list, name='Avg_Price')\n",
        "\n",
        "price"
      ],
      "execution_count": null,
      "outputs": [
        {
          "output_type": "execute_result",
          "data": {
            "text/plain": [
              "0     19.666667\n",
              "1     25.000000\n",
              "2     22.285714\n",
              "3     29.363636\n",
              "4     19.750000\n",
              "        ...    \n",
              "64    19.833333\n",
              "65    23.800000\n",
              "66    24.200000\n",
              "67    19.000000\n",
              "68    27.333333\n",
              "Name: Avg_Price, Length: 69, dtype: float64"
            ]
          },
          "metadata": {
            "tags": []
          },
          "execution_count": 160
        }
      ]
    },
    {
      "cell_type": "code",
      "metadata": {
        "colab": {
          "base_uri": "https://localhost:8080/",
          "height": 343
        },
        "id": "8v4T0Ix78wGj",
        "outputId": "a1d82d85-a4aa-4bf3-b410-1abe22b85a83"
      },
      "source": [
        "aux_df = pd.concat([nb, price], axis=1)\n",
        "\n",
        "aux_df.sort_values(by='Avg_Price', ascending=False)[0:10]"
      ],
      "execution_count": null,
      "outputs": [
        {
          "output_type": "execute_result",
          "data": {
            "text/html": [
              "<div>\n",
              "<style scoped>\n",
              "    .dataframe tbody tr th:only-of-type {\n",
              "        vertical-align: middle;\n",
              "    }\n",
              "\n",
              "    .dataframe tbody tr th {\n",
              "        vertical-align: top;\n",
              "    }\n",
              "\n",
              "    .dataframe thead th {\n",
              "        text-align: right;\n",
              "    }\n",
              "</style>\n",
              "<table border=\"1\" class=\"dataframe\">\n",
              "  <thead>\n",
              "    <tr style=\"text-align: right;\">\n",
              "      <th></th>\n",
              "      <th>Neighborhood</th>\n",
              "      <th>Avg_Price</th>\n",
              "    </tr>\n",
              "  </thead>\n",
              "  <tbody>\n",
              "    <tr>\n",
              "      <th>34</th>\n",
              "      <td>Inwood</td>\n",
              "      <td>34.000000</td>\n",
              "    </tr>\n",
              "    <tr>\n",
              "      <th>23</th>\n",
              "      <td>Financial District</td>\n",
              "      <td>32.833333</td>\n",
              "    </tr>\n",
              "    <tr>\n",
              "      <th>33</th>\n",
              "      <td>Bowery</td>\n",
              "      <td>32.800000</td>\n",
              "    </tr>\n",
              "    <tr>\n",
              "      <th>52</th>\n",
              "      <td>Battery Park City</td>\n",
              "      <td>32.714286</td>\n",
              "    </tr>\n",
              "    <tr>\n",
              "      <th>26</th>\n",
              "      <td>Columbus Circle</td>\n",
              "      <td>30.100000</td>\n",
              "    </tr>\n",
              "    <tr>\n",
              "      <th>3</th>\n",
              "      <td>Tribeca</td>\n",
              "      <td>29.363636</td>\n",
              "    </tr>\n",
              "    <tr>\n",
              "      <th>21</th>\n",
              "      <td>Lower East Side</td>\n",
              "      <td>28.000000</td>\n",
              "    </tr>\n",
              "    <tr>\n",
              "      <th>68</th>\n",
              "      <td>West Village</td>\n",
              "      <td>27.333333</td>\n",
              "    </tr>\n",
              "    <tr>\n",
              "      <th>35</th>\n",
              "      <td>Downtown Manhattan</td>\n",
              "      <td>27.000000</td>\n",
              "    </tr>\n",
              "    <tr>\n",
              "      <th>27</th>\n",
              "      <td>Diamond District</td>\n",
              "      <td>26.285714</td>\n",
              "    </tr>\n",
              "  </tbody>\n",
              "</table>\n",
              "</div>"
            ],
            "text/plain": [
              "          Neighborhood  Avg_Price\n",
              "34              Inwood  34.000000\n",
              "23  Financial District  32.833333\n",
              "33              Bowery  32.800000\n",
              "52   Battery Park City  32.714286\n",
              "26     Columbus Circle  30.100000\n",
              "3              Tribeca  29.363636\n",
              "21     Lower East Side  28.000000\n",
              "68        West Village  27.333333\n",
              "35  Downtown Manhattan  27.000000\n",
              "27    Diamond District  26.285714"
            ]
          },
          "metadata": {
            "tags": []
          },
          "execution_count": 161
        }
      ]
    },
    {
      "cell_type": "markdown",
      "metadata": {
        "id": "oB5-72z5EntJ"
      },
      "source": [
        "### What is the different personas/segments of negative sentiment towards not using a flying taxi car service?"
      ]
    },
    {
      "cell_type": "code",
      "metadata": {
        "id": "B1giVm77Eb-B"
      },
      "source": [
        "ur_df[ur_df.Q8_Flying_Taxi == 'N'].Q4_Income.describe()"
      ],
      "execution_count": null,
      "outputs": []
    },
    {
      "cell_type": "code",
      "metadata": {
        "colab": {
          "base_uri": "https://localhost:8080/"
        },
        "id": "u1_Z4eIpAA-0",
        "outputId": "5e0a5652-a1f1-4eca-dc6a-3062045ca290"
      },
      "source": [
        "ur_df[ur_df.Q8_Flying_Taxi == 'N'].Q3_Age.describe()"
      ],
      "execution_count": null,
      "outputs": [
        {
          "output_type": "execute_result",
          "data": {
            "text/plain": [
              "count    99.000000\n",
              "mean     45.989899\n",
              "std      17.656296\n",
              "min      18.000000\n",
              "25%      33.000000\n",
              "50%      46.000000\n",
              "75%      62.500000\n",
              "max      76.000000\n",
              "Name: Q3_Age, dtype: float64"
            ]
          },
          "metadata": {
            "tags": []
          },
          "execution_count": 163
        }
      ]
    },
    {
      "cell_type": "code",
      "metadata": {
        "colab": {
          "base_uri": "https://localhost:8080/"
        },
        "id": "n7dxQvPq_F7y",
        "outputId": "433b064c-a18c-4b58-f1bb-317950593689"
      },
      "source": [
        "ur_df.columns"
      ],
      "execution_count": null,
      "outputs": [
        {
          "output_type": "execute_result",
          "data": {
            "text/plain": [
              "Index(['Q1_Email', 'Q2_Gender', 'Q3_Age', 'Q4_Income', 'Q5_Neighborhood',\n",
              "       'Q6_Taxis', 'Q7_Rideshare', 'Q8_Flying_Taxi', 'Q9_If_Yes', 'Q10_If_No'],\n",
              "      dtype='object')"
            ]
          },
          "metadata": {
            "tags": []
          },
          "execution_count": 164
        }
      ]
    },
    {
      "cell_type": "code",
      "metadata": {
        "colab": {
          "base_uri": "https://localhost:8080/"
        },
        "id": "9j6GzdnhAHCl",
        "outputId": "e8aa9465-6177-4bb1-8e59-fed7acdd7b72"
      },
      "source": [
        "ur_df[ur_df.Q8_Flying_Taxi == 'N'].Q2_Gender.describe()"
      ],
      "execution_count": null,
      "outputs": [
        {
          "output_type": "execute_result",
          "data": {
            "text/plain": [
              "count     99\n",
              "unique     2\n",
              "top        F\n",
              "freq      64\n",
              "Name: Q2_Gender, dtype: object"
            ]
          },
          "metadata": {
            "tags": []
          },
          "execution_count": 165
        }
      ]
    },
    {
      "cell_type": "code",
      "metadata": {
        "colab": {
          "base_uri": "https://localhost:8080/"
        },
        "id": "u7oBMVoAALjw",
        "outputId": "719e819d-68c4-41c0-d10d-4077f0377cfc"
      },
      "source": [
        "ur_df[ur_df.Q8_Flying_Taxi == 'N'].Q5_Neighborhood.describe()"
      ],
      "execution_count": null,
      "outputs": [
        {
          "output_type": "execute_result",
          "data": {
            "text/plain": [
              "count              99\n",
              "unique             52\n",
              "top       West Harlem\n",
              "freq                5\n",
              "Name: Q5_Neighborhood, dtype: object"
            ]
          },
          "metadata": {
            "tags": []
          },
          "execution_count": 166
        }
      ]
    },
    {
      "cell_type": "markdown",
      "metadata": {
        "id": "TuzWy0ssB_5O"
      },
      "source": [
        "#### Most Mentioned Words in Negative Answers"
      ]
    },
    {
      "cell_type": "code",
      "metadata": {
        "id": "wYA-bWCdAmZB"
      },
      "source": [
        "list_aux = ur_df[ur_df.Q8_Flying_Taxi == 'N'].Q10_If_No.to_list()"
      ],
      "execution_count": null,
      "outputs": []
    },
    {
      "cell_type": "code",
      "metadata": {
        "id": "JWW6wglqBOK_"
      },
      "source": [
        "list_aux = ' '.join(list_aux)"
      ],
      "execution_count": null,
      "outputs": []
    },
    {
      "cell_type": "code",
      "metadata": {
        "colab": {
          "base_uri": "https://localhost:8080/"
        },
        "id": "152ScAjrCL8h",
        "outputId": "d095a957-0540-46ea-df61-c1fec2a026f9"
      },
      "source": [
        "list_aux = list_aux.split()\n",
        "\n",
        "list_aux"
      ],
      "execution_count": null,
      "outputs": [
        {
          "output_type": "execute_result",
          "data": {
            "text/plain": [
              "['I',\n",
              " 'think',\n",
              " 'it',\n",
              " 'is',\n",
              " 'more',\n",
              " 'unsafe',\n",
              " 'than',\n",
              " 'taxis',\n",
              " \"Wouldn't\",\n",
              " 'trust',\n",
              " 'the',\n",
              " 'person',\n",
              " 'flying',\n",
              " 'it',\n",
              " 'It',\n",
              " 'would',\n",
              " 'be',\n",
              " 'too',\n",
              " 'expensive',\n",
              " 'Not',\n",
              " 'worth',\n",
              " 'the',\n",
              " 'extra',\n",
              " 'money',\n",
              " 'It',\n",
              " 'would',\n",
              " 'be',\n",
              " 'too',\n",
              " 'expensive',\n",
              " \"It's\",\n",
              " 'unsafe',\n",
              " \"It's\",\n",
              " 'dangerous',\n",
              " \"Wouldn't\",\n",
              " 'trust',\n",
              " 'the',\n",
              " 'person',\n",
              " 'flying',\n",
              " 'it',\n",
              " 'Not',\n",
              " 'worth',\n",
              " 'the',\n",
              " 'extra',\n",
              " 'money',\n",
              " 'I',\n",
              " 'think',\n",
              " 'it',\n",
              " 'is',\n",
              " 'more',\n",
              " 'unsafe',\n",
              " 'than',\n",
              " 'taxis',\n",
              " 'Not',\n",
              " 'worth',\n",
              " 'the',\n",
              " 'extra',\n",
              " 'money',\n",
              " \"Wouldn't\",\n",
              " 'trust',\n",
              " 'the',\n",
              " 'person',\n",
              " 'flying',\n",
              " 'it',\n",
              " 'My',\n",
              " 'commute',\n",
              " 'is',\n",
              " 'fairly',\n",
              " 'efficient',\n",
              " 'I',\n",
              " 'think',\n",
              " \"it's\",\n",
              " 'more',\n",
              " 'dangerous',\n",
              " 'I',\n",
              " 'think',\n",
              " 'it',\n",
              " 'is',\n",
              " 'more',\n",
              " 'unsafe',\n",
              " 'than',\n",
              " 'taxis',\n",
              " 'Not',\n",
              " 'worth',\n",
              " 'the',\n",
              " 'extra',\n",
              " 'money',\n",
              " 'I',\n",
              " 'think',\n",
              " 'it',\n",
              " 'is',\n",
              " 'more',\n",
              " 'unsafe',\n",
              " 'than',\n",
              " 'taxis',\n",
              " \"Wouldn't\",\n",
              " 'trust',\n",
              " 'the',\n",
              " 'person',\n",
              " 'flying',\n",
              " 'it',\n",
              " 'I',\n",
              " 'think',\n",
              " 'it',\n",
              " 'is',\n",
              " 'more',\n",
              " 'unsafe',\n",
              " 'than',\n",
              " 'taxis',\n",
              " 'I',\n",
              " 'think',\n",
              " 'it',\n",
              " 'is',\n",
              " 'more',\n",
              " 'unsafe',\n",
              " 'than',\n",
              " 'taxis',\n",
              " 'I',\n",
              " 'think',\n",
              " 'it',\n",
              " 'is',\n",
              " 'more',\n",
              " 'unsafe',\n",
              " 'than',\n",
              " 'taxis',\n",
              " 'I',\n",
              " 'think',\n",
              " 'it',\n",
              " 'is',\n",
              " 'more',\n",
              " 'unsafe',\n",
              " 'than',\n",
              " 'taxis',\n",
              " 'My',\n",
              " 'commute',\n",
              " 'is',\n",
              " 'already',\n",
              " 'straightforward',\n",
              " 'I',\n",
              " 'think',\n",
              " 'it',\n",
              " 'is',\n",
              " 'more',\n",
              " 'unsafe',\n",
              " 'than',\n",
              " 'taxis',\n",
              " 'I',\n",
              " 'think',\n",
              " 'it',\n",
              " 'is',\n",
              " 'more',\n",
              " 'unsafe',\n",
              " 'than',\n",
              " 'taxis',\n",
              " \"Wouldn't\",\n",
              " 'trust',\n",
              " 'the',\n",
              " 'person',\n",
              " 'flying',\n",
              " 'it',\n",
              " \"It's\",\n",
              " 'dangerous',\n",
              " 'My',\n",
              " 'commute',\n",
              " 'is',\n",
              " 'already',\n",
              " 'straightforward',\n",
              " 'I',\n",
              " 'think',\n",
              " 'it',\n",
              " 'is',\n",
              " 'more',\n",
              " 'unsafe',\n",
              " 'than',\n",
              " 'taxis',\n",
              " 'It',\n",
              " 'would',\n",
              " 'be',\n",
              " 'too',\n",
              " 'expensive',\n",
              " 'It',\n",
              " 'would',\n",
              " 'be',\n",
              " 'too',\n",
              " 'expensive',\n",
              " 'It',\n",
              " 'would',\n",
              " 'be',\n",
              " 'too',\n",
              " 'expensive',\n",
              " 'Not',\n",
              " 'worth',\n",
              " 'the',\n",
              " 'extra',\n",
              " 'money',\n",
              " \"Wouldn't\",\n",
              " 'trust',\n",
              " 'the',\n",
              " 'person',\n",
              " 'flying',\n",
              " 'it',\n",
              " 'I',\n",
              " 'think',\n",
              " 'it',\n",
              " 'is',\n",
              " 'more',\n",
              " 'unsafe',\n",
              " 'than',\n",
              " 'taxis',\n",
              " \"Wouldn't\",\n",
              " 'trust',\n",
              " 'the',\n",
              " 'person',\n",
              " 'flying',\n",
              " 'it',\n",
              " \"It's\",\n",
              " 'unsafe',\n",
              " 'The',\n",
              " 'skies',\n",
              " 'would',\n",
              " 'get',\n",
              " 'just',\n",
              " 'as',\n",
              " 'crowded',\n",
              " 'as',\n",
              " 'the',\n",
              " 'streets',\n",
              " 'It',\n",
              " 'would',\n",
              " 'be',\n",
              " 'too',\n",
              " 'expensive',\n",
              " 'I',\n",
              " 'think',\n",
              " 'it',\n",
              " 'is',\n",
              " 'more',\n",
              " 'unsafe',\n",
              " 'than',\n",
              " 'taxis',\n",
              " 'The',\n",
              " 'skies',\n",
              " 'would',\n",
              " 'get',\n",
              " 'just',\n",
              " 'as',\n",
              " 'crowded',\n",
              " 'as',\n",
              " 'the',\n",
              " 'streets',\n",
              " 'It',\n",
              " 'would',\n",
              " 'be',\n",
              " 'too',\n",
              " 'expensive',\n",
              " 'The',\n",
              " 'skies',\n",
              " 'would',\n",
              " 'get',\n",
              " 'just',\n",
              " 'as',\n",
              " 'crowded',\n",
              " 'as',\n",
              " 'the',\n",
              " 'streets',\n",
              " 'The',\n",
              " 'skies',\n",
              " 'would',\n",
              " 'get',\n",
              " 'just',\n",
              " 'as',\n",
              " 'crowded',\n",
              " 'as',\n",
              " 'the',\n",
              " 'streets',\n",
              " \"Wouldn't\",\n",
              " 'trust',\n",
              " 'the',\n",
              " 'person',\n",
              " 'flying',\n",
              " 'it',\n",
              " 'I',\n",
              " 'think',\n",
              " 'it',\n",
              " 'is',\n",
              " 'more',\n",
              " 'unsafe',\n",
              " 'than',\n",
              " 'taxis',\n",
              " 'My',\n",
              " 'commute',\n",
              " 'is',\n",
              " 'already',\n",
              " 'straightforward',\n",
              " \"It's\",\n",
              " 'unsafe',\n",
              " 'My',\n",
              " 'commute',\n",
              " 'is',\n",
              " 'fairly',\n",
              " 'efficient',\n",
              " 'Not',\n",
              " 'worth',\n",
              " 'the',\n",
              " 'extra',\n",
              " 'money',\n",
              " 'Not',\n",
              " 'worth',\n",
              " 'the',\n",
              " 'extra',\n",
              " 'money',\n",
              " 'I',\n",
              " 'think',\n",
              " 'it',\n",
              " 'is',\n",
              " 'more',\n",
              " 'unsafe',\n",
              " 'than',\n",
              " 'taxis',\n",
              " 'Not',\n",
              " 'worth',\n",
              " 'the',\n",
              " 'extra',\n",
              " 'money',\n",
              " 'I',\n",
              " 'think',\n",
              " 'it',\n",
              " 'is',\n",
              " 'more',\n",
              " 'unsafe',\n",
              " 'than',\n",
              " 'taxis',\n",
              " 'It',\n",
              " 'would',\n",
              " 'be',\n",
              " 'too',\n",
              " 'expensive',\n",
              " \"Wouldn't\",\n",
              " 'trust',\n",
              " 'the',\n",
              " 'person',\n",
              " 'flying',\n",
              " 'it',\n",
              " 'I',\n",
              " 'think',\n",
              " 'it',\n",
              " 'is',\n",
              " 'more',\n",
              " 'unsafe',\n",
              " 'than',\n",
              " 'taxis',\n",
              " 'It',\n",
              " 'would',\n",
              " 'be',\n",
              " 'too',\n",
              " 'expensive',\n",
              " 'My',\n",
              " 'commute',\n",
              " 'is',\n",
              " 'already',\n",
              " 'straightforward',\n",
              " \"It's\",\n",
              " 'dangerous',\n",
              " 'I',\n",
              " 'think',\n",
              " 'it',\n",
              " 'is',\n",
              " 'more',\n",
              " 'unsafe',\n",
              " 'than',\n",
              " 'taxis',\n",
              " 'It',\n",
              " 'would',\n",
              " 'be',\n",
              " 'too',\n",
              " 'expensive',\n",
              " 'I',\n",
              " 'think',\n",
              " \"it's\",\n",
              " 'more',\n",
              " 'dangerous',\n",
              " 'It',\n",
              " 'would',\n",
              " 'be',\n",
              " 'too',\n",
              " 'expensive',\n",
              " 'It',\n",
              " 'would',\n",
              " 'be',\n",
              " 'too',\n",
              " 'expensive',\n",
              " 'I',\n",
              " 'think',\n",
              " 'it',\n",
              " 'is',\n",
              " 'more',\n",
              " 'unsafe',\n",
              " 'than',\n",
              " 'taxis',\n",
              " 'My',\n",
              " 'commute',\n",
              " 'is',\n",
              " 'already',\n",
              " 'straightforward',\n",
              " \"It's\",\n",
              " 'unsafe',\n",
              " \"It's\",\n",
              " 'dangerous',\n",
              " \"Wouldn't\",\n",
              " 'trust',\n",
              " 'the',\n",
              " 'person',\n",
              " 'flying',\n",
              " 'it',\n",
              " 'My',\n",
              " 'commute',\n",
              " 'is',\n",
              " 'fairly',\n",
              " 'efficient',\n",
              " \"It's\",\n",
              " 'unsafe',\n",
              " \"It's\",\n",
              " 'dangerous',\n",
              " 'I',\n",
              " 'think',\n",
              " \"it's\",\n",
              " 'more',\n",
              " 'dangerous',\n",
              " 'I',\n",
              " 'think',\n",
              " \"it's\",\n",
              " 'more',\n",
              " 'dangerous',\n",
              " 'My',\n",
              " 'commute',\n",
              " 'is',\n",
              " 'already',\n",
              " 'straightforward',\n",
              " 'I',\n",
              " 'think',\n",
              " \"it's\",\n",
              " 'more',\n",
              " 'dangerous',\n",
              " \"Wouldn't\",\n",
              " 'trust',\n",
              " 'the',\n",
              " 'person',\n",
              " 'flying',\n",
              " 'it',\n",
              " 'It',\n",
              " 'would',\n",
              " 'be',\n",
              " 'too',\n",
              " 'expensive',\n",
              " 'I',\n",
              " 'think',\n",
              " 'it',\n",
              " 'is',\n",
              " 'more',\n",
              " 'unsafe',\n",
              " 'than',\n",
              " 'taxis',\n",
              " 'It',\n",
              " 'would',\n",
              " 'be',\n",
              " 'too',\n",
              " 'expensive',\n",
              " 'I',\n",
              " 'think',\n",
              " 'it',\n",
              " 'is',\n",
              " 'more',\n",
              " 'unsafe',\n",
              " 'than',\n",
              " 'taxis',\n",
              " \"It's\",\n",
              " 'unsafe',\n",
              " 'The',\n",
              " 'skies',\n",
              " 'would',\n",
              " 'get',\n",
              " 'just',\n",
              " 'as',\n",
              " 'crowded',\n",
              " 'as',\n",
              " 'the',\n",
              " 'streets',\n",
              " \"It's\",\n",
              " 'unsafe',\n",
              " \"It's\",\n",
              " 'unsafe',\n",
              " 'Not',\n",
              " 'worth',\n",
              " 'the',\n",
              " 'extra',\n",
              " 'money',\n",
              " \"It's\",\n",
              " 'dangerous',\n",
              " \"Wouldn't\",\n",
              " 'trust',\n",
              " 'the',\n",
              " 'person',\n",
              " 'flying',\n",
              " 'it',\n",
              " \"Wouldn't\",\n",
              " 'trust',\n",
              " 'the',\n",
              " 'person',\n",
              " 'flying',\n",
              " 'it',\n",
              " 'I',\n",
              " 'think',\n",
              " 'it',\n",
              " 'is',\n",
              " 'more',\n",
              " 'unsafe',\n",
              " 'than',\n",
              " 'taxis',\n",
              " 'Not',\n",
              " 'worth',\n",
              " 'the',\n",
              " 'extra',\n",
              " 'money',\n",
              " 'Not',\n",
              " 'worth',\n",
              " 'the',\n",
              " 'extra',\n",
              " 'money',\n",
              " 'It',\n",
              " 'would',\n",
              " 'be',\n",
              " 'too',\n",
              " 'expensive',\n",
              " \"Wouldn't\",\n",
              " 'trust',\n",
              " 'the',\n",
              " 'person',\n",
              " 'flying',\n",
              " 'it',\n",
              " 'Not',\n",
              " 'worth',\n",
              " 'the',\n",
              " 'extra',\n",
              " 'money',\n",
              " \"Wouldn't\",\n",
              " 'trust',\n",
              " 'the',\n",
              " 'person',\n",
              " 'flying',\n",
              " 'it',\n",
              " 'I',\n",
              " 'think',\n",
              " 'it',\n",
              " 'is',\n",
              " 'more',\n",
              " 'unsafe',\n",
              " 'than',\n",
              " 'taxis',\n",
              " 'Not',\n",
              " 'worth',\n",
              " 'the',\n",
              " 'extra',\n",
              " 'money']"
            ]
          },
          "metadata": {
            "tags": []
          },
          "execution_count": 169
        }
      ]
    },
    {
      "cell_type": "code",
      "metadata": {
        "id": "Dt9ZNZBBCc2r"
      },
      "source": [
        "from collections import Counter"
      ],
      "execution_count": null,
      "outputs": []
    },
    {
      "cell_type": "code",
      "metadata": {
        "colab": {
          "base_uri": "https://localhost:8080/"
        },
        "id": "dQMj2XS-CNIg",
        "outputId": "8d706a0d-1ad8-477d-b588-2f2d3a8de37f"
      },
      "source": [
        "counter_aux = dict(Counter(list_aux))\n",
        "\n",
        "counter_aux"
      ],
      "execution_count": null,
      "outputs": [
        {
          "output_type": "execute_result",
          "data": {
            "text/plain": [
              "{'I': 28,\n",
              " 'It': 15,\n",
              " \"It's\": 14,\n",
              " 'My': 9,\n",
              " 'Not': 13,\n",
              " 'The': 5,\n",
              " \"Wouldn't\": 15,\n",
              " 'already': 6,\n",
              " 'as': 10,\n",
              " 'be': 15,\n",
              " 'commute': 9,\n",
              " 'crowded': 5,\n",
              " 'dangerous': 11,\n",
              " 'efficient': 3,\n",
              " 'expensive': 15,\n",
              " 'extra': 13,\n",
              " 'fairly': 3,\n",
              " 'flying': 15,\n",
              " 'get': 5,\n",
              " 'is': 32,\n",
              " 'it': 38,\n",
              " \"it's\": 5,\n",
              " 'just': 5,\n",
              " 'money': 13,\n",
              " 'more': 28,\n",
              " 'person': 15,\n",
              " 'skies': 5,\n",
              " 'straightforward': 6,\n",
              " 'streets': 5,\n",
              " 'taxis': 23,\n",
              " 'than': 23,\n",
              " 'the': 33,\n",
              " 'think': 28,\n",
              " 'too': 15,\n",
              " 'trust': 15,\n",
              " 'unsafe': 31,\n",
              " 'worth': 13,\n",
              " 'would': 20}"
            ]
          },
          "metadata": {
            "tags": []
          },
          "execution_count": 0
        },
        {
          "output_type": "execute_result",
          "data": {
            "text/plain": [
              "{'I': 28,\n",
              " 'It': 15,\n",
              " \"It's\": 14,\n",
              " 'My': 9,\n",
              " 'Not': 13,\n",
              " 'The': 5,\n",
              " \"Wouldn't\": 15,\n",
              " 'already': 6,\n",
              " 'as': 10,\n",
              " 'be': 15,\n",
              " 'commute': 9,\n",
              " 'crowded': 5,\n",
              " 'dangerous': 11,\n",
              " 'efficient': 3,\n",
              " 'expensive': 15,\n",
              " 'extra': 13,\n",
              " 'fairly': 3,\n",
              " 'flying': 15,\n",
              " 'get': 5,\n",
              " 'is': 32,\n",
              " 'it': 38,\n",
              " \"it's\": 5,\n",
              " 'just': 5,\n",
              " 'money': 13,\n",
              " 'more': 28,\n",
              " 'person': 15,\n",
              " 'skies': 5,\n",
              " 'straightforward': 6,\n",
              " 'streets': 5,\n",
              " 'taxis': 23,\n",
              " 'than': 23,\n",
              " 'the': 33,\n",
              " 'think': 28,\n",
              " 'too': 15,\n",
              " 'trust': 15,\n",
              " 'unsafe': 31,\n",
              " 'worth': 13,\n",
              " 'would': 20}"
            ]
          },
          "metadata": {
            "tags": []
          },
          "execution_count": 171
        }
      ]
    },
    {
      "cell_type": "code",
      "metadata": {
        "id": "RNvjbcVfeeqs"
      },
      "source": [
        ""
      ],
      "execution_count": null,
      "outputs": []
    }
  ]
}